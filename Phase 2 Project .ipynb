{
 "cells": [
  {
   "cell_type": "markdown",
   "metadata": {
    "ExecuteTime": {
     "end_time": "2022-04-26T20:35:51.351346Z",
     "start_time": "2022-04-26T20:35:51.144871Z"
    }
   },
   "source": [
    "# Hello Home A Local Real Estate Agency of King County \n",
    "\n",
    "**Authors:** Monique Hercules \n",
    "***"
   ]
  },
  {
   "cell_type": "markdown",
   "metadata": {},
   "source": [
    "## Overview\n"
   ]
  },
  {
   "cell_type": "markdown",
   "metadata": {},
   "source": [
    "An analysis of a local real estate agency in King County for insights on renovation projects to increase home sales. With the knowledge acquired we will be able to predict what type of renovation will impact the sale price of home the best. \n",
    "\n",
    "These new insights will help predict the sale budget as well as \n",
    "\n",
    "The dataset in use will be from King County. "
   ]
  },
  {
   "cell_type": "markdown",
   "metadata": {},
   "source": [
    "## Business Problem"
   ]
  },
  {
   "cell_type": "markdown",
   "metadata": {},
   "source": [
    "Our stakeholder are local real estate agency that help homeowners buy/sell homes. We will provide evidencial advice about how a  home renovation might increase the estimated value of their homes and by what amount. By targeting this information the real es\n",
    "tate agency will have highier KPI's "
   ]
  },
  {
   "cell_type": "markdown",
   "metadata": {},
   "source": [
    "## Data Understanding "
   ]
  },
  {
   "cell_type": "markdown",
   "metadata": {
    "ExecuteTime": {
     "end_time": "2022-04-26T21:40:38.231303Z",
     "start_time": "2022-04-26T21:40:38.195960Z"
    }
   },
   "source": [
    "Import revelant libraries, and inspect data "
   ]
  },
  {
   "cell_type": "code",
   "execution_count": 452,
   "metadata": {
    "ExecuteTime": {
     "end_time": "2022-05-20T04:53:10.339184Z",
     "start_time": "2022-05-20T04:53:10.262862Z"
    }
   },
   "outputs": [
    {
     "data": {
      "text/html": [
       "<div>\n",
       "<style scoped>\n",
       "    .dataframe tbody tr th:only-of-type {\n",
       "        vertical-align: middle;\n",
       "    }\n",
       "\n",
       "    .dataframe tbody tr th {\n",
       "        vertical-align: top;\n",
       "    }\n",
       "\n",
       "    .dataframe thead th {\n",
       "        text-align: right;\n",
       "    }\n",
       "</style>\n",
       "<table border=\"1\" class=\"dataframe\">\n",
       "  <thead>\n",
       "    <tr style=\"text-align: right;\">\n",
       "      <th></th>\n",
       "      <th>id</th>\n",
       "      <th>date</th>\n",
       "      <th>price</th>\n",
       "      <th>bedrooms</th>\n",
       "      <th>bathrooms</th>\n",
       "      <th>sqft_living</th>\n",
       "      <th>sqft_lot</th>\n",
       "      <th>floors</th>\n",
       "      <th>waterfront</th>\n",
       "      <th>view</th>\n",
       "      <th>...</th>\n",
       "      <th>grade</th>\n",
       "      <th>sqft_above</th>\n",
       "      <th>sqft_basement</th>\n",
       "      <th>yr_built</th>\n",
       "      <th>yr_renovated</th>\n",
       "      <th>zipcode</th>\n",
       "      <th>lat</th>\n",
       "      <th>long</th>\n",
       "      <th>sqft_living15</th>\n",
       "      <th>sqft_lot15</th>\n",
       "    </tr>\n",
       "  </thead>\n",
       "  <tbody>\n",
       "    <tr>\n",
       "      <th>0</th>\n",
       "      <td>7129300520</td>\n",
       "      <td>10/13/2014</td>\n",
       "      <td>221900.0</td>\n",
       "      <td>3</td>\n",
       "      <td>1.00</td>\n",
       "      <td>1180</td>\n",
       "      <td>5650</td>\n",
       "      <td>1.0</td>\n",
       "      <td>NaN</td>\n",
       "      <td>NONE</td>\n",
       "      <td>...</td>\n",
       "      <td>7 Average</td>\n",
       "      <td>1180</td>\n",
       "      <td>0.0</td>\n",
       "      <td>1955</td>\n",
       "      <td>0.0</td>\n",
       "      <td>98178</td>\n",
       "      <td>47.5112</td>\n",
       "      <td>-122.257</td>\n",
       "      <td>1340</td>\n",
       "      <td>5650</td>\n",
       "    </tr>\n",
       "    <tr>\n",
       "      <th>1</th>\n",
       "      <td>6414100192</td>\n",
       "      <td>12/9/2014</td>\n",
       "      <td>538000.0</td>\n",
       "      <td>3</td>\n",
       "      <td>2.25</td>\n",
       "      <td>2570</td>\n",
       "      <td>7242</td>\n",
       "      <td>2.0</td>\n",
       "      <td>NO</td>\n",
       "      <td>NONE</td>\n",
       "      <td>...</td>\n",
       "      <td>7 Average</td>\n",
       "      <td>2170</td>\n",
       "      <td>400.0</td>\n",
       "      <td>1951</td>\n",
       "      <td>1991.0</td>\n",
       "      <td>98125</td>\n",
       "      <td>47.7210</td>\n",
       "      <td>-122.319</td>\n",
       "      <td>1690</td>\n",
       "      <td>7639</td>\n",
       "    </tr>\n",
       "    <tr>\n",
       "      <th>2</th>\n",
       "      <td>5631500400</td>\n",
       "      <td>2/25/2015</td>\n",
       "      <td>180000.0</td>\n",
       "      <td>2</td>\n",
       "      <td>1.00</td>\n",
       "      <td>770</td>\n",
       "      <td>10000</td>\n",
       "      <td>1.0</td>\n",
       "      <td>NO</td>\n",
       "      <td>NONE</td>\n",
       "      <td>...</td>\n",
       "      <td>6 Low Average</td>\n",
       "      <td>770</td>\n",
       "      <td>0.0</td>\n",
       "      <td>1933</td>\n",
       "      <td>NaN</td>\n",
       "      <td>98028</td>\n",
       "      <td>47.7379</td>\n",
       "      <td>-122.233</td>\n",
       "      <td>2720</td>\n",
       "      <td>8062</td>\n",
       "    </tr>\n",
       "    <tr>\n",
       "      <th>3</th>\n",
       "      <td>2487200875</td>\n",
       "      <td>12/9/2014</td>\n",
       "      <td>604000.0</td>\n",
       "      <td>4</td>\n",
       "      <td>3.00</td>\n",
       "      <td>1960</td>\n",
       "      <td>5000</td>\n",
       "      <td>1.0</td>\n",
       "      <td>NO</td>\n",
       "      <td>NONE</td>\n",
       "      <td>...</td>\n",
       "      <td>7 Average</td>\n",
       "      <td>1050</td>\n",
       "      <td>910.0</td>\n",
       "      <td>1965</td>\n",
       "      <td>0.0</td>\n",
       "      <td>98136</td>\n",
       "      <td>47.5208</td>\n",
       "      <td>-122.393</td>\n",
       "      <td>1360</td>\n",
       "      <td>5000</td>\n",
       "    </tr>\n",
       "    <tr>\n",
       "      <th>4</th>\n",
       "      <td>1954400510</td>\n",
       "      <td>2/18/2015</td>\n",
       "      <td>510000.0</td>\n",
       "      <td>3</td>\n",
       "      <td>2.00</td>\n",
       "      <td>1680</td>\n",
       "      <td>8080</td>\n",
       "      <td>1.0</td>\n",
       "      <td>NO</td>\n",
       "      <td>NONE</td>\n",
       "      <td>...</td>\n",
       "      <td>8 Good</td>\n",
       "      <td>1680</td>\n",
       "      <td>0.0</td>\n",
       "      <td>1987</td>\n",
       "      <td>0.0</td>\n",
       "      <td>98074</td>\n",
       "      <td>47.6168</td>\n",
       "      <td>-122.045</td>\n",
       "      <td>1800</td>\n",
       "      <td>7503</td>\n",
       "    </tr>\n",
       "  </tbody>\n",
       "</table>\n",
       "<p>5 rows × 21 columns</p>\n",
       "</div>"
      ],
      "text/plain": [
       "           id        date     price  bedrooms  bathrooms  sqft_living  \\\n",
       "0  7129300520  10/13/2014  221900.0         3       1.00         1180   \n",
       "1  6414100192   12/9/2014  538000.0         3       2.25         2570   \n",
       "2  5631500400   2/25/2015  180000.0         2       1.00          770   \n",
       "3  2487200875   12/9/2014  604000.0         4       3.00         1960   \n",
       "4  1954400510   2/18/2015  510000.0         3       2.00         1680   \n",
       "\n",
       "   sqft_lot  floors waterfront  view  ...          grade sqft_above  \\\n",
       "0      5650     1.0        NaN  NONE  ...      7 Average       1180   \n",
       "1      7242     2.0         NO  NONE  ...      7 Average       2170   \n",
       "2     10000     1.0         NO  NONE  ...  6 Low Average        770   \n",
       "3      5000     1.0         NO  NONE  ...      7 Average       1050   \n",
       "4      8080     1.0         NO  NONE  ...         8 Good       1680   \n",
       "\n",
       "   sqft_basement yr_built  yr_renovated  zipcode      lat     long  \\\n",
       "0            0.0     1955           0.0    98178  47.5112 -122.257   \n",
       "1          400.0     1951        1991.0    98125  47.7210 -122.319   \n",
       "2            0.0     1933           NaN    98028  47.7379 -122.233   \n",
       "3          910.0     1965           0.0    98136  47.5208 -122.393   \n",
       "4            0.0     1987           0.0    98074  47.6168 -122.045   \n",
       "\n",
       "   sqft_living15  sqft_lot15  \n",
       "0           1340        5650  \n",
       "1           1690        7639  \n",
       "2           2720        8062  \n",
       "3           1360        5000  \n",
       "4           1800        7503  \n",
       "\n",
       "[5 rows x 21 columns]"
      ]
     },
     "execution_count": 452,
     "metadata": {},
     "output_type": "execute_result"
    }
   ],
   "source": [
    "import pandas as pd\n",
    "import numpy as np\n",
    "import seaborn as sns\n",
    "from sklearn.linear_model import LinearRegression\n",
    "import matplotlib.pyplot as plt\n",
    "import statsmodels.api as sm\n",
    "import scipy.stats as stats\n",
    "%matplotlib inline\n",
    "\n",
    "df = pd.read_csv(\"data/kc_house_data.csv\")\n",
    "df.head()"
   ]
  },
  {
   "cell_type": "code",
   "execution_count": 437,
   "metadata": {
    "ExecuteTime": {
     "end_time": "2022-05-20T04:44:33.163301Z",
     "start_time": "2022-05-20T04:44:33.106936Z"
    },
    "scrolled": true
   },
   "outputs": [
    {
     "data": {
      "text/html": [
       "<div>\n",
       "<style scoped>\n",
       "    .dataframe tbody tr th:only-of-type {\n",
       "        vertical-align: middle;\n",
       "    }\n",
       "\n",
       "    .dataframe tbody tr th {\n",
       "        vertical-align: top;\n",
       "    }\n",
       "\n",
       "    .dataframe thead th {\n",
       "        text-align: right;\n",
       "    }\n",
       "</style>\n",
       "<table border=\"1\" class=\"dataframe\">\n",
       "  <thead>\n",
       "    <tr style=\"text-align: right;\">\n",
       "      <th></th>\n",
       "      <th>id</th>\n",
       "      <th>price</th>\n",
       "      <th>bedrooms</th>\n",
       "      <th>bathrooms</th>\n",
       "      <th>sqft_living</th>\n",
       "      <th>sqft_lot</th>\n",
       "      <th>floors</th>\n",
       "      <th>sqft_above</th>\n",
       "      <th>yr_built</th>\n",
       "      <th>yr_renovated</th>\n",
       "      <th>zipcode</th>\n",
       "      <th>lat</th>\n",
       "      <th>long</th>\n",
       "      <th>sqft_living15</th>\n",
       "      <th>sqft_lot15</th>\n",
       "    </tr>\n",
       "  </thead>\n",
       "  <tbody>\n",
       "    <tr>\n",
       "      <th>count</th>\n",
       "      <td>2.159700e+04</td>\n",
       "      <td>2.159700e+04</td>\n",
       "      <td>21597.000000</td>\n",
       "      <td>21597.000000</td>\n",
       "      <td>21597.000000</td>\n",
       "      <td>2.159700e+04</td>\n",
       "      <td>21597.000000</td>\n",
       "      <td>21597.000000</td>\n",
       "      <td>21597.000000</td>\n",
       "      <td>17755.000000</td>\n",
       "      <td>21597.000000</td>\n",
       "      <td>21597.000000</td>\n",
       "      <td>21597.000000</td>\n",
       "      <td>21597.000000</td>\n",
       "      <td>21597.000000</td>\n",
       "    </tr>\n",
       "    <tr>\n",
       "      <th>mean</th>\n",
       "      <td>4.580474e+09</td>\n",
       "      <td>5.402966e+05</td>\n",
       "      <td>3.373200</td>\n",
       "      <td>2.115826</td>\n",
       "      <td>2080.321850</td>\n",
       "      <td>1.509941e+04</td>\n",
       "      <td>1.494096</td>\n",
       "      <td>1788.596842</td>\n",
       "      <td>1970.999676</td>\n",
       "      <td>83.636778</td>\n",
       "      <td>98077.951845</td>\n",
       "      <td>47.560093</td>\n",
       "      <td>-122.213982</td>\n",
       "      <td>1986.620318</td>\n",
       "      <td>12758.283512</td>\n",
       "    </tr>\n",
       "    <tr>\n",
       "      <th>std</th>\n",
       "      <td>2.876736e+09</td>\n",
       "      <td>3.673681e+05</td>\n",
       "      <td>0.926299</td>\n",
       "      <td>0.768984</td>\n",
       "      <td>918.106125</td>\n",
       "      <td>4.141264e+04</td>\n",
       "      <td>0.539683</td>\n",
       "      <td>827.759761</td>\n",
       "      <td>29.375234</td>\n",
       "      <td>399.946414</td>\n",
       "      <td>53.513072</td>\n",
       "      <td>0.138552</td>\n",
       "      <td>0.140724</td>\n",
       "      <td>685.230472</td>\n",
       "      <td>27274.441950</td>\n",
       "    </tr>\n",
       "    <tr>\n",
       "      <th>min</th>\n",
       "      <td>1.000102e+06</td>\n",
       "      <td>7.800000e+04</td>\n",
       "      <td>1.000000</td>\n",
       "      <td>0.500000</td>\n",
       "      <td>370.000000</td>\n",
       "      <td>5.200000e+02</td>\n",
       "      <td>1.000000</td>\n",
       "      <td>370.000000</td>\n",
       "      <td>1900.000000</td>\n",
       "      <td>0.000000</td>\n",
       "      <td>98001.000000</td>\n",
       "      <td>47.155900</td>\n",
       "      <td>-122.519000</td>\n",
       "      <td>399.000000</td>\n",
       "      <td>651.000000</td>\n",
       "    </tr>\n",
       "    <tr>\n",
       "      <th>25%</th>\n",
       "      <td>2.123049e+09</td>\n",
       "      <td>3.220000e+05</td>\n",
       "      <td>3.000000</td>\n",
       "      <td>1.750000</td>\n",
       "      <td>1430.000000</td>\n",
       "      <td>5.040000e+03</td>\n",
       "      <td>1.000000</td>\n",
       "      <td>1190.000000</td>\n",
       "      <td>1951.000000</td>\n",
       "      <td>0.000000</td>\n",
       "      <td>98033.000000</td>\n",
       "      <td>47.471100</td>\n",
       "      <td>-122.328000</td>\n",
       "      <td>1490.000000</td>\n",
       "      <td>5100.000000</td>\n",
       "    </tr>\n",
       "    <tr>\n",
       "      <th>50%</th>\n",
       "      <td>3.904930e+09</td>\n",
       "      <td>4.500000e+05</td>\n",
       "      <td>3.000000</td>\n",
       "      <td>2.250000</td>\n",
       "      <td>1910.000000</td>\n",
       "      <td>7.618000e+03</td>\n",
       "      <td>1.500000</td>\n",
       "      <td>1560.000000</td>\n",
       "      <td>1975.000000</td>\n",
       "      <td>0.000000</td>\n",
       "      <td>98065.000000</td>\n",
       "      <td>47.571800</td>\n",
       "      <td>-122.231000</td>\n",
       "      <td>1840.000000</td>\n",
       "      <td>7620.000000</td>\n",
       "    </tr>\n",
       "    <tr>\n",
       "      <th>75%</th>\n",
       "      <td>7.308900e+09</td>\n",
       "      <td>6.450000e+05</td>\n",
       "      <td>4.000000</td>\n",
       "      <td>2.500000</td>\n",
       "      <td>2550.000000</td>\n",
       "      <td>1.068500e+04</td>\n",
       "      <td>2.000000</td>\n",
       "      <td>2210.000000</td>\n",
       "      <td>1997.000000</td>\n",
       "      <td>0.000000</td>\n",
       "      <td>98118.000000</td>\n",
       "      <td>47.678000</td>\n",
       "      <td>-122.125000</td>\n",
       "      <td>2360.000000</td>\n",
       "      <td>10083.000000</td>\n",
       "    </tr>\n",
       "    <tr>\n",
       "      <th>max</th>\n",
       "      <td>9.900000e+09</td>\n",
       "      <td>7.700000e+06</td>\n",
       "      <td>33.000000</td>\n",
       "      <td>8.000000</td>\n",
       "      <td>13540.000000</td>\n",
       "      <td>1.651359e+06</td>\n",
       "      <td>3.500000</td>\n",
       "      <td>9410.000000</td>\n",
       "      <td>2015.000000</td>\n",
       "      <td>2015.000000</td>\n",
       "      <td>98199.000000</td>\n",
       "      <td>47.777600</td>\n",
       "      <td>-121.315000</td>\n",
       "      <td>6210.000000</td>\n",
       "      <td>871200.000000</td>\n",
       "    </tr>\n",
       "  </tbody>\n",
       "</table>\n",
       "</div>"
      ],
      "text/plain": [
       "                 id         price      bedrooms     bathrooms   sqft_living  \\\n",
       "count  2.159700e+04  2.159700e+04  21597.000000  21597.000000  21597.000000   \n",
       "mean   4.580474e+09  5.402966e+05      3.373200      2.115826   2080.321850   \n",
       "std    2.876736e+09  3.673681e+05      0.926299      0.768984    918.106125   \n",
       "min    1.000102e+06  7.800000e+04      1.000000      0.500000    370.000000   \n",
       "25%    2.123049e+09  3.220000e+05      3.000000      1.750000   1430.000000   \n",
       "50%    3.904930e+09  4.500000e+05      3.000000      2.250000   1910.000000   \n",
       "75%    7.308900e+09  6.450000e+05      4.000000      2.500000   2550.000000   \n",
       "max    9.900000e+09  7.700000e+06     33.000000      8.000000  13540.000000   \n",
       "\n",
       "           sqft_lot        floors    sqft_above      yr_built  yr_renovated  \\\n",
       "count  2.159700e+04  21597.000000  21597.000000  21597.000000  17755.000000   \n",
       "mean   1.509941e+04      1.494096   1788.596842   1970.999676     83.636778   \n",
       "std    4.141264e+04      0.539683    827.759761     29.375234    399.946414   \n",
       "min    5.200000e+02      1.000000    370.000000   1900.000000      0.000000   \n",
       "25%    5.040000e+03      1.000000   1190.000000   1951.000000      0.000000   \n",
       "50%    7.618000e+03      1.500000   1560.000000   1975.000000      0.000000   \n",
       "75%    1.068500e+04      2.000000   2210.000000   1997.000000      0.000000   \n",
       "max    1.651359e+06      3.500000   9410.000000   2015.000000   2015.000000   \n",
       "\n",
       "            zipcode           lat          long  sqft_living15     sqft_lot15  \n",
       "count  21597.000000  21597.000000  21597.000000   21597.000000   21597.000000  \n",
       "mean   98077.951845     47.560093   -122.213982    1986.620318   12758.283512  \n",
       "std       53.513072      0.138552      0.140724     685.230472   27274.441950  \n",
       "min    98001.000000     47.155900   -122.519000     399.000000     651.000000  \n",
       "25%    98033.000000     47.471100   -122.328000    1490.000000    5100.000000  \n",
       "50%    98065.000000     47.571800   -122.231000    1840.000000    7620.000000  \n",
       "75%    98118.000000     47.678000   -122.125000    2360.000000   10083.000000  \n",
       "max    98199.000000     47.777600   -121.315000    6210.000000  871200.000000  "
      ]
     },
     "execution_count": 437,
     "metadata": {},
     "output_type": "execute_result"
    }
   ],
   "source": [
    "df.describe()"
   ]
  },
  {
   "cell_type": "code",
   "execution_count": 438,
   "metadata": {
    "ExecuteTime": {
     "end_time": "2022-05-20T04:44:33.181274Z",
     "start_time": "2022-05-20T04:44:33.165724Z"
    }
   },
   "outputs": [
    {
     "name": "stdout",
     "output_type": "stream",
     "text": [
      "<class 'pandas.core.frame.DataFrame'>\n",
      "RangeIndex: 21597 entries, 0 to 21596\n",
      "Data columns (total 21 columns):\n",
      " #   Column         Non-Null Count  Dtype  \n",
      "---  ------         --------------  -----  \n",
      " 0   id             21597 non-null  int64  \n",
      " 1   date           21597 non-null  object \n",
      " 2   price          21597 non-null  float64\n",
      " 3   bedrooms       21597 non-null  int64  \n",
      " 4   bathrooms      21597 non-null  float64\n",
      " 5   sqft_living    21597 non-null  int64  \n",
      " 6   sqft_lot       21597 non-null  int64  \n",
      " 7   floors         21597 non-null  float64\n",
      " 8   waterfront     19221 non-null  object \n",
      " 9   view           21534 non-null  object \n",
      " 10  condition      21597 non-null  object \n",
      " 11  grade          21597 non-null  object \n",
      " 12  sqft_above     21597 non-null  int64  \n",
      " 13  sqft_basement  21597 non-null  object \n",
      " 14  yr_built       21597 non-null  int64  \n",
      " 15  yr_renovated   17755 non-null  float64\n",
      " 16  zipcode        21597 non-null  int64  \n",
      " 17  lat            21597 non-null  float64\n",
      " 18  long           21597 non-null  float64\n",
      " 19  sqft_living15  21597 non-null  int64  \n",
      " 20  sqft_lot15     21597 non-null  int64  \n",
      "dtypes: float64(6), int64(9), object(6)\n",
      "memory usage: 3.5+ MB\n"
     ]
    }
   ],
   "source": [
    "df.info()"
   ]
  },
  {
   "cell_type": "markdown",
   "metadata": {},
   "source": [
    "Identifying outlires in price"
   ]
  },
  {
   "cell_type": "code",
   "execution_count": 439,
   "metadata": {
    "ExecuteTime": {
     "end_time": "2022-05-20T04:44:33.190572Z",
     "start_time": "2022-05-20T04:44:33.183615Z"
    }
   },
   "outputs": [
    {
     "data": {
      "text/plain": [
       "count    2.159700e+04\n",
       "mean     5.402966e+05\n",
       "std      3.673681e+05\n",
       "min      7.800000e+04\n",
       "25%      3.220000e+05\n",
       "50%      4.500000e+05\n",
       "75%      6.450000e+05\n",
       "max      7.700000e+06\n",
       "Name: price, dtype: float64"
      ]
     },
     "execution_count": 439,
     "metadata": {},
     "output_type": "execute_result"
    }
   ],
   "source": [
    "df['price'].describe()"
   ]
  },
  {
   "cell_type": "code",
   "execution_count": 440,
   "metadata": {
    "ExecuteTime": {
     "end_time": "2022-05-20T05:15:03.010238Z",
     "start_time": "2022-05-20T05:15:03.003361Z"
    }
   },
   "outputs": [],
   "source": [
    "# df_preprocessed = df.loc[df['price'] < 1000000]\n",
    "df_preprocessed = df.copy()"
   ]
  },
  {
   "cell_type": "markdown",
   "metadata": {},
   "source": [
    "Exploratory Data Analysis for Understanding the Distribution of the Dataset"
   ]
  },
  {
   "cell_type": "markdown",
   "metadata": {},
   "source": [
    "Checking for Linearity relation for the target variable \"Price\""
   ]
  },
  {
   "cell_type": "code",
   "execution_count": 441,
   "metadata": {
    "ExecuteTime": {
     "end_time": "2022-05-20T05:15:06.255225Z",
     "start_time": "2022-05-20T05:15:04.912597Z"
    }
   },
   "outputs": [
    {
     "data": {
      "text/plain": [
       "<seaborn.axisgrid.JointGrid at 0x7f8bd77b9c10>"
      ]
     },
     "execution_count": 441,
     "metadata": {},
     "output_type": "execute_result"
    },
    {
     "data": {
      "image/png": "[encoded data removed]",
      "text/plain": [
       "<Figure size 432x432 with 3 Axes>"
      ]
     },
     "metadata": {
      "needs_background": "light"
     },
     "output_type": "display_data"
    }
   ],
   "source": [
    "# df_preprocessed = df_preprocessed.loc[df_preprocessed['bedrooms'] < 9]\n",
    "sns.jointplot(x='bedrooms',y='price' , data=df, kind='reg')\n",
    "#No linear relation, c\n",
    "#W Removed outliers "
   ]
  },
  {
   "cell_type": "markdown",
   "metadata": {},
   "source": [
    "## Verifying Assumptions for Linear Regression"
   ]
  },
  {
   "cell_type": "markdown",
   "metadata": {},
   "source": [
    "### Linearity"
   ]
  },
  {
   "cell_type": "code",
   "execution_count": 442,
   "metadata": {
    "ExecuteTime": {
     "end_time": "2022-05-20T04:44:37.084022Z",
     "start_time": "2022-05-20T04:44:35.184848Z"
    }
   },
   "outputs": [
    {
     "data": {
      "text/plain": [
       "<seaborn.axisgrid.JointGrid at 0x7f8bd866b340>"
      ]
     },
     "execution_count": 442,
     "metadata": {},
     "output_type": "execute_result"
    },
    {
     "data": {
      "image/png": "[encoded data removed]",
      "text/plain": [
       "<Figure size 432x432 with 3 Axes>"
      ]
     },
     "metadata": {
      "needs_background": "light"
     },
     "output_type": "display_data"
    }
   ],
   "source": [
    "\n",
    "sns.jointplot(x='sqft_above', y='price', data=df, kind='reg' )\n",
    "#A linear elation, remove outliers "
   ]
  },
  {
   "cell_type": "code",
   "execution_count": 443,
   "metadata": {
    "ExecuteTime": {
     "end_time": "2022-05-20T04:44:39.056117Z",
     "start_time": "2022-05-20T04:44:37.087416Z"
    }
   },
   "outputs": [
    {
     "data": {
      "text/plain": [
       "<seaborn.axisgrid.JointGrid at 0x7f8bd92e0b50>"
      ]
     },
     "execution_count": 443,
     "metadata": {},
     "output_type": "execute_result"
    },
    {
     "data": {
      "image/png": "[encoded data removed]",
      "text/plain": [
       "<Figure size 432x432 with 3 Axes>"
      ]
     },
     "metadata": {
      "needs_background": "light"
     },
     "output_type": "display_data"
    }
   ],
   "source": [
    "sns.jointplot(x='sqft_living', y='price', data=df, kind='reg' )\n",
    "#Linear Relation \n",
    "#Remove outlier "
   ]
  },
  {
   "cell_type": "code",
   "execution_count": 444,
   "metadata": {
    "ExecuteTime": {
     "end_time": "2022-05-20T04:44:45.567817Z",
     "start_time": "2022-05-20T04:44:39.058613Z"
    }
   },
   "outputs": [
    {
     "data": {
      "text/plain": [
       "<seaborn.axisgrid.JointGrid at 0x7f8bd9560fa0>"
      ]
     },
     "execution_count": 444,
     "metadata": {},
     "output_type": "execute_result"
    },
    {
     "data": {
      "image/png": "[encoded data removed]",
      "text/plain": [
       "<Figure size 432x432 with 3 Axes>"
      ]
     },
     "metadata": {
      "needs_background": "light"
     },
     "output_type": "display_data"
    }
   ],
   "source": [
    "sns.jointplot(x='sqft_lot', y='price', data=df, kind='reg')\n",
    "\n",
    "#no linear relation, will not be used\n",
    "#Remove outlier"
   ]
  },
  {
   "cell_type": "code",
   "execution_count": 445,
   "metadata": {
    "ExecuteTime": {
     "end_time": "2022-05-20T04:44:47.373162Z",
     "start_time": "2022-05-20T04:44:45.570089Z"
    }
   },
   "outputs": [
    {
     "data": {
      "text/plain": [
       "<seaborn.axisgrid.JointGrid at 0x7f8b9bee58e0>"
      ]
     },
     "execution_count": 445,
     "metadata": {},
     "output_type": "execute_result"
    },
    {
     "data": {
      "image/png": "[encoded data removed]",
      "text/plain": [
       "<Figure size 432x432 with 3 Axes>"
      ]
     },
     "metadata": {
      "needs_background": "light"
     },
     "output_type": "display_data"
    }
   ],
   "source": [
    "sns.jointplot(x='floors', y='price', data=df, kind='reg')\n",
    "#No linear relation\n",
    "#Remove outlier"
   ]
  },
  {
   "cell_type": "code",
   "execution_count": 446,
   "metadata": {
    "ExecuteTime": {
     "end_time": "2022-05-20T04:44:49.124594Z",
     "start_time": "2022-05-20T04:44:47.375797Z"
    }
   },
   "outputs": [
    {
     "data": {
      "text/plain": [
       "<seaborn.axisgrid.JointGrid at 0x7f8b9c4e1370>"
      ]
     },
     "execution_count": 446,
     "metadata": {},
     "output_type": "execute_result"
    },
    {
     "data": {
      "image/png": "[encoded data removed]",
      "text/plain": [
       "<Figure size 432x432 with 3 Axes>"
      ]
     },
     "metadata": {
      "needs_background": "light"
     },
     "output_type": "display_data"
    }
   ],
   "source": [
    "sns.jointplot(x='bathrooms', y='price', data=df, kind='reg')\n",
    "# plt.scatter(x='bathrooms', y='price', data=df)\n",
    "#linear relation \n",
    "#Remove outlier "
   ]
  },
  {
   "cell_type": "code",
   "execution_count": 447,
   "metadata": {
    "ExecuteTime": {
     "end_time": "2022-05-20T04:44:50.727629Z",
     "start_time": "2022-05-20T04:44:49.127051Z"
    }
   },
   "outputs": [
    {
     "data": {
      "text/plain": [
       "<seaborn.axisgrid.JointGrid at 0x7f8bd5e083a0>"
      ]
     },
     "execution_count": 447,
     "metadata": {},
     "output_type": "execute_result"
    },
    {
     "data": {
      "image/png": "[encoded data removed]",
      "text/plain": [
       "<Figure size 432x432 with 3 Axes>"
      ]
     },
     "metadata": {
      "needs_background": "light"
     },
     "output_type": "display_data"
    }
   ],
   "source": [
    "sns.jointplot(x='yr_built', y='price', data=df, kind='reg')\n",
    "#No Linear relation, will not be used\n",
    "#Remove outlier "
   ]
  },
  {
   "cell_type": "code",
   "execution_count": 448,
   "metadata": {
    "ExecuteTime": {
     "end_time": "2022-05-17T05:27:13.319301Z",
     "start_time": "2022-05-17T05:27:12.482865Z"
    }
   },
   "outputs": [
    {
     "ename": "UFuncTypeError",
     "evalue": "ufunc 'multiply' did not contain a loop with signature matching types (dtype('<U32'), dtype('<U32')) -> dtype('<U32')",
     "output_type": "error",
     "traceback": [
      "\u001b[0;31m---------------------------------------------------------------------------\u001b[0m",
      "\u001b[0;31mUFuncTypeError\u001b[0m                            Traceback (most recent call last)",
      "\u001b[0;32m<ipython-input-448-5d6c487b0cd1>\u001b[0m in \u001b[0;36m<module>\u001b[0;34m\u001b[0m\n\u001b[0;32m----> 1\u001b[0;31m \u001b[0msns\u001b[0m\u001b[0;34m.\u001b[0m\u001b[0mjointplot\u001b[0m\u001b[0;34m(\u001b[0m\u001b[0mx\u001b[0m\u001b[0;34m=\u001b[0m\u001b[0;34m'grade'\u001b[0m\u001b[0;34m,\u001b[0m \u001b[0my\u001b[0m\u001b[0;34m=\u001b[0m\u001b[0;34m'price'\u001b[0m\u001b[0;34m,\u001b[0m \u001b[0mdata\u001b[0m\u001b[0;34m=\u001b[0m\u001b[0mdf\u001b[0m\u001b[0;34m,\u001b[0m \u001b[0mkind\u001b[0m\u001b[0;34m=\u001b[0m\u001b[0;34m'reg'\u001b[0m\u001b[0;34m)\u001b[0m\u001b[0;34m\u001b[0m\u001b[0;34m\u001b[0m\u001b[0m\n\u001b[0m",
      "\u001b[0;32m~/opt/anaconda3/envs/learn-env/lib/python3.8/site-packages/seaborn/_decorators.py\u001b[0m in \u001b[0;36minner_f\u001b[0;34m(*args, **kwargs)\u001b[0m\n\u001b[1;32m     44\u001b[0m             )\n\u001b[1;32m     45\u001b[0m         \u001b[0mkwargs\u001b[0m\u001b[0;34m.\u001b[0m\u001b[0mupdate\u001b[0m\u001b[0;34m(\u001b[0m\u001b[0;34m{\u001b[0m\u001b[0mk\u001b[0m\u001b[0;34m:\u001b[0m \u001b[0marg\u001b[0m \u001b[0;32mfor\u001b[0m \u001b[0mk\u001b[0m\u001b[0;34m,\u001b[0m \u001b[0marg\u001b[0m \u001b[0;32min\u001b[0m \u001b[0mzip\u001b[0m\u001b[0;34m(\u001b[0m\u001b[0msig\u001b[0m\u001b[0;34m.\u001b[0m\u001b[0mparameters\u001b[0m\u001b[0;34m,\u001b[0m \u001b[0margs\u001b[0m\u001b[0;34m)\u001b[0m\u001b[0;34m}\u001b[0m\u001b[0;34m)\u001b[0m\u001b[0;34m\u001b[0m\u001b[0;34m\u001b[0m\u001b[0m\n\u001b[0;32m---> 46\u001b[0;31m         \u001b[0;32mreturn\u001b[0m \u001b[0mf\u001b[0m\u001b[0;34m(\u001b[0m\u001b[0;34m**\u001b[0m\u001b[0mkwargs\u001b[0m\u001b[0;34m)\u001b[0m\u001b[0;34m\u001b[0m\u001b[0;34m\u001b[0m\u001b[0m\n\u001b[0m\u001b[1;32m     47\u001b[0m     \u001b[0;32mreturn\u001b[0m \u001b[0minner_f\u001b[0m\u001b[0;34m\u001b[0m\u001b[0;34m\u001b[0m\u001b[0m\n\u001b[1;32m     48\u001b[0m \u001b[0;34m\u001b[0m\u001b[0m\n",
      "\u001b[0;32m~/opt/anaconda3/envs/learn-env/lib/python3.8/site-packages/seaborn/axisgrid.py\u001b[0m in \u001b[0;36mjointplot\u001b[0;34m(x, y, data, kind, color, height, ratio, space, dropna, xlim, ylim, marginal_ticks, joint_kws, marginal_kws, hue, palette, hue_order, hue_norm, **kwargs)\u001b[0m\n\u001b[1;32m   2135\u001b[0m \u001b[0;34m\u001b[0m\u001b[0m\n\u001b[1;32m   2136\u001b[0m         \u001b[0mjoint_kws\u001b[0m\u001b[0;34m.\u001b[0m\u001b[0msetdefault\u001b[0m\u001b[0;34m(\u001b[0m\u001b[0;34m\"color\"\u001b[0m\u001b[0;34m,\u001b[0m \u001b[0mcolor\u001b[0m\u001b[0;34m)\u001b[0m\u001b[0;34m\u001b[0m\u001b[0;34m\u001b[0m\u001b[0m\n\u001b[0;32m-> 2137\u001b[0;31m         \u001b[0mgrid\u001b[0m\u001b[0;34m.\u001b[0m\u001b[0mplot_joint\u001b[0m\u001b[0;34m(\u001b[0m\u001b[0mregplot\u001b[0m\u001b[0;34m,\u001b[0m \u001b[0;34m**\u001b[0m\u001b[0mjoint_kws\u001b[0m\u001b[0;34m)\u001b[0m\u001b[0;34m\u001b[0m\u001b[0;34m\u001b[0m\u001b[0m\n\u001b[0m\u001b[1;32m   2138\u001b[0m \u001b[0;34m\u001b[0m\u001b[0m\n\u001b[1;32m   2139\u001b[0m     \u001b[0;32melif\u001b[0m \u001b[0mkind\u001b[0m\u001b[0;34m.\u001b[0m\u001b[0mstartswith\u001b[0m\u001b[0;34m(\u001b[0m\u001b[0;34m\"resid\"\u001b[0m\u001b[0;34m)\u001b[0m\u001b[0;34m:\u001b[0m\u001b[0;34m\u001b[0m\u001b[0;34m\u001b[0m\u001b[0m\n",
      "\u001b[0;32m~/opt/anaconda3/envs/learn-env/lib/python3.8/site-packages/seaborn/axisgrid.py\u001b[0m in \u001b[0;36mplot_joint\u001b[0;34m(self, func, **kwargs)\u001b[0m\n\u001b[1;32m   1690\u001b[0m \u001b[0;34m\u001b[0m\u001b[0m\n\u001b[1;32m   1691\u001b[0m         \u001b[0;32mif\u001b[0m \u001b[0mstr\u001b[0m\u001b[0;34m(\u001b[0m\u001b[0mfunc\u001b[0m\u001b[0;34m.\u001b[0m\u001b[0m__module__\u001b[0m\u001b[0;34m)\u001b[0m\u001b[0;34m.\u001b[0m\u001b[0mstartswith\u001b[0m\u001b[0;34m(\u001b[0m\u001b[0;34m\"seaborn\"\u001b[0m\u001b[0;34m)\u001b[0m\u001b[0;34m:\u001b[0m\u001b[0;34m\u001b[0m\u001b[0;34m\u001b[0m\u001b[0m\n\u001b[0;32m-> 1692\u001b[0;31m             \u001b[0mfunc\u001b[0m\u001b[0;34m(\u001b[0m\u001b[0mx\u001b[0m\u001b[0;34m=\u001b[0m\u001b[0mself\u001b[0m\u001b[0;34m.\u001b[0m\u001b[0mx\u001b[0m\u001b[0;34m,\u001b[0m \u001b[0my\u001b[0m\u001b[0;34m=\u001b[0m\u001b[0mself\u001b[0m\u001b[0;34m.\u001b[0m\u001b[0my\u001b[0m\u001b[0;34m,\u001b[0m \u001b[0;34m**\u001b[0m\u001b[0mkwargs\u001b[0m\u001b[0;34m)\u001b[0m\u001b[0;34m\u001b[0m\u001b[0;34m\u001b[0m\u001b[0m\n\u001b[0m\u001b[1;32m   1693\u001b[0m         \u001b[0;32melse\u001b[0m\u001b[0;34m:\u001b[0m\u001b[0;34m\u001b[0m\u001b[0;34m\u001b[0m\u001b[0m\n\u001b[1;32m   1694\u001b[0m             \u001b[0mfunc\u001b[0m\u001b[0;34m(\u001b[0m\u001b[0mself\u001b[0m\u001b[0;34m.\u001b[0m\u001b[0mx\u001b[0m\u001b[0;34m,\u001b[0m \u001b[0mself\u001b[0m\u001b[0;34m.\u001b[0m\u001b[0my\u001b[0m\u001b[0;34m,\u001b[0m \u001b[0;34m**\u001b[0m\u001b[0mkwargs\u001b[0m\u001b[0;34m)\u001b[0m\u001b[0;34m\u001b[0m\u001b[0;34m\u001b[0m\u001b[0m\n",
      "\u001b[0;32m~/opt/anaconda3/envs/learn-env/lib/python3.8/site-packages/seaborn/_decorators.py\u001b[0m in \u001b[0;36minner_f\u001b[0;34m(*args, **kwargs)\u001b[0m\n\u001b[1;32m     44\u001b[0m             )\n\u001b[1;32m     45\u001b[0m         \u001b[0mkwargs\u001b[0m\u001b[0;34m.\u001b[0m\u001b[0mupdate\u001b[0m\u001b[0;34m(\u001b[0m\u001b[0;34m{\u001b[0m\u001b[0mk\u001b[0m\u001b[0;34m:\u001b[0m \u001b[0marg\u001b[0m \u001b[0;32mfor\u001b[0m \u001b[0mk\u001b[0m\u001b[0;34m,\u001b[0m \u001b[0marg\u001b[0m \u001b[0;32min\u001b[0m \u001b[0mzip\u001b[0m\u001b[0;34m(\u001b[0m\u001b[0msig\u001b[0m\u001b[0;34m.\u001b[0m\u001b[0mparameters\u001b[0m\u001b[0;34m,\u001b[0m \u001b[0margs\u001b[0m\u001b[0;34m)\u001b[0m\u001b[0;34m}\u001b[0m\u001b[0;34m)\u001b[0m\u001b[0;34m\u001b[0m\u001b[0;34m\u001b[0m\u001b[0m\n\u001b[0;32m---> 46\u001b[0;31m         \u001b[0;32mreturn\u001b[0m \u001b[0mf\u001b[0m\u001b[0;34m(\u001b[0m\u001b[0;34m**\u001b[0m\u001b[0mkwargs\u001b[0m\u001b[0;34m)\u001b[0m\u001b[0;34m\u001b[0m\u001b[0;34m\u001b[0m\u001b[0m\n\u001b[0m\u001b[1;32m     47\u001b[0m     \u001b[0;32mreturn\u001b[0m \u001b[0minner_f\u001b[0m\u001b[0;34m\u001b[0m\u001b[0;34m\u001b[0m\u001b[0m\n\u001b[1;32m     48\u001b[0m \u001b[0;34m\u001b[0m\u001b[0m\n",
      "\u001b[0;32m~/opt/anaconda3/envs/learn-env/lib/python3.8/site-packages/seaborn/regression.py\u001b[0m in \u001b[0;36mregplot\u001b[0;34m(x, y, data, x_estimator, x_bins, x_ci, scatter, fit_reg, ci, n_boot, units, seed, order, logistic, lowess, robust, logx, x_partial, y_partial, truncate, dropna, x_jitter, y_jitter, label, color, marker, scatter_kws, line_kws, ax)\u001b[0m\n\u001b[1;32m    833\u001b[0m     \u001b[0mscatter_kws\u001b[0m\u001b[0;34m[\u001b[0m\u001b[0;34m\"marker\"\u001b[0m\u001b[0;34m]\u001b[0m \u001b[0;34m=\u001b[0m \u001b[0mmarker\u001b[0m\u001b[0;34m\u001b[0m\u001b[0;34m\u001b[0m\u001b[0m\n\u001b[1;32m    834\u001b[0m     \u001b[0mline_kws\u001b[0m \u001b[0;34m=\u001b[0m \u001b[0;34m{\u001b[0m\u001b[0;34m}\u001b[0m \u001b[0;32mif\u001b[0m \u001b[0mline_kws\u001b[0m \u001b[0;32mis\u001b[0m \u001b[0;32mNone\u001b[0m \u001b[0;32melse\u001b[0m \u001b[0mcopy\u001b[0m\u001b[0;34m.\u001b[0m\u001b[0mcopy\u001b[0m\u001b[0;34m(\u001b[0m\u001b[0mline_kws\u001b[0m\u001b[0;34m)\u001b[0m\u001b[0;34m\u001b[0m\u001b[0;34m\u001b[0m\u001b[0m\n\u001b[0;32m--> 835\u001b[0;31m     \u001b[0mplotter\u001b[0m\u001b[0;34m.\u001b[0m\u001b[0mplot\u001b[0m\u001b[0;34m(\u001b[0m\u001b[0max\u001b[0m\u001b[0;34m,\u001b[0m \u001b[0mscatter_kws\u001b[0m\u001b[0;34m,\u001b[0m \u001b[0mline_kws\u001b[0m\u001b[0;34m)\u001b[0m\u001b[0;34m\u001b[0m\u001b[0;34m\u001b[0m\u001b[0m\n\u001b[0m\u001b[1;32m    836\u001b[0m     \u001b[0;32mreturn\u001b[0m \u001b[0max\u001b[0m\u001b[0;34m\u001b[0m\u001b[0;34m\u001b[0m\u001b[0m\n\u001b[1;32m    837\u001b[0m \u001b[0;34m\u001b[0m\u001b[0m\n",
      "\u001b[0;32m~/opt/anaconda3/envs/learn-env/lib/python3.8/site-packages/seaborn/regression.py\u001b[0m in \u001b[0;36mplot\u001b[0;34m(self, ax, scatter_kws, line_kws)\u001b[0m\n\u001b[1;32m    368\u001b[0m \u001b[0;34m\u001b[0m\u001b[0m\n\u001b[1;32m    369\u001b[0m         \u001b[0;32mif\u001b[0m \u001b[0mself\u001b[0m\u001b[0;34m.\u001b[0m\u001b[0mfit_reg\u001b[0m\u001b[0;34m:\u001b[0m\u001b[0;34m\u001b[0m\u001b[0;34m\u001b[0m\u001b[0m\n\u001b[0;32m--> 370\u001b[0;31m             \u001b[0mself\u001b[0m\u001b[0;34m.\u001b[0m\u001b[0mlineplot\u001b[0m\u001b[0;34m(\u001b[0m\u001b[0max\u001b[0m\u001b[0;34m,\u001b[0m \u001b[0mline_kws\u001b[0m\u001b[0;34m)\u001b[0m\u001b[0;34m\u001b[0m\u001b[0;34m\u001b[0m\u001b[0m\n\u001b[0m\u001b[1;32m    371\u001b[0m \u001b[0;34m\u001b[0m\u001b[0m\n\u001b[1;32m    372\u001b[0m         \u001b[0;31m# Label the axes\u001b[0m\u001b[0;34m\u001b[0m\u001b[0;34m\u001b[0m\u001b[0;34m\u001b[0m\u001b[0m\n",
      "\u001b[0;32m~/opt/anaconda3/envs/learn-env/lib/python3.8/site-packages/seaborn/regression.py\u001b[0m in \u001b[0;36mlineplot\u001b[0;34m(self, ax, kws)\u001b[0m\n\u001b[1;32m    411\u001b[0m         \u001b[0;34m\"\"\"Draw the model.\"\"\"\u001b[0m\u001b[0;34m\u001b[0m\u001b[0;34m\u001b[0m\u001b[0m\n\u001b[1;32m    412\u001b[0m         \u001b[0;31m# Fit the regression model\u001b[0m\u001b[0;34m\u001b[0m\u001b[0;34m\u001b[0m\u001b[0;34m\u001b[0m\u001b[0m\n\u001b[0;32m--> 413\u001b[0;31m         \u001b[0mgrid\u001b[0m\u001b[0;34m,\u001b[0m \u001b[0myhat\u001b[0m\u001b[0;34m,\u001b[0m \u001b[0merr_bands\u001b[0m \u001b[0;34m=\u001b[0m \u001b[0mself\u001b[0m\u001b[0;34m.\u001b[0m\u001b[0mfit_regression\u001b[0m\u001b[0;34m(\u001b[0m\u001b[0max\u001b[0m\u001b[0;34m)\u001b[0m\u001b[0;34m\u001b[0m\u001b[0;34m\u001b[0m\u001b[0m\n\u001b[0m\u001b[1;32m    414\u001b[0m         \u001b[0medges\u001b[0m \u001b[0;34m=\u001b[0m \u001b[0mgrid\u001b[0m\u001b[0;34m[\u001b[0m\u001b[0;36m0\u001b[0m\u001b[0;34m]\u001b[0m\u001b[0;34m,\u001b[0m \u001b[0mgrid\u001b[0m\u001b[0;34m[\u001b[0m\u001b[0;34m-\u001b[0m\u001b[0;36m1\u001b[0m\u001b[0;34m]\u001b[0m\u001b[0;34m\u001b[0m\u001b[0;34m\u001b[0m\u001b[0m\n\u001b[1;32m    415\u001b[0m \u001b[0;34m\u001b[0m\u001b[0m\n",
      "\u001b[0;32m~/opt/anaconda3/envs/learn-env/lib/python3.8/site-packages/seaborn/regression.py\u001b[0m in \u001b[0;36mfit_regression\u001b[0;34m(self, ax, x_range, grid)\u001b[0m\n\u001b[1;32m    199\u001b[0m                 \u001b[0;32melse\u001b[0m\u001b[0;34m:\u001b[0m\u001b[0;34m\u001b[0m\u001b[0;34m\u001b[0m\u001b[0m\n\u001b[1;32m    200\u001b[0m                     \u001b[0mx_min\u001b[0m\u001b[0;34m,\u001b[0m \u001b[0mx_max\u001b[0m \u001b[0;34m=\u001b[0m \u001b[0max\u001b[0m\u001b[0;34m.\u001b[0m\u001b[0mget_xlim\u001b[0m\u001b[0;34m(\u001b[0m\u001b[0;34m)\u001b[0m\u001b[0;34m\u001b[0m\u001b[0;34m\u001b[0m\u001b[0m\n\u001b[0;32m--> 201\u001b[0;31m             \u001b[0mgrid\u001b[0m \u001b[0;34m=\u001b[0m \u001b[0mnp\u001b[0m\u001b[0;34m.\u001b[0m\u001b[0mlinspace\u001b[0m\u001b[0;34m(\u001b[0m\u001b[0mx_min\u001b[0m\u001b[0;34m,\u001b[0m \u001b[0mx_max\u001b[0m\u001b[0;34m,\u001b[0m \u001b[0;36m100\u001b[0m\u001b[0;34m)\u001b[0m\u001b[0;34m\u001b[0m\u001b[0;34m\u001b[0m\u001b[0m\n\u001b[0m\u001b[1;32m    202\u001b[0m         \u001b[0mci\u001b[0m \u001b[0;34m=\u001b[0m \u001b[0mself\u001b[0m\u001b[0;34m.\u001b[0m\u001b[0mci\u001b[0m\u001b[0;34m\u001b[0m\u001b[0;34m\u001b[0m\u001b[0m\n\u001b[1;32m    203\u001b[0m \u001b[0;34m\u001b[0m\u001b[0m\n",
      "\u001b[0;32m<__array_function__ internals>\u001b[0m in \u001b[0;36mlinspace\u001b[0;34m(*args, **kwargs)\u001b[0m\n",
      "\u001b[0;32m~/opt/anaconda3/envs/learn-env/lib/python3.8/site-packages/numpy/core/function_base.py\u001b[0m in \u001b[0;36mlinspace\u001b[0;34m(start, stop, num, endpoint, retstep, dtype, axis)\u001b[0m\n\u001b[1;32m    127\u001b[0m     \u001b[0;31m# Convert float/complex array scalars to float, gh-3504\u001b[0m\u001b[0;34m\u001b[0m\u001b[0;34m\u001b[0m\u001b[0;34m\u001b[0m\u001b[0m\n\u001b[1;32m    128\u001b[0m     \u001b[0;31m# and make sure one can use variables that have an __array_interface__, gh-6634\u001b[0m\u001b[0;34m\u001b[0m\u001b[0;34m\u001b[0m\u001b[0;34m\u001b[0m\u001b[0m\n\u001b[0;32m--> 129\u001b[0;31m     \u001b[0mstart\u001b[0m \u001b[0;34m=\u001b[0m \u001b[0masanyarray\u001b[0m\u001b[0;34m(\u001b[0m\u001b[0mstart\u001b[0m\u001b[0;34m)\u001b[0m \u001b[0;34m*\u001b[0m \u001b[0;36m1.0\u001b[0m\u001b[0;34m\u001b[0m\u001b[0;34m\u001b[0m\u001b[0m\n\u001b[0m\u001b[1;32m    130\u001b[0m     \u001b[0mstop\u001b[0m  \u001b[0;34m=\u001b[0m \u001b[0masanyarray\u001b[0m\u001b[0;34m(\u001b[0m\u001b[0mstop\u001b[0m\u001b[0;34m)\u001b[0m  \u001b[0;34m*\u001b[0m \u001b[0;36m1.0\u001b[0m\u001b[0;34m\u001b[0m\u001b[0;34m\u001b[0m\u001b[0m\n\u001b[1;32m    131\u001b[0m \u001b[0;34m\u001b[0m\u001b[0m\n",
      "\u001b[0;31mUFuncTypeError\u001b[0m: ufunc 'multiply' did not contain a loop with signature matching types (dtype('<U32'), dtype('<U32')) -> dtype('<U32')"
     ]
    },
    {
     "data": {
      "image/png": "[encoded data removed]",
      "text/plain": [
       "<Figure size 432x432 with 3 Axes>"
      ]
     },
     "metadata": {
      "needs_background": "light"
     },
     "output_type": "display_data"
    }
   ],
   "source": [
    "sns.jointplot(x='grade', y='price', data=df, kind='reg')"
   ]
  },
  {
   "cell_type": "code",
   "execution_count": null,
   "metadata": {
    "ExecuteTime": {
     "end_time": "2022-05-17T05:27:13.321922Z",
     "start_time": "2022-05-17T05:27:04.250Z"
    }
   },
   "outputs": [],
   "source": [
    "sns.jointplot(x='condition', y='price', data=df, kind='reg')"
   ]
  },
  {
   "cell_type": "markdown",
   "metadata": {},
   "source": [
    "### Normality"
   ]
  },
  {
   "cell_type": "code",
   "execution_count": 453,
   "metadata": {
    "ExecuteTime": {
     "end_time": "2022-05-20T04:55:16.765378Z",
     "start_time": "2022-05-20T04:55:12.864824Z"
    }
   },
   "outputs": [
    {
     "data": {
      "image/png": "[encoded data removed]",
      "text/plain": [
       "<Figure size 432x288 with 1 Axes>"
      ]
     },
     "metadata": {
      "needs_background": "light"
     },
     "output_type": "display_data"
    },
    {
     "data": {
      "image/png": "[encoded data removed]",
      "text/plain": [
       "<Figure size 432x288 with 1 Axes>"
      ]
     },
     "metadata": {
      "needs_background": "light"
     },
     "output_type": "display_data"
    },
    {
     "data": {
      "image/png": "[encoded data removed]",
      "text/plain": [
       "<Figure size 432x288 with 1 Axes>"
      ]
     },
     "metadata": {
      "needs_background": "light"
     },
     "output_type": "display_data"
    },
    {
     "data": {
      "image/png": "[encoded data removed]",
      "text/plain": [
       "<Figure size 432x288 with 1 Axes>"
      ]
     },
     "metadata": {
      "needs_background": "light"
     },
     "output_type": "display_data"
    },
    {
     "data": {
      "image/png": "[encoded data removed]",
      "text/plain": [
       "<Figure size 432x288 with 1 Axes>"
      ]
     },
     "metadata": {
      "needs_background": "light"
     },
     "output_type": "display_data"
    },
    {
     "data": {
      "image/png": "[encoded data removed]",
      "text/plain": [
       "<Figure size 432x288 with 1 Axes>"
      ]
     },
     "metadata": {
      "needs_background": "light"
     },
     "output_type": "display_data"
    },
    {
     "data": {
      "image/png": "[encoded data removed]",
      "text/plain": [
       "<Figure size 432x288 with 1 Axes>"
      ]
     },
     "metadata": {
      "needs_background": "light"
     },
     "output_type": "display_data"
    },
    {
     "data": {
      "image/png": "[encoded data removed]",
      "text/plain": [
       "<Figure size 432x288 with 1 Axes>"
      ]
     },
     "metadata": {
      "needs_background": "light"
     },
     "output_type": "display_data"
    }
   ],
   "source": [
    "def plotNormality(df, column):\n",
    "    df[column].plot.hist(title='KDE and Histogram for ' + column, density=True, label= column+' histogram')\n",
    "    df[column].plot.kde(label=column+' kde')\n",
    "    plt.legend()\n",
    "    plt.show()\n",
    "\n",
    "numerical_features = ['bedrooms', 'bathrooms', 'sqft_above', 'sqft_living', 'sqft_lot', 'sqft_above', 'yr_built', 'price']\n",
    "for column in numerical_features:\n",
    "    plotNormality(df, column)"
   ]
  },
  {
   "cell_type": "code",
   "execution_count": 531,
   "metadata": {},
   "outputs": [
    {
     "data": {
      "text/plain": [
       "array([[<AxesSubplot:title={'center':'bedrooms'}>,\n",
       "        <AxesSubplot:title={'center':'bathrooms'}>],\n",
       "       [<AxesSubplot:title={'center':'sqft_living'}>,\n",
       "        <AxesSubplot:title={'center':'yr_built'}>]], dtype=object)"
      ]
     },
     "execution_count": 531,
     "metadata": {},
     "output_type": "execute_result"
    },
    {
     "data": {
      "image/png": "[encoded data removed]",
      "text/plain": [
       "<Figure size 1440x720 with 4 Axes>"
      ]
     },
     "metadata": {
      "needs_background": "light"
     },
     "output_type": "display_data"
    }
   ],
   "source": [
    "non_normal = ['bedrooms', 'bathrooms', 'sqft_living', 'yr_built']\n",
    "df_cleaned = df.copy()\n",
    "for feat in non_normal:\n",
    "    df_cleaned[feat] = df[feat].map(lambda x:np.log(x))\n",
    "df_cleaned.hist(column= non_normal, figsize=(20,10))\n"
   ]
  },
  {
   "cell_type": "code",
   "execution_count": 502,
   "metadata": {},
   "outputs": [
    {
     "data": {
      "text/html": [
       "<div>\n",
       "<style scoped>\n",
       "    .dataframe tbody tr th:only-of-type {\n",
       "        vertical-align: middle;\n",
       "    }\n",
       "\n",
       "    .dataframe tbody tr th {\n",
       "        vertical-align: top;\n",
       "    }\n",
       "\n",
       "    .dataframe thead th {\n",
       "        text-align: right;\n",
       "    }\n",
       "</style>\n",
       "<table border=\"1\" class=\"dataframe\">\n",
       "  <thead>\n",
       "    <tr style=\"text-align: right;\">\n",
       "      <th></th>\n",
       "      <th>bedrooms</th>\n",
       "      <th>bathrooms</th>\n",
       "      <th>sqft_living</th>\n",
       "      <th>yr_built</th>\n",
       "    </tr>\n",
       "  </thead>\n",
       "  <tbody>\n",
       "    <tr>\n",
       "      <th>count</th>\n",
       "      <td>21597.000000</td>\n",
       "      <td>21597.000000</td>\n",
       "      <td>21597.000000</td>\n",
       "      <td>21597.000000</td>\n",
       "    </tr>\n",
       "    <tr>\n",
       "      <th>mean</th>\n",
       "      <td>1.177819</td>\n",
       "      <td>0.677623</td>\n",
       "      <td>7.550720</td>\n",
       "      <td>7.586185</td>\n",
       "    </tr>\n",
       "    <tr>\n",
       "      <th>std</th>\n",
       "      <td>0.283167</td>\n",
       "      <td>0.392481</td>\n",
       "      <td>0.424191</td>\n",
       "      <td>0.014959</td>\n",
       "    </tr>\n",
       "    <tr>\n",
       "      <th>min</th>\n",
       "      <td>0.000000</td>\n",
       "      <td>-0.693147</td>\n",
       "      <td>5.913503</td>\n",
       "      <td>7.549609</td>\n",
       "    </tr>\n",
       "    <tr>\n",
       "      <th>25%</th>\n",
       "      <td>1.098612</td>\n",
       "      <td>0.559616</td>\n",
       "      <td>7.265430</td>\n",
       "      <td>7.576097</td>\n",
       "    </tr>\n",
       "    <tr>\n",
       "      <th>50%</th>\n",
       "      <td>1.098612</td>\n",
       "      <td>0.810930</td>\n",
       "      <td>7.554859</td>\n",
       "      <td>7.588324</td>\n",
       "    </tr>\n",
       "    <tr>\n",
       "      <th>75%</th>\n",
       "      <td>1.386294</td>\n",
       "      <td>0.916291</td>\n",
       "      <td>7.843849</td>\n",
       "      <td>7.599401</td>\n",
       "    </tr>\n",
       "    <tr>\n",
       "      <th>max</th>\n",
       "      <td>3.496508</td>\n",
       "      <td>2.079442</td>\n",
       "      <td>9.513404</td>\n",
       "      <td>7.608374</td>\n",
       "    </tr>\n",
       "  </tbody>\n",
       "</table>\n",
       "</div>"
      ],
      "text/plain": [
       "           bedrooms     bathrooms   sqft_living      yr_built\n",
       "count  21597.000000  21597.000000  21597.000000  21597.000000\n",
       "mean       1.177819      0.677623      7.550720      7.586185\n",
       "std        0.283167      0.392481      0.424191      0.014959\n",
       "min        0.000000     -0.693147      5.913503      7.549609\n",
       "25%        1.098612      0.559616      7.265430      7.576097\n",
       "50%        1.098612      0.810930      7.554859      7.588324\n",
       "75%        1.386294      0.916291      7.843849      7.599401\n",
       "max        3.496508      2.079442      9.513404      7.608374"
      ]
     },
     "execution_count": 502,
     "metadata": {},
     "output_type": "execute_result"
    }
   ],
   "source": [
    "df_cleaned[non_normal].describe()"
   ]
  },
  {
   "cell_type": "markdown",
   "metadata": {},
   "source": [
    "#### Histogram "
   ]
  },
  {
   "cell_type": "code",
   "execution_count": 503,
   "metadata": {
    "ExecuteTime": {
     "end_time": "2022-05-20T04:55:51.000312Z",
     "start_time": "2022-05-20T04:55:49.702807Z"
    }
   },
   "outputs": [
    {
     "data": {
      "text/plain": [
       "array([[<AxesSubplot:title={'center':'price'}>,\n",
       "        <AxesSubplot:title={'center':'bedrooms'}>,\n",
       "        <AxesSubplot:title={'center':'bathrooms'}>,\n",
       "        <AxesSubplot:title={'center':'sqft_living'}>],\n",
       "       [<AxesSubplot:title={'center':'sqft_lot'}>,\n",
       "        <AxesSubplot:title={'center':'sqft_above'}>,\n",
       "        <AxesSubplot:title={'center':'floors'}>,\n",
       "        <AxesSubplot:title={'center':'yr_built'}>],\n",
       "       [<AxesSubplot:title={'center':'zipcode'}>,\n",
       "        <AxesSubplot:title={'center':'long'}>,\n",
       "        <AxesSubplot:title={'center':'lat'}>,\n",
       "        <AxesSubplot:title={'center':'sqft_living15'}>],\n",
       "       [<AxesSubplot:title={'center':'sqft_lot15'}>, <AxesSubplot:>,\n",
       "        <AxesSubplot:>, <AxesSubplot:>]], dtype=object)"
      ]
     },
     "execution_count": 503,
     "metadata": {},
     "output_type": "execute_result"
    },
    {
     "data": {
      "image/png": "[encoded data removed]",
      "text/plain": [
       "<Figure size 1440x720 with 16 Axes>"
      ]
     },
     "metadata": {
      "needs_background": "light"
     },
     "output_type": "display_data"
    }
   ],
   "source": [
    "df_cleaned.hist(column= ['price', 'bedrooms', 'bathrooms', 'sqft_living', 'sqft_lot', 'sqft_above', 'floors', 'yr_built', 'zipcode', 'long', 'lat', 'sqft_living15', 'sqft_lot15'], figsize=(20,10))"
   ]
  },
  {
   "cell_type": "markdown",
   "metadata": {},
   "source": [
    "#### Q Test"
   ]
  },
  {
   "cell_type": "code",
   "execution_count": null,
   "metadata": {
    "ExecuteTime": {
     "end_time": "2022-05-17T05:39:59.907066Z",
     "start_time": "2022-05-17T05:39:55.294056Z"
    }
   },
   "outputs": [],
   "source": [
    "\n"
   ]
  },
  {
   "cell_type": "markdown",
   "metadata": {},
   "source": [
    "### Homoscedasticity"
   ]
  },
  {
   "cell_type": "markdown",
   "metadata": {},
   "source": [
    "Used to identify data that has missing data and to determine which data type is each column "
   ]
  },
  {
   "cell_type": "markdown",
   "metadata": {},
   "source": [
    "## Cleaning Data "
   ]
  },
  {
   "cell_type": "markdown",
   "metadata": {},
   "source": [
    "Fixing issues wrong with data before modeling, for better accuracy. "
   ]
  },
  {
   "cell_type": "markdown",
   "metadata": {},
   "source": [
    "## Checking Data Types "
   ]
  },
  {
   "cell_type": "code",
   "execution_count": 504,
   "metadata": {
    "ExecuteTime": {
     "end_time": "2022-05-17T04:50:19.769924Z",
     "start_time": "2022-05-17T04:50:19.751612Z"
    }
   },
   "outputs": [
    {
     "name": "stdout",
     "output_type": "stream",
     "text": [
      "<class 'pandas.core.frame.DataFrame'>\n",
      "RangeIndex: 21597 entries, 0 to 21596\n",
      "Data columns (total 21 columns):\n",
      " #   Column         Non-Null Count  Dtype  \n",
      "---  ------         --------------  -----  \n",
      " 0   id             21597 non-null  int64  \n",
      " 1   date           21597 non-null  object \n",
      " 2   price          21597 non-null  float64\n",
      " 3   bedrooms       21597 non-null  float64\n",
      " 4   bathrooms      21597 non-null  float64\n",
      " 5   sqft_living    21597 non-null  float64\n",
      " 6   sqft_lot       21597 non-null  int64  \n",
      " 7   floors         21597 non-null  float64\n",
      " 8   waterfront     19221 non-null  object \n",
      " 9   view           21534 non-null  object \n",
      " 10  condition      21597 non-null  object \n",
      " 11  grade          21597 non-null  object \n",
      " 12  sqft_above     21597 non-null  int64  \n",
      " 13  sqft_basement  21597 non-null  object \n",
      " 14  yr_built       21597 non-null  float64\n",
      " 15  yr_renovated   17755 non-null  float64\n",
      " 16  zipcode        21597 non-null  int64  \n",
      " 17  lat            21597 non-null  float64\n",
      " 18  long           21597 non-null  float64\n",
      " 19  sqft_living15  21597 non-null  int64  \n",
      " 20  sqft_lot15     21597 non-null  int64  \n",
      "dtypes: float64(9), int64(6), object(6)\n",
      "memory usage: 3.5+ MB\n"
     ]
    }
   ],
   "source": [
    "df_cleaned.info()"
   ]
  },
  {
   "cell_type": "markdown",
   "metadata": {},
   "source": [
    "Dropping irrelevant columns "
   ]
  },
  {
   "cell_type": "code",
   "execution_count": 532,
   "metadata": {
    "ExecuteTime": {
     "end_time": "2022-05-20T05:15:51.829324Z",
     "start_time": "2022-05-20T05:15:51.816921Z"
    }
   },
   "outputs": [
    {
     "data": {
      "text/html": [
       "<div>\n",
       "<style scoped>\n",
       "    .dataframe tbody tr th:only-of-type {\n",
       "        vertical-align: middle;\n",
       "    }\n",
       "\n",
       "    .dataframe tbody tr th {\n",
       "        vertical-align: top;\n",
       "    }\n",
       "\n",
       "    .dataframe thead th {\n",
       "        text-align: right;\n",
       "    }\n",
       "</style>\n",
       "<table border=\"1\" class=\"dataframe\">\n",
       "  <thead>\n",
       "    <tr style=\"text-align: right;\">\n",
       "      <th></th>\n",
       "      <th>price</th>\n",
       "      <th>bedrooms</th>\n",
       "      <th>bathrooms</th>\n",
       "      <th>sqft_living</th>\n",
       "      <th>floors</th>\n",
       "      <th>condition</th>\n",
       "    </tr>\n",
       "  </thead>\n",
       "  <tbody>\n",
       "    <tr>\n",
       "      <th>0</th>\n",
       "      <td>221900.0</td>\n",
       "      <td>1.098612</td>\n",
       "      <td>0.000000</td>\n",
       "      <td>7.073270</td>\n",
       "      <td>1.0</td>\n",
       "      <td>Average</td>\n",
       "    </tr>\n",
       "    <tr>\n",
       "      <th>1</th>\n",
       "      <td>538000.0</td>\n",
       "      <td>1.098612</td>\n",
       "      <td>0.810930</td>\n",
       "      <td>7.851661</td>\n",
       "      <td>2.0</td>\n",
       "      <td>Average</td>\n",
       "    </tr>\n",
       "    <tr>\n",
       "      <th>2</th>\n",
       "      <td>180000.0</td>\n",
       "      <td>0.693147</td>\n",
       "      <td>0.000000</td>\n",
       "      <td>6.646391</td>\n",
       "      <td>1.0</td>\n",
       "      <td>Average</td>\n",
       "    </tr>\n",
       "    <tr>\n",
       "      <th>3</th>\n",
       "      <td>604000.0</td>\n",
       "      <td>1.386294</td>\n",
       "      <td>1.098612</td>\n",
       "      <td>7.580700</td>\n",
       "      <td>1.0</td>\n",
       "      <td>Very Good</td>\n",
       "    </tr>\n",
       "    <tr>\n",
       "      <th>4</th>\n",
       "      <td>510000.0</td>\n",
       "      <td>1.098612</td>\n",
       "      <td>0.693147</td>\n",
       "      <td>7.426549</td>\n",
       "      <td>1.0</td>\n",
       "      <td>Average</td>\n",
       "    </tr>\n",
       "  </tbody>\n",
       "</table>\n",
       "</div>"
      ],
      "text/plain": [
       "      price  bedrooms  bathrooms  sqft_living  floors  condition\n",
       "0  221900.0  1.098612   0.000000     7.073270     1.0    Average\n",
       "1  538000.0  1.098612   0.810930     7.851661     2.0    Average\n",
       "2  180000.0  0.693147   0.000000     6.646391     1.0    Average\n",
       "3  604000.0  1.386294   1.098612     7.580700     1.0  Very Good\n",
       "4  510000.0  1.098612   0.693147     7.426549     1.0    Average"
      ]
     },
     "execution_count": 532,
     "metadata": {},
     "output_type": "execute_result"
    }
   ],
   "source": [
    "df_cleaned = df_cleaned.drop(columns=['id', 'lat', 'grade', 'long', 'sqft_above', 'waterfront','date', 'view', 'sqft_basement','yr_built', 'sqft_lot', 'yr_renovated', 'zipcode', 'sqft_living15', 'sqft_lot15'])\n",
    "df_cleaned.head()"
   ]
  },
  {
   "cell_type": "code",
   "execution_count": 506,
   "metadata": {
    "ExecuteTime": {
     "end_time": "2022-05-20T05:15:54.375391Z",
     "start_time": "2022-05-20T05:15:54.363156Z"
    }
   },
   "outputs": [
    {
     "name": "stdout",
     "output_type": "stream",
     "text": [
      "<class 'pandas.core.frame.DataFrame'>\n",
      "RangeIndex: 21597 entries, 0 to 21596\n",
      "Data columns (total 6 columns):\n",
      " #   Column       Non-Null Count  Dtype  \n",
      "---  ------       --------------  -----  \n",
      " 0   price        21597 non-null  float64\n",
      " 1   bedrooms     21597 non-null  float64\n",
      " 2   bathrooms    21597 non-null  float64\n",
      " 3   sqft_living  21597 non-null  float64\n",
      " 4   floors       21597 non-null  float64\n",
      " 5   grade        21597 non-null  object \n",
      "dtypes: float64(5), object(1)\n",
      "memory usage: 1012.5+ KB\n"
     ]
    }
   ],
   "source": [
    "df_cleaned.info()"
   ]
  },
  {
   "cell_type": "code",
   "execution_count": 507,
   "metadata": {
    "ExecuteTime": {
     "end_time": "2022-05-20T05:16:08.401687Z",
     "start_time": "2022-05-20T05:16:08.396678Z"
    }
   },
   "outputs": [
    {
     "data": {
      "text/plain": [
       "(21597, 6)"
      ]
     },
     "execution_count": 507,
     "metadata": {},
     "output_type": "execute_result"
    }
   ],
   "source": [
    "df_cleaned.shape"
   ]
  },
  {
   "cell_type": "markdown",
   "metadata": {},
   "source": [
    "### Checking for missing values "
   ]
  },
  {
   "cell_type": "code",
   "execution_count": 508,
   "metadata": {
    "ExecuteTime": {
     "end_time": "2022-05-20T05:16:13.064079Z",
     "start_time": "2022-05-20T05:16:13.055759Z"
    }
   },
   "outputs": [
    {
     "data": {
      "text/plain": [
       "price          0\n",
       "bedrooms       0\n",
       "bathrooms      0\n",
       "sqft_living    0\n",
       "floors         0\n",
       "grade          0\n",
       "dtype: int64"
      ]
     },
     "execution_count": 508,
     "metadata": {},
     "output_type": "execute_result"
    }
   ],
   "source": [
    "df_cleaned.isna().sum()\n",
    "#All the columns that have null values are not going to be used, but dropped earlier on  "
   ]
  },
  {
   "cell_type": "code",
   "execution_count": 509,
   "metadata": {
    "ExecuteTime": {
     "end_time": "2022-05-20T05:16:14.929065Z",
     "start_time": "2022-05-20T05:16:14.923750Z"
    }
   },
   "outputs": [
    {
     "data": {
      "text/plain": [
       "(21597, 6)"
      ]
     },
     "execution_count": 509,
     "metadata": {},
     "output_type": "execute_result"
    }
   ],
   "source": [
    "df_cleaned.shape "
   ]
  },
  {
   "cell_type": "markdown",
   "metadata": {},
   "source": [
    "## Checking for multicollinearity "
   ]
  },
  {
   "cell_type": "code",
   "execution_count": 533,
   "metadata": {
    "ExecuteTime": {
     "end_time": "2022-05-20T05:16:40.013789Z",
     "start_time": "2022-05-20T05:16:40.001435Z"
    }
   },
   "outputs": [
    {
     "data": {
      "text/html": [
       "<div>\n",
       "<style scoped>\n",
       "    .dataframe tbody tr th:only-of-type {\n",
       "        vertical-align: middle;\n",
       "    }\n",
       "\n",
       "    .dataframe tbody tr th {\n",
       "        vertical-align: top;\n",
       "    }\n",
       "\n",
       "    .dataframe thead th {\n",
       "        text-align: right;\n",
       "    }\n",
       "</style>\n",
       "<table border=\"1\" class=\"dataframe\">\n",
       "  <thead>\n",
       "    <tr style=\"text-align: right;\">\n",
       "      <th></th>\n",
       "      <th>bedrooms</th>\n",
       "      <th>bathrooms</th>\n",
       "      <th>sqft_living</th>\n",
       "      <th>floors</th>\n",
       "    </tr>\n",
       "  </thead>\n",
       "  <tbody>\n",
       "    <tr>\n",
       "      <th>bedrooms</th>\n",
       "      <td>1.000000</td>\n",
       "      <td>0.534008</td>\n",
       "      <td>0.648121</td>\n",
       "      <td>0.190985</td>\n",
       "    </tr>\n",
       "    <tr>\n",
       "      <th>bathrooms</th>\n",
       "      <td>0.534008</td>\n",
       "      <td>1.000000</td>\n",
       "      <td>0.760764</td>\n",
       "      <td>0.501036</td>\n",
       "    </tr>\n",
       "    <tr>\n",
       "      <th>sqft_living</th>\n",
       "      <td>0.648121</td>\n",
       "      <td>0.760764</td>\n",
       "      <td>1.000000</td>\n",
       "      <td>0.367564</td>\n",
       "    </tr>\n",
       "    <tr>\n",
       "      <th>floors</th>\n",
       "      <td>0.190985</td>\n",
       "      <td>0.501036</td>\n",
       "      <td>0.367564</td>\n",
       "      <td>1.000000</td>\n",
       "    </tr>\n",
       "  </tbody>\n",
       "</table>\n",
       "</div>"
      ],
      "text/plain": [
       "             bedrooms  bathrooms  sqft_living    floors\n",
       "bedrooms     1.000000   0.534008     0.648121  0.190985\n",
       "bathrooms    0.534008   1.000000     0.760764  0.501036\n",
       "sqft_living  0.648121   0.760764     1.000000  0.367564\n",
       "floors       0.190985   0.501036     0.367564  1.000000"
      ]
     },
     "execution_count": 533,
     "metadata": {},
     "output_type": "execute_result"
    }
   ],
   "source": [
    "feats = ['bedrooms', 'bathrooms', 'sqft_living', 'floors']\n",
    "corr = df_cleaned[feats].corr()\n",
    "corr\n",
    "# Does Multicollinearity exists between the house features"
   ]
  },
  {
   "cell_type": "code",
   "execution_count": 511,
   "metadata": {
    "ExecuteTime": {
     "end_time": "2022-05-20T05:16:44.844949Z",
     "start_time": "2022-05-20T05:16:44.669176Z"
    }
   },
   "outputs": [
    {
     "data": {
      "image/png": "[encoded data removed]",
      "text/plain": [
       "<Figure size 1080x720 with 2 Axes>"
      ]
     },
     "metadata": {
      "needs_background": "light"
     },
     "output_type": "display_data"
    }
   ],
   "source": [
    "_, ax = plt.subplots(figsize=(15,10))  \n",
    "sns.heatmap(corr, center=0, annot=True, ax=ax);\n",
    "#Need to add analysis "
   ]
  },
  {
   "cell_type": "code",
   "execution_count": 534,
   "metadata": {
    "ExecuteTime": {
     "end_time": "2022-05-20T05:16:51.013670Z",
     "start_time": "2022-05-20T05:16:50.993720Z"
    }
   },
   "outputs": [
    {
     "data": {
      "text/html": [
       "<div>\n",
       "<style scoped>\n",
       "    .dataframe tbody tr th:only-of-type {\n",
       "        vertical-align: middle;\n",
       "    }\n",
       "\n",
       "    .dataframe tbody tr th {\n",
       "        vertical-align: top;\n",
       "    }\n",
       "\n",
       "    .dataframe thead th {\n",
       "        text-align: right;\n",
       "    }\n",
       "</style>\n",
       "<table border=\"1\" class=\"dataframe\">\n",
       "  <thead>\n",
       "    <tr style=\"text-align: right;\">\n",
       "      <th></th>\n",
       "      <th>cc</th>\n",
       "    </tr>\n",
       "    <tr>\n",
       "      <th>pairs</th>\n",
       "      <th></th>\n",
       "    </tr>\n",
       "  </thead>\n",
       "  <tbody>\n",
       "    <tr>\n",
       "      <th>(sqft_living, bathrooms)</th>\n",
       "      <td>0.760764</td>\n",
       "    </tr>\n",
       "  </tbody>\n",
       "</table>\n",
       "</div>"
      ],
      "text/plain": [
       "                                cc\n",
       "pairs                             \n",
       "(sqft_living, bathrooms)  0.760764"
      ]
     },
     "execution_count": 534,
     "metadata": {},
     "output_type": "execute_result"
    }
   ],
   "source": [
    "df_temp = df_cleaned.corr().abs().stack().reset_index().sort_values(0, ascending=False)\n",
    "\n",
    "df_temp['pairs'] = list(zip(df_temp.level_0, df_temp.level_1))\n",
    "\n",
    "df_temp.set_index(['pairs'], inplace = True)\n",
    "\n",
    "df_temp.drop(columns=['level_1', 'level_0'], inplace = True)\n",
    "\n",
    "# cc for correlation coefficient\n",
    "df_temp.columns = ['cc']\n",
    "\n",
    "df_temp.drop_duplicates(inplace=True)\n",
    "\n",
    "df_temp[(df_temp.cc>.75) & (df_temp.cc<1)]"
   ]
  },
  {
   "cell_type": "markdown",
   "metadata": {},
   "source": [
    "Dropping bathrooms and sqft above because multi corr "
   ]
  },
  {
   "cell_type": "code",
   "execution_count": 535,
   "metadata": {
    "ExecuteTime": {
     "end_time": "2022-05-20T05:17:56.973806Z",
     "start_time": "2022-05-20T05:17:56.971573Z"
    }
   },
   "outputs": [
    {
     "data": {
      "image/png": "[encoded data removed]",
      "text/plain": [
       "<Figure size 1080x720 with 2 Axes>"
      ]
     },
     "metadata": {
      "needs_background": "light"
     },
     "output_type": "display_data"
    }
   ],
   "source": [
    "feats = ['bathrooms', 'bedrooms', 'floors', 'sqft_living']\n",
    "corr = df_cleaned[feats].corr()\n",
    "_, ax = plt.subplots(figsize=(15,10))  \n",
    "sns.heatmap(corr, center=0, annot=True, ax=ax);"
   ]
  },
  {
   "cell_type": "markdown",
   "metadata": {},
   "source": [
    "## Normalizing the Data "
   ]
  },
  {
   "cell_type": "markdown",
   "metadata": {},
   "source": [
    "## Determining Numeric and Catagorical features"
   ]
  },
  {
   "cell_type": "code",
   "execution_count": 514,
   "metadata": {
    "ExecuteTime": {
     "end_time": "2022-05-17T04:58:09.930335Z",
     "start_time": "2022-05-17T04:58:09.916131Z"
    }
   },
   "outputs": [
    {
     "name": "stdout",
     "output_type": "stream",
     "text": [
      "<class 'pandas.core.frame.DataFrame'>\n",
      "RangeIndex: 21597 entries, 0 to 21596\n",
      "Data columns (total 6 columns):\n",
      " #   Column       Non-Null Count  Dtype  \n",
      "---  ------       --------------  -----  \n",
      " 0   price        21597 non-null  float64\n",
      " 1   bedrooms     21597 non-null  float64\n",
      " 2   bathrooms    21597 non-null  float64\n",
      " 3   sqft_living  21597 non-null  float64\n",
      " 4   floors       21597 non-null  float64\n",
      " 5   grade        21597 non-null  object \n",
      "dtypes: float64(5), object(1)\n",
      "memory usage: 1012.5+ KB\n"
     ]
    }
   ],
   "source": [
    "df_cleaned.info()"
   ]
  },
  {
   "cell_type": "code",
   "execution_count": 536,
   "metadata": {
    "ExecuteTime": {
     "end_time": "2022-05-20T05:18:49.935753Z",
     "start_time": "2022-05-20T05:18:49.931045Z"
    }
   },
   "outputs": [],
   "source": [
    "# Dropping unused columns\n",
    "df_cleaned = df_cleaned.drop(columns=['bathrooms'])"
   ]
  },
  {
   "cell_type": "code",
   "execution_count": 537,
   "metadata": {
    "ExecuteTime": {
     "end_time": "2022-05-20T05:18:51.167476Z",
     "start_time": "2022-05-20T05:18:51.097752Z"
    }
   },
   "outputs": [],
   "source": [
    "#Saved cleaned data \n",
    "df_cleaned.to_csv(\"data/kc_house_data_cleaned.csv\", index=False)"
   ]
  },
  {
   "cell_type": "markdown",
   "metadata": {
    "ExecuteTime": {
     "end_time": "2022-05-06T04:47:50.714908Z",
     "start_time": "2022-05-06T04:47:50.704122Z"
    }
   },
   "source": [
    " ## One Hot Encoding"
   ]
  },
  {
   "cell_type": "markdown",
   "metadata": {},
   "source": [
    "This is preprocessing "
   ]
  },
  {
   "cell_type": "code",
   "execution_count": 538,
   "metadata": {
    "ExecuteTime": {
     "end_time": "2022-05-20T05:19:02.920062Z",
     "start_time": "2022-05-20T05:19:02.901211Z"
    }
   },
   "outputs": [
    {
     "data": {
      "text/plain": [
       "Index(['price', 'sqft_living', 'bedrooms_0_0', 'bedrooms_0_6931471805599453',\n",
       "       'bedrooms_1_0986122886681098', 'bedrooms_1_3862943611198906',\n",
       "       'bedrooms_1_6094379124341003', 'bedrooms_1_791759469228055',\n",
       "       'bedrooms_1_9459101490553132', 'bedrooms_2_0794415416798357',\n",
       "       'bedrooms_2_1972245773362196', 'bedrooms_2_302585092994046',\n",
       "       'bedrooms_2_3978952727983707', 'bedrooms_3_4965075614664802',\n",
       "       'floors_1_0', 'floors_1_5', 'floors_2_0', 'floors_2_5', 'floors_3_0',\n",
       "       'floors_3_5', 'condition_Average', 'condition_Fair', 'condition_Good',\n",
       "       'condition_Poor', 'condition_Very_Good'],\n",
       "      dtype='object')"
      ]
     },
     "execution_count": 538,
     "metadata": {},
     "output_type": "execute_result"
    }
   ],
   "source": [
    "\n",
    "# df_categorical_cleaned = df_cleaned['floors']\n",
    "# df_categorical_cleaned = pd.get_dummies(df_categorical_cleaned, drop_first=True)\n",
    "# df_categorical_cleaned.head()\n",
    "\n",
    "\n",
    "df_categorical_cleaned = pd.get_dummies(df_cleaned, columns=['bedrooms', 'floors', 'condition'])\n",
    "df_categorical_cleaned.columns = df_categorical_cleaned.columns.str.replace('.', '_')\n",
    "df_categorical_cleaned.columns = df_categorical_cleaned.columns.str.replace(' ', '_')\n",
    "df_categorical_cleaned.columns = df_categorical_cleaned.columns.str.replace('-', '_')\n",
    "df_categorical_cleaned.columns"
   ]
  },
  {
   "cell_type": "markdown",
   "metadata": {},
   "source": [
    "## Modeling "
   ]
  },
  {
   "cell_type": "markdown",
   "metadata": {},
   "source": [
    "Fitting the Initial Model "
   ]
  },
  {
   "cell_type": "code",
   "execution_count": 539,
   "metadata": {
    "ExecuteTime": {
     "end_time": "2022-05-17T05:03:11.107480Z",
     "start_time": "2022-05-17T05:03:11.101095Z"
    }
   },
   "outputs": [
    {
     "data": {
      "text/plain": [
       "['sqft_living',\n",
       " 'bedrooms_0_0',\n",
       " 'bedrooms_0_6931471805599453',\n",
       " 'bedrooms_1_0986122886681098',\n",
       " 'bedrooms_1_3862943611198906',\n",
       " 'bedrooms_1_6094379124341003',\n",
       " 'bedrooms_1_791759469228055',\n",
       " 'bedrooms_1_9459101490553132',\n",
       " 'bedrooms_2_0794415416798357',\n",
       " 'bedrooms_2_1972245773362196',\n",
       " 'bedrooms_2_302585092994046',\n",
       " 'bedrooms_2_3978952727983707',\n",
       " 'bedrooms_3_4965075614664802',\n",
       " 'floors_1_0',\n",
       " 'floors_1_5',\n",
       " 'floors_2_0',\n",
       " 'floors_2_5',\n",
       " 'floors_3_0',\n",
       " 'floors_3_5',\n",
       " 'condition_Average',\n",
       " 'condition_Fair',\n",
       " 'condition_Good',\n",
       " 'condition_Poor',\n",
       " 'condition_Very_Good']"
      ]
     },
     "execution_count": 539,
     "metadata": {},
     "output_type": "execute_result"
    }
   ],
   "source": [
    "outcome = 'price'\n",
    "#change x_cols for intial model \n",
    "#Need to add floors back after the merge, \n",
    "x_cols = df_categorical_cleaned.columns.tolist()\n",
    "x_cols.remove('price')\n",
    "x_cols"
   ]
  },
  {
   "cell_type": "code",
   "execution_count": null,
   "metadata": {},
   "outputs": [],
   "source": []
  },
  {
   "cell_type": "code",
   "execution_count": 540,
   "metadata": {
    "ExecuteTime": {
     "end_time": "2022-05-17T05:03:13.596583Z",
     "start_time": "2022-05-17T05:03:13.593150Z"
    }
   },
   "outputs": [],
   "source": [
    "from statsmodels.formula.api import ols "
   ]
  },
  {
   "cell_type": "code",
   "execution_count": 541,
   "metadata": {
    "ExecuteTime": {
     "end_time": "2022-05-17T05:03:15.085175Z",
     "start_time": "2022-05-17T05:03:14.904232Z"
    }
   },
   "outputs": [
    {
     "data": {
      "text/html": [
       "<table class=\"simpletable\">\n",
       "<caption>OLS Regression Results</caption>\n",
       "<tr>\n",
       "  <th>Dep. Variable:</th>          <td>price</td>      <th>  R-squared:         </th>  <td>   0.420</td>  \n",
       "</tr>\n",
       "<tr>\n",
       "  <th>Model:</th>                   <td>OLS</td>       <th>  Adj. R-squared:    </th>  <td>   0.419</td>  \n",
       "</tr>\n",
       "<tr>\n",
       "  <th>Method:</th>             <td>Least Squares</td>  <th>  F-statistic:       </th>  <td>   743.4</td>  \n",
       "</tr>\n",
       "<tr>\n",
       "  <th>Date:</th>             <td>Wed, 18 May 2022</td> <th>  Prob (F-statistic):</th>   <td>  0.00</td>   \n",
       "</tr>\n",
       "<tr>\n",
       "  <th>Time:</th>                 <td>22:49:27</td>     <th>  Log-Likelihood:    </th> <td>-3.0151e+05</td>\n",
       "</tr>\n",
       "<tr>\n",
       "  <th>No. Observations:</th>      <td> 21597</td>      <th>  AIC:               </th>  <td>6.031e+05</td> \n",
       "</tr>\n",
       "<tr>\n",
       "  <th>Df Residuals:</th>          <td> 21575</td>      <th>  BIC:               </th>  <td>6.032e+05</td> \n",
       "</tr>\n",
       "<tr>\n",
       "  <th>Df Model:</th>              <td>    21</td>      <th>                     </th>      <td> </td>     \n",
       "</tr>\n",
       "<tr>\n",
       "  <th>Covariance Type:</th>      <td>nonrobust</td>    <th>                     </th>      <td> </td>     \n",
       "</tr>\n",
       "</table>\n",
       "<table class=\"simpletable\">\n",
       "<tr>\n",
       "               <td></td>                  <th>coef</th>     <th>std err</th>      <th>t</th>      <th>P>|t|</th>  <th>[0.025</th>    <th>0.975]</th>  \n",
       "</tr>\n",
       "<tr>\n",
       "  <th>Intercept</th>                   <td>-2.823e+06</td> <td> 4.56e+04</td> <td>  -61.870</td> <td> 0.000</td> <td>-2.91e+06</td> <td>-2.73e+06</td>\n",
       "</tr>\n",
       "<tr>\n",
       "  <th>sqft_living</th>                 <td> 6.328e+05</td> <td> 6497.763</td> <td>   97.383</td> <td> 0.000</td> <td>  6.2e+05</td> <td> 6.46e+05</td>\n",
       "</tr>\n",
       "<tr>\n",
       "  <th>bedrooms_0_0</th>                <td> 7.175e+04</td> <td> 4.02e+04</td> <td>    1.784</td> <td> 0.075</td> <td>-7099.722</td> <td> 1.51e+05</td>\n",
       "</tr>\n",
       "<tr>\n",
       "  <th>bedrooms_0_6931471805599453</th> <td> -6.83e+04</td> <td>  3.6e+04</td> <td>   -1.898</td> <td> 0.058</td> <td>-1.39e+05</td> <td> 2218.592</td>\n",
       "</tr>\n",
       "<tr>\n",
       "  <th>bedrooms_1_0986122886681098</th> <td>-2.471e+05</td> <td> 3.57e+04</td> <td>   -6.918</td> <td> 0.000</td> <td>-3.17e+05</td> <td>-1.77e+05</td>\n",
       "</tr>\n",
       "<tr>\n",
       "  <th>bedrooms_1_3862943611198906</th> <td>-2.988e+05</td> <td> 3.59e+04</td> <td>   -8.330</td> <td> 0.000</td> <td>-3.69e+05</td> <td>-2.28e+05</td>\n",
       "</tr>\n",
       "<tr>\n",
       "  <th>bedrooms_1_6094379124341003</th> <td> -2.59e+05</td> <td> 3.64e+04</td> <td>   -7.112</td> <td> 0.000</td> <td> -3.3e+05</td> <td>-1.88e+05</td>\n",
       "</tr>\n",
       "<tr>\n",
       "  <th>bedrooms_1_791759469228055</th>  <td>-2.767e+05</td> <td> 3.91e+04</td> <td>   -7.071</td> <td> 0.000</td> <td>-3.53e+05</td> <td>   -2e+05</td>\n",
       "</tr>\n",
       "<tr>\n",
       "  <th>bedrooms_1_9459101490553132</th> <td>-2.614e+05</td> <td> 5.51e+04</td> <td>   -4.743</td> <td> 0.000</td> <td>-3.69e+05</td> <td>-1.53e+05</td>\n",
       "</tr>\n",
       "<tr>\n",
       "  <th>bedrooms_2_0794415416798357</th> <td>-1.034e+05</td> <td> 8.01e+04</td> <td>   -1.291</td> <td> 0.197</td> <td> -2.6e+05</td> <td> 5.36e+04</td>\n",
       "</tr>\n",
       "<tr>\n",
       "  <th>bedrooms_2_1972245773362196</th> <td>-3.816e+05</td> <td> 1.11e+05</td> <td>   -3.434</td> <td> 0.001</td> <td>-5.99e+05</td> <td>-1.64e+05</td>\n",
       "</tr>\n",
       "<tr>\n",
       "  <th>bedrooms_2_302585092994046</th>  <td>-3.661e+05</td> <td> 1.53e+05</td> <td>   -2.397</td> <td> 0.017</td> <td>-6.65e+05</td> <td>-6.67e+04</td>\n",
       "</tr>\n",
       "<tr>\n",
       "  <th>bedrooms_2_3978952727983707</th> <td>-5.206e+05</td> <td>  2.6e+05</td> <td>   -2.006</td> <td> 0.045</td> <td>-1.03e+06</td> <td>-1.19e+04</td>\n",
       "</tr>\n",
       "<tr>\n",
       "  <th>bedrooms_3_4965075614664802</th> <td>-1.118e+05</td> <td>  2.6e+05</td> <td>   -0.431</td> <td> 0.667</td> <td>-6.21e+05</td> <td> 3.97e+05</td>\n",
       "</tr>\n",
       "<tr>\n",
       "  <th>floors_1_0</th>                  <td>-6.049e+05</td> <td> 1.77e+04</td> <td>  -34.224</td> <td> 0.000</td> <td>-6.39e+05</td> <td> -5.7e+05</td>\n",
       "</tr>\n",
       "<tr>\n",
       "  <th>floors_1_5</th>                  <td>-5.417e+05</td> <td> 1.84e+04</td> <td>  -29.499</td> <td> 0.000</td> <td>-5.78e+05</td> <td>-5.06e+05</td>\n",
       "</tr>\n",
       "<tr>\n",
       "  <th>floors_2_0</th>                  <td> -6.01e+05</td> <td> 1.83e+04</td> <td>  -32.884</td> <td> 0.000</td> <td>-6.37e+05</td> <td>-5.65e+05</td>\n",
       "</tr>\n",
       "<tr>\n",
       "  <th>floors_2_5</th>                  <td> -3.12e+05</td> <td> 2.61e+04</td> <td>  -11.962</td> <td> 0.000</td> <td>-3.63e+05</td> <td>-2.61e+05</td>\n",
       "</tr>\n",
       "<tr>\n",
       "  <th>floors_3_0</th>                  <td>-4.651e+05</td> <td> 2.01e+04</td> <td>  -23.101</td> <td> 0.000</td> <td>-5.05e+05</td> <td>-4.26e+05</td>\n",
       "</tr>\n",
       "<tr>\n",
       "  <th>floors_3_5</th>                  <td>-2.983e+05</td> <td>  9.1e+04</td> <td>   -3.276</td> <td> 0.001</td> <td>-4.77e+05</td> <td> -1.2e+05</td>\n",
       "</tr>\n",
       "<tr>\n",
       "  <th>condition_Average</th>           <td>-6.016e+05</td> <td> 1.37e+04</td> <td>  -43.896</td> <td> 0.000</td> <td>-6.28e+05</td> <td>-5.75e+05</td>\n",
       "</tr>\n",
       "<tr>\n",
       "  <th>condition_Fair</th>              <td>-5.993e+05</td> <td> 2.17e+04</td> <td>  -27.579</td> <td> 0.000</td> <td>-6.42e+05</td> <td>-5.57e+05</td>\n",
       "</tr>\n",
       "<tr>\n",
       "  <th>condition_Good</th>              <td>-5.661e+05</td> <td> 1.39e+04</td> <td>  -40.750</td> <td> 0.000</td> <td>-5.93e+05</td> <td>-5.39e+05</td>\n",
       "</tr>\n",
       "<tr>\n",
       "  <th>condition_Poor</th>              <td>-5.593e+05</td> <td> 4.41e+04</td> <td>  -12.685</td> <td> 0.000</td> <td>-6.46e+05</td> <td>-4.73e+05</td>\n",
       "</tr>\n",
       "<tr>\n",
       "  <th>condition_Very_Good</th>         <td>-4.967e+05</td> <td> 1.46e+04</td> <td>  -33.915</td> <td> 0.000</td> <td>-5.25e+05</td> <td>-4.68e+05</td>\n",
       "</tr>\n",
       "</table>\n",
       "<table class=\"simpletable\">\n",
       "<tr>\n",
       "  <th>Omnibus:</th>       <td>19163.167</td> <th>  Durbin-Watson:     </th>  <td>   1.981</td>  \n",
       "</tr>\n",
       "<tr>\n",
       "  <th>Prob(Omnibus):</th>  <td> 0.000</td>   <th>  Jarque-Bera (JB):  </th> <td>1645833.448</td>\n",
       "</tr>\n",
       "<tr>\n",
       "  <th>Skew:</th>           <td> 3.897</td>   <th>  Prob(JB):          </th>  <td>    0.00</td>  \n",
       "</tr>\n",
       "<tr>\n",
       "  <th>Kurtosis:</th>       <td>45.050</td>   <th>  Cond. No.          </th>  <td>1.40e+17</td>  \n",
       "</tr>\n",
       "</table><br/><br/>Notes:<br/>[1] Standard Errors assume that the covariance matrix of the errors is correctly specified.<br/>[2] The smallest eigenvalue is 6.5e-29. This might indicate that there are<br/>strong multicollinearity problems or that the design matrix is singular."
      ],
      "text/plain": [
       "<class 'statsmodels.iolib.summary.Summary'>\n",
       "\"\"\"\n",
       "                            OLS Regression Results                            \n",
       "==============================================================================\n",
       "Dep. Variable:                  price   R-squared:                       0.420\n",
       "Model:                            OLS   Adj. R-squared:                  0.419\n",
       "Method:                 Least Squares   F-statistic:                     743.4\n",
       "Date:                Wed, 18 May 2022   Prob (F-statistic):               0.00\n",
       "Time:                        22:49:27   Log-Likelihood:            -3.0151e+05\n",
       "No. Observations:               21597   AIC:                         6.031e+05\n",
       "Df Residuals:                   21575   BIC:                         6.032e+05\n",
       "Df Model:                          21                                         \n",
       "Covariance Type:            nonrobust                                         \n",
       "===============================================================================================\n",
       "                                  coef    std err          t      P>|t|      [0.025      0.975]\n",
       "-----------------------------------------------------------------------------------------------\n",
       "Intercept                   -2.823e+06   4.56e+04    -61.870      0.000   -2.91e+06   -2.73e+06\n",
       "sqft_living                  6.328e+05   6497.763     97.383      0.000     6.2e+05    6.46e+05\n",
       "bedrooms_0_0                 7.175e+04   4.02e+04      1.784      0.075   -7099.722    1.51e+05\n",
       "bedrooms_0_6931471805599453  -6.83e+04    3.6e+04     -1.898      0.058   -1.39e+05    2218.592\n",
       "bedrooms_1_0986122886681098 -2.471e+05   3.57e+04     -6.918      0.000   -3.17e+05   -1.77e+05\n",
       "bedrooms_1_3862943611198906 -2.988e+05   3.59e+04     -8.330      0.000   -3.69e+05   -2.28e+05\n",
       "bedrooms_1_6094379124341003  -2.59e+05   3.64e+04     -7.112      0.000    -3.3e+05   -1.88e+05\n",
       "bedrooms_1_791759469228055  -2.767e+05   3.91e+04     -7.071      0.000   -3.53e+05      -2e+05\n",
       "bedrooms_1_9459101490553132 -2.614e+05   5.51e+04     -4.743      0.000   -3.69e+05   -1.53e+05\n",
       "bedrooms_2_0794415416798357 -1.034e+05   8.01e+04     -1.291      0.197    -2.6e+05    5.36e+04\n",
       "bedrooms_2_1972245773362196 -3.816e+05   1.11e+05     -3.434      0.001   -5.99e+05   -1.64e+05\n",
       "bedrooms_2_302585092994046  -3.661e+05   1.53e+05     -2.397      0.017   -6.65e+05   -6.67e+04\n",
       "bedrooms_2_3978952727983707 -5.206e+05    2.6e+05     -2.006      0.045   -1.03e+06   -1.19e+04\n",
       "bedrooms_3_4965075614664802 -1.118e+05    2.6e+05     -0.431      0.667   -6.21e+05    3.97e+05\n",
       "floors_1_0                  -6.049e+05   1.77e+04    -34.224      0.000   -6.39e+05    -5.7e+05\n",
       "floors_1_5                  -5.417e+05   1.84e+04    -29.499      0.000   -5.78e+05   -5.06e+05\n",
       "floors_2_0                   -6.01e+05   1.83e+04    -32.884      0.000   -6.37e+05   -5.65e+05\n",
       "floors_2_5                   -3.12e+05   2.61e+04    -11.962      0.000   -3.63e+05   -2.61e+05\n",
       "floors_3_0                  -4.651e+05   2.01e+04    -23.101      0.000   -5.05e+05   -4.26e+05\n",
       "floors_3_5                  -2.983e+05    9.1e+04     -3.276      0.001   -4.77e+05    -1.2e+05\n",
       "condition_Average           -6.016e+05   1.37e+04    -43.896      0.000   -6.28e+05   -5.75e+05\n",
       "condition_Fair              -5.993e+05   2.17e+04    -27.579      0.000   -6.42e+05   -5.57e+05\n",
       "condition_Good              -5.661e+05   1.39e+04    -40.750      0.000   -5.93e+05   -5.39e+05\n",
       "condition_Poor              -5.593e+05   4.41e+04    -12.685      0.000   -6.46e+05   -4.73e+05\n",
       "condition_Very_Good         -4.967e+05   1.46e+04    -33.915      0.000   -5.25e+05   -4.68e+05\n",
       "==============================================================================\n",
       "Omnibus:                    19163.167   Durbin-Watson:                   1.981\n",
       "Prob(Omnibus):                  0.000   Jarque-Bera (JB):          1645833.448\n",
       "Skew:                           3.897   Prob(JB):                         0.00\n",
       "Kurtosis:                      45.050   Cond. No.                     1.40e+17\n",
       "==============================================================================\n",
       "\n",
       "Notes:\n",
       "[1] Standard Errors assume that the covariance matrix of the errors is correctly specified.\n",
       "[2] The smallest eigenvalue is 6.5e-29. This might indicate that there are\n",
       "strong multicollinearity problems or that the design matrix is singular.\n",
       "\"\"\""
      ]
     },
     "execution_count": 541,
     "metadata": {},
     "output_type": "execute_result"
    }
   ],
   "source": [
    "predictors = '+'.join(x_cols)\n",
    "formula = outcome + '~' + predictors \n",
    "model = ols(formula=formula, data=df_categorical_cleaned).fit()\n",
    "model.summary()"
   ]
  },
  {
   "cell_type": "markdown",
   "metadata": {},
   "source": [
    "## Initial Refinement "
   ]
  },
  {
   "cell_type": "code",
   "execution_count": 542,
   "metadata": {
    "ExecuteTime": {
     "end_time": "2022-05-17T05:03:19.888638Z",
     "start_time": "2022-05-17T05:03:19.885208Z"
    }
   },
   "outputs": [
    {
     "data": {
      "text/plain": [
       "['sqft_living',\n",
       " 'bedrooms_1_0986122886681098',\n",
       " 'bedrooms_1_3862943611198906',\n",
       " 'bedrooms_1_6094379124341003',\n",
       " 'bedrooms_1_791759469228055',\n",
       " 'bedrooms_1_9459101490553132',\n",
       " 'bedrooms_2_1972245773362196',\n",
       " 'bedrooms_2_302585092994046',\n",
       " 'bedrooms_2_3978952727983707',\n",
       " 'floors_1_0',\n",
       " 'floors_1_5',\n",
       " 'floors_2_0',\n",
       " 'floors_2_5',\n",
       " 'floors_3_0',\n",
       " 'floors_3_5',\n",
       " 'condition_Average',\n",
       " 'condition_Fair',\n",
       " 'condition_Good',\n",
       " 'condition_Poor',\n",
       " 'condition_Very_Good']"
      ]
     },
     "execution_count": 542,
     "metadata": {},
     "output_type": "execute_result"
    }
   ],
   "source": [
    "# Removing P values greater than 0.05\n",
    "def removingHighPValues(columns):\n",
    "    for col in df_categorical_cleaned.columns.tolist():\n",
    "        if col in columns and col in x_cols and model.pvalues[col] >= 0.05:\n",
    "            columns.remove(col)\n",
    "removingHighPValues(x_cols)\n",
    "x_cols"
   ]
  },
  {
   "cell_type": "code",
   "execution_count": 543,
   "metadata": {
    "ExecuteTime": {
     "end_time": "2022-05-17T05:03:27.420952Z",
     "start_time": "2022-05-17T05:03:27.242161Z"
    }
   },
   "outputs": [
    {
     "data": {
      "text/html": [
       "<table class=\"simpletable\">\n",
       "<caption>OLS Regression Results</caption>\n",
       "<tr>\n",
       "  <th>Dep. Variable:</th>          <td>price</td>      <th>  R-squared:         </th>  <td>   0.419</td>  \n",
       "</tr>\n",
       "<tr>\n",
       "  <th>Model:</th>                   <td>OLS</td>       <th>  Adj. R-squared:    </th>  <td>   0.418</td>  \n",
       "</tr>\n",
       "<tr>\n",
       "  <th>Method:</th>             <td>Least Squares</td>  <th>  F-statistic:       </th>  <td>   863.1</td>  \n",
       "</tr>\n",
       "<tr>\n",
       "  <th>Date:</th>             <td>Wed, 18 May 2022</td> <th>  Prob (F-statistic):</th>   <td>  0.00</td>   \n",
       "</tr>\n",
       "<tr>\n",
       "  <th>Time:</th>                 <td>22:49:32</td>     <th>  Log-Likelihood:    </th> <td>-3.0153e+05</td>\n",
       "</tr>\n",
       "<tr>\n",
       "  <th>No. Observations:</th>      <td> 21597</td>      <th>  AIC:               </th>  <td>6.031e+05</td> \n",
       "</tr>\n",
       "<tr>\n",
       "  <th>Df Residuals:</th>          <td> 21578</td>      <th>  BIC:               </th>  <td>6.033e+05</td> \n",
       "</tr>\n",
       "<tr>\n",
       "  <th>Df Model:</th>              <td>    18</td>      <th>                     </th>      <td> </td>     \n",
       "</tr>\n",
       "<tr>\n",
       "  <th>Covariance Type:</th>      <td>nonrobust</td>    <th>                     </th>      <td> </td>     \n",
       "</tr>\n",
       "</table>\n",
       "<table class=\"simpletable\">\n",
       "<tr>\n",
       "               <td></td>                  <th>coef</th>     <th>std err</th>      <th>t</th>      <th>P>|t|</th>  <th>[0.025</th>    <th>0.975]</th>  \n",
       "</tr>\n",
       "<tr>\n",
       "  <th>Intercept</th>                   <td>-2.842e+06</td> <td> 3.72e+04</td> <td>  -76.410</td> <td> 0.000</td> <td>-2.91e+06</td> <td>-2.77e+06</td>\n",
       "</tr>\n",
       "<tr>\n",
       "  <th>sqft_living</th>                 <td> 6.283e+05</td> <td> 6449.385</td> <td>   97.417</td> <td> 0.000</td> <td> 6.16e+05</td> <td> 6.41e+05</td>\n",
       "</tr>\n",
       "<tr>\n",
       "  <th>bedrooms_1_0986122886681098</th> <td>-1.861e+05</td> <td> 6348.851</td> <td>  -29.311</td> <td> 0.000</td> <td>-1.99e+05</td> <td>-1.74e+05</td>\n",
       "</tr>\n",
       "<tr>\n",
       "  <th>bedrooms_1_3862943611198906</th> <td>-2.363e+05</td> <td> 7640.350</td> <td>  -30.927</td> <td> 0.000</td> <td>-2.51e+05</td> <td>-2.21e+05</td>\n",
       "</tr>\n",
       "<tr>\n",
       "  <th>bedrooms_1_6094379124341003</th> <td>-1.957e+05</td> <td> 1.03e+04</td> <td>  -18.938</td> <td> 0.000</td> <td>-2.16e+05</td> <td>-1.75e+05</td>\n",
       "</tr>\n",
       "<tr>\n",
       "  <th>bedrooms_1_791759469228055</th>  <td>-2.132e+05</td> <td> 1.88e+04</td> <td>  -11.360</td> <td> 0.000</td> <td> -2.5e+05</td> <td>-1.76e+05</td>\n",
       "</tr>\n",
       "<tr>\n",
       "  <th>bedrooms_1_9459101490553132</th> <td>-1.971e+05</td> <td> 4.63e+04</td> <td>   -4.257</td> <td> 0.000</td> <td>-2.88e+05</td> <td>-1.06e+05</td>\n",
       "</tr>\n",
       "<tr>\n",
       "  <th>bedrooms_2_1972245773362196</th> <td> -3.18e+05</td> <td> 1.15e+05</td> <td>   -2.766</td> <td> 0.006</td> <td>-5.43e+05</td> <td>-9.27e+04</td>\n",
       "</tr>\n",
       "<tr>\n",
       "  <th>bedrooms_2_302585092994046</th>  <td>-3.016e+05</td> <td> 1.62e+05</td> <td>   -1.862</td> <td> 0.063</td> <td>-6.19e+05</td> <td>  1.6e+04</td>\n",
       "</tr>\n",
       "<tr>\n",
       "  <th>bedrooms_2_3978952727983707</th> <td>-4.575e+05</td> <td>  2.8e+05</td> <td>   -1.632</td> <td> 0.103</td> <td>-1.01e+06</td> <td>  9.2e+04</td>\n",
       "</tr>\n",
       "<tr>\n",
       "  <th>floors_1_0</th>                  <td> -6.07e+05</td> <td> 1.68e+04</td> <td>  -36.181</td> <td> 0.000</td> <td> -6.4e+05</td> <td>-5.74e+05</td>\n",
       "</tr>\n",
       "<tr>\n",
       "  <th>floors_1_5</th>                  <td>-5.435e+05</td> <td> 1.75e+04</td> <td>  -31.020</td> <td> 0.000</td> <td>-5.78e+05</td> <td>-5.09e+05</td>\n",
       "</tr>\n",
       "<tr>\n",
       "  <th>floors_2_0</th>                  <td>-6.027e+05</td> <td> 1.74e+04</td> <td>  -34.583</td> <td> 0.000</td> <td>-6.37e+05</td> <td>-5.69e+05</td>\n",
       "</tr>\n",
       "<tr>\n",
       "  <th>floors_2_5</th>                  <td>-3.121e+05</td> <td> 2.56e+04</td> <td>  -12.203</td> <td> 0.000</td> <td>-3.62e+05</td> <td>-2.62e+05</td>\n",
       "</tr>\n",
       "<tr>\n",
       "  <th>floors_3_0</th>                  <td>-4.684e+05</td> <td> 1.94e+04</td> <td>  -24.204</td> <td> 0.000</td> <td>-5.06e+05</td> <td> -4.3e+05</td>\n",
       "</tr>\n",
       "<tr>\n",
       "  <th>floors_3_5</th>                  <td>-3.079e+05</td> <td> 9.08e+04</td> <td>   -3.391</td> <td> 0.001</td> <td>-4.86e+05</td> <td> -1.3e+05</td>\n",
       "</tr>\n",
       "<tr>\n",
       "  <th>condition_Average</th>           <td>-6.086e+05</td> <td> 1.26e+04</td> <td>  -48.349</td> <td> 0.000</td> <td>-6.33e+05</td> <td>-5.84e+05</td>\n",
       "</tr>\n",
       "<tr>\n",
       "  <th>condition_Fair</th>              <td>-6.023e+05</td> <td> 2.11e+04</td> <td>  -28.598</td> <td> 0.000</td> <td>-6.44e+05</td> <td>-5.61e+05</td>\n",
       "</tr>\n",
       "<tr>\n",
       "  <th>condition_Good</th>              <td>-5.734e+05</td> <td> 1.28e+04</td> <td>  -44.766</td> <td> 0.000</td> <td>-5.98e+05</td> <td>-5.48e+05</td>\n",
       "</tr>\n",
       "<tr>\n",
       "  <th>condition_Poor</th>              <td>-5.531e+05</td> <td> 4.38e+04</td> <td>  -12.620</td> <td> 0.000</td> <td>-6.39e+05</td> <td>-4.67e+05</td>\n",
       "</tr>\n",
       "<tr>\n",
       "  <th>condition_Very_Good</th>         <td>-5.041e+05</td> <td> 1.37e+04</td> <td>  -36.892</td> <td> 0.000</td> <td>-5.31e+05</td> <td>-4.77e+05</td>\n",
       "</tr>\n",
       "</table>\n",
       "<table class=\"simpletable\">\n",
       "<tr>\n",
       "  <th>Omnibus:</th>       <td>19183.484</td> <th>  Durbin-Watson:     </th>  <td>   1.980</td>  \n",
       "</tr>\n",
       "<tr>\n",
       "  <th>Prob(Omnibus):</th>  <td> 0.000</td>   <th>  Jarque-Bera (JB):  </th> <td>1646921.732</td>\n",
       "</tr>\n",
       "<tr>\n",
       "  <th>Skew:</th>           <td> 3.905</td>   <th>  Prob(JB):          </th>  <td>    0.00</td>  \n",
       "</tr>\n",
       "<tr>\n",
       "  <th>Kurtosis:</th>       <td>45.062</td>   <th>  Cond. No.          </th>  <td>9.31e+16</td>  \n",
       "</tr>\n",
       "</table><br/><br/>Notes:<br/>[1] Standard Errors assume that the covariance matrix of the errors is correctly specified.<br/>[2] The smallest eigenvalue is 1.48e-28. This might indicate that there are<br/>strong multicollinearity problems or that the design matrix is singular."
      ],
      "text/plain": [
       "<class 'statsmodels.iolib.summary.Summary'>\n",
       "\"\"\"\n",
       "                            OLS Regression Results                            \n",
       "==============================================================================\n",
       "Dep. Variable:                  price   R-squared:                       0.419\n",
       "Model:                            OLS   Adj. R-squared:                  0.418\n",
       "Method:                 Least Squares   F-statistic:                     863.1\n",
       "Date:                Wed, 18 May 2022   Prob (F-statistic):               0.00\n",
       "Time:                        22:49:32   Log-Likelihood:            -3.0153e+05\n",
       "No. Observations:               21597   AIC:                         6.031e+05\n",
       "Df Residuals:                   21578   BIC:                         6.033e+05\n",
       "Df Model:                          18                                         \n",
       "Covariance Type:            nonrobust                                         \n",
       "===============================================================================================\n",
       "                                  coef    std err          t      P>|t|      [0.025      0.975]\n",
       "-----------------------------------------------------------------------------------------------\n",
       "Intercept                   -2.842e+06   3.72e+04    -76.410      0.000   -2.91e+06   -2.77e+06\n",
       "sqft_living                  6.283e+05   6449.385     97.417      0.000    6.16e+05    6.41e+05\n",
       "bedrooms_1_0986122886681098 -1.861e+05   6348.851    -29.311      0.000   -1.99e+05   -1.74e+05\n",
       "bedrooms_1_3862943611198906 -2.363e+05   7640.350    -30.927      0.000   -2.51e+05   -2.21e+05\n",
       "bedrooms_1_6094379124341003 -1.957e+05   1.03e+04    -18.938      0.000   -2.16e+05   -1.75e+05\n",
       "bedrooms_1_791759469228055  -2.132e+05   1.88e+04    -11.360      0.000    -2.5e+05   -1.76e+05\n",
       "bedrooms_1_9459101490553132 -1.971e+05   4.63e+04     -4.257      0.000   -2.88e+05   -1.06e+05\n",
       "bedrooms_2_1972245773362196  -3.18e+05   1.15e+05     -2.766      0.006   -5.43e+05   -9.27e+04\n",
       "bedrooms_2_302585092994046  -3.016e+05   1.62e+05     -1.862      0.063   -6.19e+05     1.6e+04\n",
       "bedrooms_2_3978952727983707 -4.575e+05    2.8e+05     -1.632      0.103   -1.01e+06     9.2e+04\n",
       "floors_1_0                   -6.07e+05   1.68e+04    -36.181      0.000    -6.4e+05   -5.74e+05\n",
       "floors_1_5                  -5.435e+05   1.75e+04    -31.020      0.000   -5.78e+05   -5.09e+05\n",
       "floors_2_0                  -6.027e+05   1.74e+04    -34.583      0.000   -6.37e+05   -5.69e+05\n",
       "floors_2_5                  -3.121e+05   2.56e+04    -12.203      0.000   -3.62e+05   -2.62e+05\n",
       "floors_3_0                  -4.684e+05   1.94e+04    -24.204      0.000   -5.06e+05    -4.3e+05\n",
       "floors_3_5                  -3.079e+05   9.08e+04     -3.391      0.001   -4.86e+05    -1.3e+05\n",
       "condition_Average           -6.086e+05   1.26e+04    -48.349      0.000   -6.33e+05   -5.84e+05\n",
       "condition_Fair              -6.023e+05   2.11e+04    -28.598      0.000   -6.44e+05   -5.61e+05\n",
       "condition_Good              -5.734e+05   1.28e+04    -44.766      0.000   -5.98e+05   -5.48e+05\n",
       "condition_Poor              -5.531e+05   4.38e+04    -12.620      0.000   -6.39e+05   -4.67e+05\n",
       "condition_Very_Good         -5.041e+05   1.37e+04    -36.892      0.000   -5.31e+05   -4.77e+05\n",
       "==============================================================================\n",
       "Omnibus:                    19183.484   Durbin-Watson:                   1.980\n",
       "Prob(Omnibus):                  0.000   Jarque-Bera (JB):          1646921.732\n",
       "Skew:                           3.905   Prob(JB):                         0.00\n",
       "Kurtosis:                      45.062   Cond. No.                     9.31e+16\n",
       "==============================================================================\n",
       "\n",
       "Notes:\n",
       "[1] Standard Errors assume that the covariance matrix of the errors is correctly specified.\n",
       "[2] The smallest eigenvalue is 1.48e-28. This might indicate that there are\n",
       "strong multicollinearity problems or that the design matrix is singular.\n",
       "\"\"\""
      ]
     },
     "execution_count": 543,
     "metadata": {},
     "output_type": "execute_result"
    }
   ],
   "source": [
    "\n",
    "#bedrooms\n",
    "#change x_cols for intial refinement model \n",
    "#Add floors, removed bedrooms from the 6, its 5 with floors. -5 \n",
    "outcome = 'price'\n",
    "predictors = '+'.join(x_cols)\n",
    "formula = outcome + '~' + predictors \n",
    "model = ols(formula=formula, data=df_categorical_cleaned).fit()\n",
    "model.summary()"
   ]
  },
  {
   "cell_type": "markdown",
   "metadata": {},
   "source": [
    "## Checking for Mulitcollinearity for initial model "
   ]
  },
  {
   "cell_type": "code",
   "execution_count": 544,
   "metadata": {
    "ExecuteTime": {
     "end_time": "2022-05-17T05:03:34.208737Z",
     "start_time": "2022-05-17T05:03:34.203675Z"
    }
   },
   "outputs": [],
   "source": [
    "from statsmodels.stats.outliers_influence import variance_inflation_factor "
   ]
  },
  {
   "cell_type": "code",
   "execution_count": 545,
   "metadata": {
    "ExecuteTime": {
     "end_time": "2022-05-17T05:03:37.867136Z",
     "start_time": "2022-05-17T05:03:34.215994Z"
    }
   },
   "outputs": [
    {
     "name": "stderr",
     "output_type": "stream",
     "text": [
      "/Users/moniquehercules/opt/anaconda3/envs/learn-env/lib/python3.8/site-packages/statsmodels/stats/outliers_influence.py:193: RuntimeWarning: divide by zero encountered in double_scalars\n",
      "  vif = 1. / (1. - r_squared_i)\n"
     ]
    },
    {
     "data": {
      "text/plain": [
       "[('sqft_living', 2.058248657190196),\n",
       " ('bedrooms_1_0986122886681098', 2.7487629185087203),\n",
       " ('bedrooms_1_3862943611198906', 3.485563540689037),\n",
       " ('bedrooms_1_6094379124341003', 2.0160172898378437),\n",
       " ('bedrooms_1_791759469228055', 1.2044137463399307),\n",
       " ('bedrooms_1_9459101490553132', 1.0354038831347616),\n",
       " ('bedrooms_2_1972245773362196', 1.0091671269719096),\n",
       " ('bedrooms_2_302585092994046', 1.0028920043771647),\n",
       " ('bedrooms_2_3978952727983707', 1.0007313332980001),\n",
       " ('floors_1_0', inf),\n",
       " ('floors_1_5', inf),\n",
       " ('floors_2_0', inf),\n",
       " ('floors_2_5', inf),\n",
       " ('floors_3_0', inf),\n",
       " ('floors_3_5', inf),\n",
       " ('condition_Average', inf),\n",
       " ('condition_Fair', inf),\n",
       " ('condition_Good', inf),\n",
       " ('condition_Poor', inf),\n",
       " ('condition_Very_Good', inf)]"
      ]
     },
     "execution_count": 545,
     "metadata": {},
     "output_type": "execute_result"
    }
   ],
   "source": [
    "X = df_categorical_cleaned[x_cols]\n",
    "vif = [variance_inflation_factor(X.values,i) for i in range(X.shape[1])]\n",
    "list(zip(X, vif))"
   ]
  },
  {
   "cell_type": "code",
   "execution_count": 546,
   "metadata": {
    "ExecuteTime": {
     "end_time": "2022-05-17T05:03:41.070345Z",
     "start_time": "2022-05-17T05:03:41.063812Z"
    }
   },
   "outputs": [
    {
     "data": {
      "text/plain": [
       "['sqft_living',\n",
       " 'bedrooms_1_0986122886681098',\n",
       " 'bedrooms_1_3862943611198906',\n",
       " 'bedrooms_1_6094379124341003',\n",
       " 'bedrooms_1_791759469228055',\n",
       " 'bedrooms_1_9459101490553132',\n",
       " 'bedrooms_2_1972245773362196',\n",
       " 'bedrooms_2_302585092994046',\n",
       " 'bedrooms_2_3978952727983707']"
      ]
     },
     "execution_count": 546,
     "metadata": {},
     "output_type": "execute_result"
    }
   ],
   "source": [
    "def varianceCheck(variance_inflation):\n",
    "    cols = []\n",
    "    for col, val in variance_inflation:\n",
    "        if val < 5:\n",
    "            cols.append(col)\n",
    "    return cols\n",
    "\n",
    "x_cols_variance = varianceCheck(list(zip(x_cols, vif)))\n",
    "#change for the original one \n",
    "x_cols_variance"
   ]
  },
  {
   "cell_type": "code",
   "execution_count": 547,
   "metadata": {
    "ExecuteTime": {
     "end_time": "2022-05-17T05:03:42.747853Z",
     "start_time": "2022-05-17T05:03:42.576952Z"
    }
   },
   "outputs": [
    {
     "data": {
      "text/html": [
       "<table class=\"simpletable\">\n",
       "<caption>OLS Regression Results</caption>\n",
       "<tr>\n",
       "  <th>Dep. Variable:</th>          <td>price</td>      <th>  R-squared:         </th>  <td>   0.419</td>  \n",
       "</tr>\n",
       "<tr>\n",
       "  <th>Model:</th>                   <td>OLS</td>       <th>  Adj. R-squared:    </th>  <td>   0.418</td>  \n",
       "</tr>\n",
       "<tr>\n",
       "  <th>Method:</th>             <td>Least Squares</td>  <th>  F-statistic:       </th>  <td>   863.1</td>  \n",
       "</tr>\n",
       "<tr>\n",
       "  <th>Date:</th>             <td>Wed, 18 May 2022</td> <th>  Prob (F-statistic):</th>   <td>  0.00</td>   \n",
       "</tr>\n",
       "<tr>\n",
       "  <th>Time:</th>                 <td>22:49:37</td>     <th>  Log-Likelihood:    </th> <td>-3.0153e+05</td>\n",
       "</tr>\n",
       "<tr>\n",
       "  <th>No. Observations:</th>      <td> 21597</td>      <th>  AIC:               </th>  <td>6.031e+05</td> \n",
       "</tr>\n",
       "<tr>\n",
       "  <th>Df Residuals:</th>          <td> 21578</td>      <th>  BIC:               </th>  <td>6.033e+05</td> \n",
       "</tr>\n",
       "<tr>\n",
       "  <th>Df Model:</th>              <td>    18</td>      <th>                     </th>      <td> </td>     \n",
       "</tr>\n",
       "<tr>\n",
       "  <th>Covariance Type:</th>      <td>nonrobust</td>    <th>                     </th>      <td> </td>     \n",
       "</tr>\n",
       "</table>\n",
       "<table class=\"simpletable\">\n",
       "<tr>\n",
       "               <td></td>                  <th>coef</th>     <th>std err</th>      <th>t</th>      <th>P>|t|</th>  <th>[0.025</th>    <th>0.975]</th>  \n",
       "</tr>\n",
       "<tr>\n",
       "  <th>Intercept</th>                   <td>-2.842e+06</td> <td> 3.72e+04</td> <td>  -76.410</td> <td> 0.000</td> <td>-2.91e+06</td> <td>-2.77e+06</td>\n",
       "</tr>\n",
       "<tr>\n",
       "  <th>sqft_living</th>                 <td> 6.283e+05</td> <td> 6449.385</td> <td>   97.417</td> <td> 0.000</td> <td> 6.16e+05</td> <td> 6.41e+05</td>\n",
       "</tr>\n",
       "<tr>\n",
       "  <th>bedrooms_1_0986122886681098</th> <td>-1.861e+05</td> <td> 6348.851</td> <td>  -29.311</td> <td> 0.000</td> <td>-1.99e+05</td> <td>-1.74e+05</td>\n",
       "</tr>\n",
       "<tr>\n",
       "  <th>bedrooms_1_3862943611198906</th> <td>-2.363e+05</td> <td> 7640.350</td> <td>  -30.927</td> <td> 0.000</td> <td>-2.51e+05</td> <td>-2.21e+05</td>\n",
       "</tr>\n",
       "<tr>\n",
       "  <th>bedrooms_1_6094379124341003</th> <td>-1.957e+05</td> <td> 1.03e+04</td> <td>  -18.938</td> <td> 0.000</td> <td>-2.16e+05</td> <td>-1.75e+05</td>\n",
       "</tr>\n",
       "<tr>\n",
       "  <th>bedrooms_1_791759469228055</th>  <td>-2.132e+05</td> <td> 1.88e+04</td> <td>  -11.360</td> <td> 0.000</td> <td> -2.5e+05</td> <td>-1.76e+05</td>\n",
       "</tr>\n",
       "<tr>\n",
       "  <th>bedrooms_1_9459101490553132</th> <td>-1.971e+05</td> <td> 4.63e+04</td> <td>   -4.257</td> <td> 0.000</td> <td>-2.88e+05</td> <td>-1.06e+05</td>\n",
       "</tr>\n",
       "<tr>\n",
       "  <th>bedrooms_2_1972245773362196</th> <td> -3.18e+05</td> <td> 1.15e+05</td> <td>   -2.766</td> <td> 0.006</td> <td>-5.43e+05</td> <td>-9.27e+04</td>\n",
       "</tr>\n",
       "<tr>\n",
       "  <th>bedrooms_2_302585092994046</th>  <td>-3.016e+05</td> <td> 1.62e+05</td> <td>   -1.862</td> <td> 0.063</td> <td>-6.19e+05</td> <td>  1.6e+04</td>\n",
       "</tr>\n",
       "<tr>\n",
       "  <th>bedrooms_2_3978952727983707</th> <td>-4.575e+05</td> <td>  2.8e+05</td> <td>   -1.632</td> <td> 0.103</td> <td>-1.01e+06</td> <td>  9.2e+04</td>\n",
       "</tr>\n",
       "<tr>\n",
       "  <th>floors_1_0</th>                  <td> -6.07e+05</td> <td> 1.68e+04</td> <td>  -36.181</td> <td> 0.000</td> <td> -6.4e+05</td> <td>-5.74e+05</td>\n",
       "</tr>\n",
       "<tr>\n",
       "  <th>floors_1_5</th>                  <td>-5.435e+05</td> <td> 1.75e+04</td> <td>  -31.020</td> <td> 0.000</td> <td>-5.78e+05</td> <td>-5.09e+05</td>\n",
       "</tr>\n",
       "<tr>\n",
       "  <th>floors_2_0</th>                  <td>-6.027e+05</td> <td> 1.74e+04</td> <td>  -34.583</td> <td> 0.000</td> <td>-6.37e+05</td> <td>-5.69e+05</td>\n",
       "</tr>\n",
       "<tr>\n",
       "  <th>floors_2_5</th>                  <td>-3.121e+05</td> <td> 2.56e+04</td> <td>  -12.203</td> <td> 0.000</td> <td>-3.62e+05</td> <td>-2.62e+05</td>\n",
       "</tr>\n",
       "<tr>\n",
       "  <th>floors_3_0</th>                  <td>-4.684e+05</td> <td> 1.94e+04</td> <td>  -24.204</td> <td> 0.000</td> <td>-5.06e+05</td> <td> -4.3e+05</td>\n",
       "</tr>\n",
       "<tr>\n",
       "  <th>floors_3_5</th>                  <td>-3.079e+05</td> <td> 9.08e+04</td> <td>   -3.391</td> <td> 0.001</td> <td>-4.86e+05</td> <td> -1.3e+05</td>\n",
       "</tr>\n",
       "<tr>\n",
       "  <th>condition_Average</th>           <td>-6.086e+05</td> <td> 1.26e+04</td> <td>  -48.349</td> <td> 0.000</td> <td>-6.33e+05</td> <td>-5.84e+05</td>\n",
       "</tr>\n",
       "<tr>\n",
       "  <th>condition_Fair</th>              <td>-6.023e+05</td> <td> 2.11e+04</td> <td>  -28.598</td> <td> 0.000</td> <td>-6.44e+05</td> <td>-5.61e+05</td>\n",
       "</tr>\n",
       "<tr>\n",
       "  <th>condition_Good</th>              <td>-5.734e+05</td> <td> 1.28e+04</td> <td>  -44.766</td> <td> 0.000</td> <td>-5.98e+05</td> <td>-5.48e+05</td>\n",
       "</tr>\n",
       "<tr>\n",
       "  <th>condition_Poor</th>              <td>-5.531e+05</td> <td> 4.38e+04</td> <td>  -12.620</td> <td> 0.000</td> <td>-6.39e+05</td> <td>-4.67e+05</td>\n",
       "</tr>\n",
       "<tr>\n",
       "  <th>condition_Very_Good</th>         <td>-5.041e+05</td> <td> 1.37e+04</td> <td>  -36.892</td> <td> 0.000</td> <td>-5.31e+05</td> <td>-4.77e+05</td>\n",
       "</tr>\n",
       "</table>\n",
       "<table class=\"simpletable\">\n",
       "<tr>\n",
       "  <th>Omnibus:</th>       <td>19183.484</td> <th>  Durbin-Watson:     </th>  <td>   1.980</td>  \n",
       "</tr>\n",
       "<tr>\n",
       "  <th>Prob(Omnibus):</th>  <td> 0.000</td>   <th>  Jarque-Bera (JB):  </th> <td>1646921.732</td>\n",
       "</tr>\n",
       "<tr>\n",
       "  <th>Skew:</th>           <td> 3.905</td>   <th>  Prob(JB):          </th>  <td>    0.00</td>  \n",
       "</tr>\n",
       "<tr>\n",
       "  <th>Kurtosis:</th>       <td>45.062</td>   <th>  Cond. No.          </th>  <td>9.31e+16</td>  \n",
       "</tr>\n",
       "</table><br/><br/>Notes:<br/>[1] Standard Errors assume that the covariance matrix of the errors is correctly specified.<br/>[2] The smallest eigenvalue is 1.48e-28. This might indicate that there are<br/>strong multicollinearity problems or that the design matrix is singular."
      ],
      "text/plain": [
       "<class 'statsmodels.iolib.summary.Summary'>\n",
       "\"\"\"\n",
       "                            OLS Regression Results                            \n",
       "==============================================================================\n",
       "Dep. Variable:                  price   R-squared:                       0.419\n",
       "Model:                            OLS   Adj. R-squared:                  0.418\n",
       "Method:                 Least Squares   F-statistic:                     863.1\n",
       "Date:                Wed, 18 May 2022   Prob (F-statistic):               0.00\n",
       "Time:                        22:49:37   Log-Likelihood:            -3.0153e+05\n",
       "No. Observations:               21597   AIC:                         6.031e+05\n",
       "Df Residuals:                   21578   BIC:                         6.033e+05\n",
       "Df Model:                          18                                         \n",
       "Covariance Type:            nonrobust                                         \n",
       "===============================================================================================\n",
       "                                  coef    std err          t      P>|t|      [0.025      0.975]\n",
       "-----------------------------------------------------------------------------------------------\n",
       "Intercept                   -2.842e+06   3.72e+04    -76.410      0.000   -2.91e+06   -2.77e+06\n",
       "sqft_living                  6.283e+05   6449.385     97.417      0.000    6.16e+05    6.41e+05\n",
       "bedrooms_1_0986122886681098 -1.861e+05   6348.851    -29.311      0.000   -1.99e+05   -1.74e+05\n",
       "bedrooms_1_3862943611198906 -2.363e+05   7640.350    -30.927      0.000   -2.51e+05   -2.21e+05\n",
       "bedrooms_1_6094379124341003 -1.957e+05   1.03e+04    -18.938      0.000   -2.16e+05   -1.75e+05\n",
       "bedrooms_1_791759469228055  -2.132e+05   1.88e+04    -11.360      0.000    -2.5e+05   -1.76e+05\n",
       "bedrooms_1_9459101490553132 -1.971e+05   4.63e+04     -4.257      0.000   -2.88e+05   -1.06e+05\n",
       "bedrooms_2_1972245773362196  -3.18e+05   1.15e+05     -2.766      0.006   -5.43e+05   -9.27e+04\n",
       "bedrooms_2_302585092994046  -3.016e+05   1.62e+05     -1.862      0.063   -6.19e+05     1.6e+04\n",
       "bedrooms_2_3978952727983707 -4.575e+05    2.8e+05     -1.632      0.103   -1.01e+06     9.2e+04\n",
       "floors_1_0                   -6.07e+05   1.68e+04    -36.181      0.000    -6.4e+05   -5.74e+05\n",
       "floors_1_5                  -5.435e+05   1.75e+04    -31.020      0.000   -5.78e+05   -5.09e+05\n",
       "floors_2_0                  -6.027e+05   1.74e+04    -34.583      0.000   -6.37e+05   -5.69e+05\n",
       "floors_2_5                  -3.121e+05   2.56e+04    -12.203      0.000   -3.62e+05   -2.62e+05\n",
       "floors_3_0                  -4.684e+05   1.94e+04    -24.204      0.000   -5.06e+05    -4.3e+05\n",
       "floors_3_5                  -3.079e+05   9.08e+04     -3.391      0.001   -4.86e+05    -1.3e+05\n",
       "condition_Average           -6.086e+05   1.26e+04    -48.349      0.000   -6.33e+05   -5.84e+05\n",
       "condition_Fair              -6.023e+05   2.11e+04    -28.598      0.000   -6.44e+05   -5.61e+05\n",
       "condition_Good              -5.734e+05   1.28e+04    -44.766      0.000   -5.98e+05   -5.48e+05\n",
       "condition_Poor              -5.531e+05   4.38e+04    -12.620      0.000   -6.39e+05   -4.67e+05\n",
       "condition_Very_Good         -5.041e+05   1.37e+04    -36.892      0.000   -5.31e+05   -4.77e+05\n",
       "==============================================================================\n",
       "Omnibus:                    19183.484   Durbin-Watson:                   1.980\n",
       "Prob(Omnibus):                  0.000   Jarque-Bera (JB):          1646921.732\n",
       "Skew:                           3.905   Prob(JB):                         0.00\n",
       "Kurtosis:                      45.062   Cond. No.                     9.31e+16\n",
       "==============================================================================\n",
       "\n",
       "Notes:\n",
       "[1] Standard Errors assume that the covariance matrix of the errors is correctly specified.\n",
       "[2] The smallest eigenvalue is 1.48e-28. This might indicate that there are\n",
       "strong multicollinearity problems or that the design matrix is singular.\n",
       "\"\"\""
      ]
     },
     "execution_count": 547,
     "metadata": {},
     "output_type": "execute_result"
    }
   ],
   "source": [
    "outcome = 'price'\n",
    "\n",
    "#Bedrooms, \n",
    "#change x_cols for refinement model \n",
    "\n",
    "predictors = '+'.join(x_cols)\n",
    "formula = outcome + '~' + predictors \n",
    "model = ols(formula=formula, data=df_categorical_cleaned).fit()\n",
    "model.summary()"
   ]
  },
  {
   "cell_type": "code",
   "execution_count": 548,
   "metadata": {
    "ExecuteTime": {
     "end_time": "2022-05-17T05:03:46.792208Z",
     "start_time": "2022-05-17T05:03:46.778970Z"
    }
   },
   "outputs": [
    {
     "data": {
      "text/plain": [
       "[('sqft_living', 8.250531167996561),\n",
       " ('bedrooms_1_0986122886681098', 4.637811755863514),\n",
       " ('bedrooms_1_3862943611198906', 3.7949436521796427),\n",
       " ('bedrooms_1_6094379124341003', 1.6788717713954717),\n",
       " ('bedrooms_1_791759469228055', 1.1173402676339241),\n",
       " ('bedrooms_1_9459101490553132', 1.0170763524935702),\n",
       " ('bedrooms_2_1972245773362196', 1.0027115467491536),\n",
       " ('bedrooms_2_302585092994046', 1.0013476535812555),\n",
       " ('bedrooms_2_3978952727983707', 1.0004281681000304)]"
      ]
     },
     "execution_count": 548,
     "metadata": {},
     "output_type": "execute_result"
    }
   ],
   "source": [
    "X = df_categorical_cleaned[x_cols_variance]\n",
    "vif = [variance_inflation_factor(X.values,i) for i in range(X.shape[1])]\n",
    "list(zip(x_cols_variance, vif))\n",
    "#change for the new one "
   ]
  },
  {
   "cell_type": "code",
   "execution_count": 549,
   "metadata": {
    "ExecuteTime": {
     "end_time": "2022-05-17T05:00:44.577181Z",
     "start_time": "2022-05-17T05:00:44.539125Z"
    }
   },
   "outputs": [
    {
     "data": {
      "text/html": [
       "<table class=\"simpletable\">\n",
       "<caption>OLS Regression Results</caption>\n",
       "<tr>\n",
       "  <th>Dep. Variable:</th>          <td>price</td>      <th>  R-squared:         </th>  <td>   0.402</td>  \n",
       "</tr>\n",
       "<tr>\n",
       "  <th>Model:</th>                   <td>OLS</td>       <th>  Adj. R-squared:    </th>  <td>   0.401</td>  \n",
       "</tr>\n",
       "<tr>\n",
       "  <th>Method:</th>             <td>Least Squares</td>  <th>  F-statistic:       </th>  <td>   1611.</td>  \n",
       "</tr>\n",
       "<tr>\n",
       "  <th>Date:</th>             <td>Wed, 18 May 2022</td> <th>  Prob (F-statistic):</th>   <td>  0.00</td>   \n",
       "</tr>\n",
       "<tr>\n",
       "  <th>Time:</th>                 <td>22:49:39</td>     <th>  Log-Likelihood:    </th> <td>-3.0184e+05</td>\n",
       "</tr>\n",
       "<tr>\n",
       "  <th>No. Observations:</th>      <td> 21597</td>      <th>  AIC:               </th>  <td>6.037e+05</td> \n",
       "</tr>\n",
       "<tr>\n",
       "  <th>Df Residuals:</th>          <td> 21587</td>      <th>  BIC:               </th>  <td>6.038e+05</td> \n",
       "</tr>\n",
       "<tr>\n",
       "  <th>Df Model:</th>              <td>     9</td>      <th>                     </th>      <td> </td>     \n",
       "</tr>\n",
       "<tr>\n",
       "  <th>Covariance Type:</th>      <td>nonrobust</td>    <th>                     </th>      <td> </td>     \n",
       "</tr>\n",
       "</table>\n",
       "<table class=\"simpletable\">\n",
       "<tr>\n",
       "               <td></td>                  <th>coef</th>     <th>std err</th>      <th>t</th>      <th>P>|t|</th>  <th>[0.025</th>    <th>0.975]</th>  \n",
       "</tr>\n",
       "<tr>\n",
       "  <th>Intercept</th>                   <td>-3.988e+06</td> <td> 4.26e+04</td> <td>  -93.551</td> <td> 0.000</td> <td>-4.07e+06</td> <td> -3.9e+06</td>\n",
       "</tr>\n",
       "<tr>\n",
       "  <th>sqft_living</th>                 <td> 6.226e+05</td> <td> 6004.192</td> <td>  103.691</td> <td> 0.000</td> <td> 6.11e+05</td> <td> 6.34e+05</td>\n",
       "</tr>\n",
       "<tr>\n",
       "  <th>bedrooms_1_0986122886681098</th> <td>-1.813e+05</td> <td> 6415.756</td> <td>  -28.256</td> <td> 0.000</td> <td>-1.94e+05</td> <td>-1.69e+05</td>\n",
       "</tr>\n",
       "<tr>\n",
       "  <th>bedrooms_1_3862943611198906</th> <td>-2.311e+05</td> <td> 7698.440</td> <td>  -30.013</td> <td> 0.000</td> <td>-2.46e+05</td> <td>-2.16e+05</td>\n",
       "</tr>\n",
       "<tr>\n",
       "  <th>bedrooms_1_6094379124341003</th> <td>-1.856e+05</td> <td> 1.04e+04</td> <td>  -17.841</td> <td> 0.000</td> <td>-2.06e+05</td> <td>-1.65e+05</td>\n",
       "</tr>\n",
       "<tr>\n",
       "  <th>bedrooms_1_791759469228055</th>  <td>-1.895e+05</td> <td>  1.9e+04</td> <td>   -9.997</td> <td> 0.000</td> <td>-2.27e+05</td> <td>-1.52e+05</td>\n",
       "</tr>\n",
       "<tr>\n",
       "  <th>bedrooms_1_9459101490553132</th> <td>-1.671e+05</td> <td> 4.69e+04</td> <td>   -3.563</td> <td> 0.000</td> <td>-2.59e+05</td> <td>-7.52e+04</td>\n",
       "</tr>\n",
       "<tr>\n",
       "  <th>bedrooms_2_1972245773362196</th> <td> -2.39e+05</td> <td> 1.16e+05</td> <td>   -2.054</td> <td> 0.040</td> <td>-4.67e+05</td> <td> -1.1e+04</td>\n",
       "</tr>\n",
       "<tr>\n",
       "  <th>bedrooms_2_302585092994046</th>  <td>-2.977e+05</td> <td> 1.64e+05</td> <td>   -1.812</td> <td> 0.070</td> <td> -6.2e+05</td> <td> 2.44e+04</td>\n",
       "</tr>\n",
       "<tr>\n",
       "  <th>bedrooms_2_3978952727983707</th> <td>-4.766e+05</td> <td> 2.84e+05</td> <td>   -1.676</td> <td> 0.094</td> <td>-1.03e+06</td> <td> 8.06e+04</td>\n",
       "</tr>\n",
       "</table>\n",
       "<table class=\"simpletable\">\n",
       "<tr>\n",
       "  <th>Omnibus:</th>       <td>19042.050</td> <th>  Durbin-Watson:     </th>  <td>   1.980</td>  \n",
       "</tr>\n",
       "<tr>\n",
       "  <th>Prob(Omnibus):</th>  <td> 0.000</td>   <th>  Jarque-Bera (JB):  </th> <td>1586426.954</td>\n",
       "</tr>\n",
       "<tr>\n",
       "  <th>Skew:</th>           <td> 3.867</td>   <th>  Prob(JB):          </th>  <td>    0.00</td>  \n",
       "</tr>\n",
       "<tr>\n",
       "  <th>Kurtosis:</th>       <td>44.269</td>   <th>  Cond. No.          </th>  <td>1.12e+03</td>  \n",
       "</tr>\n",
       "</table><br/><br/>Notes:<br/>[1] Standard Errors assume that the covariance matrix of the errors is correctly specified.<br/>[2] The condition number is large, 1.12e+03. This might indicate that there are<br/>strong multicollinearity or other numerical problems."
      ],
      "text/plain": [
       "<class 'statsmodels.iolib.summary.Summary'>\n",
       "\"\"\"\n",
       "                            OLS Regression Results                            \n",
       "==============================================================================\n",
       "Dep. Variable:                  price   R-squared:                       0.402\n",
       "Model:                            OLS   Adj. R-squared:                  0.401\n",
       "Method:                 Least Squares   F-statistic:                     1611.\n",
       "Date:                Wed, 18 May 2022   Prob (F-statistic):               0.00\n",
       "Time:                        22:49:39   Log-Likelihood:            -3.0184e+05\n",
       "No. Observations:               21597   AIC:                         6.037e+05\n",
       "Df Residuals:                   21587   BIC:                         6.038e+05\n",
       "Df Model:                           9                                         \n",
       "Covariance Type:            nonrobust                                         \n",
       "===============================================================================================\n",
       "                                  coef    std err          t      P>|t|      [0.025      0.975]\n",
       "-----------------------------------------------------------------------------------------------\n",
       "Intercept                   -3.988e+06   4.26e+04    -93.551      0.000   -4.07e+06    -3.9e+06\n",
       "sqft_living                  6.226e+05   6004.192    103.691      0.000    6.11e+05    6.34e+05\n",
       "bedrooms_1_0986122886681098 -1.813e+05   6415.756    -28.256      0.000   -1.94e+05   -1.69e+05\n",
       "bedrooms_1_3862943611198906 -2.311e+05   7698.440    -30.013      0.000   -2.46e+05   -2.16e+05\n",
       "bedrooms_1_6094379124341003 -1.856e+05   1.04e+04    -17.841      0.000   -2.06e+05   -1.65e+05\n",
       "bedrooms_1_791759469228055  -1.895e+05    1.9e+04     -9.997      0.000   -2.27e+05   -1.52e+05\n",
       "bedrooms_1_9459101490553132 -1.671e+05   4.69e+04     -3.563      0.000   -2.59e+05   -7.52e+04\n",
       "bedrooms_2_1972245773362196  -2.39e+05   1.16e+05     -2.054      0.040   -4.67e+05    -1.1e+04\n",
       "bedrooms_2_302585092994046  -2.977e+05   1.64e+05     -1.812      0.070    -6.2e+05    2.44e+04\n",
       "bedrooms_2_3978952727983707 -4.766e+05   2.84e+05     -1.676      0.094   -1.03e+06    8.06e+04\n",
       "==============================================================================\n",
       "Omnibus:                    19042.050   Durbin-Watson:                   1.980\n",
       "Prob(Omnibus):                  0.000   Jarque-Bera (JB):          1586426.954\n",
       "Skew:                           3.867   Prob(JB):                         0.00\n",
       "Kurtosis:                      44.269   Cond. No.                     1.12e+03\n",
       "==============================================================================\n",
       "\n",
       "Notes:\n",
       "[1] Standard Errors assume that the covariance matrix of the errors is correctly specified.\n",
       "[2] The condition number is large, 1.12e+03. This might indicate that there are\n",
       "strong multicollinearity or other numerical problems.\n",
       "\"\"\""
      ]
     },
     "execution_count": 549,
     "metadata": {},
     "output_type": "execute_result"
    }
   ],
   "source": [
    "outcome = 'price'\n",
    "#change x_cols for refinement model 2 \n",
    "predictors = '+'.join(x_cols_variance)\n",
    "formula = outcome + '~' + predictors \n",
    "model = ols(formula=formula, data=df_categorical_cleaned).fit()\n",
    "model.summary()"
   ]
  },
  {
   "cell_type": "markdown",
   "metadata": {},
   "source": [
    "## Check for Normality "
   ]
  },
  {
   "cell_type": "code",
   "execution_count": 550,
   "metadata": {
    "ExecuteTime": {
     "end_time": "2022-05-17T05:00:47.541380Z",
     "start_time": "2022-05-17T05:00:47.536580Z"
    }
   },
   "outputs": [],
   "source": [
    "import statsmodels.api as sm \n",
    "import scipy.stats as stats "
   ]
  },
  {
   "cell_type": "code",
   "execution_count": 551,
   "metadata": {
    "ExecuteTime": {
     "end_time": "2022-05-17T05:00:48.730169Z",
     "start_time": "2022-05-17T05:00:48.589616Z"
    }
   },
   "outputs": [
    {
     "data": {
      "image/png": "[encoded data removed]",
      "text/plain": [
       "<Figure size 432x288 with 1 Axes>"
      ]
     },
     "metadata": {
      "needs_background": "light"
     },
     "output_type": "display_data"
    }
   ],
   "source": [
    "fig = sm.graphics.qqplot(model.resid, dist=stats.norm, line='45', fit=True )"
   ]
  },
  {
   "cell_type": "markdown",
   "metadata": {},
   "source": [
    "## Checking for Homoscedasticity "
   ]
  },
  {
   "cell_type": "code",
   "execution_count": 664,
   "metadata": {
    "ExecuteTime": {
     "end_time": "2022-05-17T04:48:30.784026Z",
     "start_time": "2022-05-17T04:48:30.763987Z"
    }
   },
   "outputs": [
    {
     "ename": "KeyError",
     "evalue": "\"None of [Index(['floors_1_0', 'floors_1_5', 'floors_2_0', 'floors_2_5', 'floors_3_0',\\n       'floors_3_5', 'condition_Average', 'condition_Fair', 'condition_Good',\\n       'condition_Poor', 'condition_Very_Good', 'bedrooms_1', 'bedrooms_2',\\n       'bedrooms_3', 'bedrooms_4', 'bedrooms_5', 'bedrooms_6', 'bedrooms_7',\\n       'bedrooms_8', 'bathrooms_0_5', 'bathrooms_0_75', 'bathrooms_1_0',\\n       'bathrooms_1_25', 'bathrooms_1_5', 'bathrooms_1_75', 'bathrooms_2_0',\\n       'bathrooms_2_25', 'bathrooms_2_5', 'bathrooms_2_75', 'bathrooms_3_0',\\n       'bathrooms_3_25', 'bathrooms_3_5', 'bathrooms_4_0', 'bathrooms_4_25',\\n       'bathrooms_4_75', 'bathrooms_5_0', 'bathrooms_5_25', 'bathrooms_5_5',\\n       'bathrooms_6_0', 'bathrooms_6_25', 'bathrooms_6_75',\\n       'grade_10_Very_Good', 'grade_11_Excellent', 'grade_12_Luxury',\\n       'grade_13_Mansion', 'grade_3_Poor', 'grade_4_Low', 'grade_5_Fair',\\n       'grade_6_Low_Average', 'grade_7_Average', 'grade_8_Good'],\\n      dtype='object')] are in the [columns]\"",
     "output_type": "error",
     "traceback": [
      "\u001b[0;31m---------------------------------------------------------------------------\u001b[0m",
      "\u001b[0;31mKeyError\u001b[0m                                  Traceback (most recent call last)",
      "\u001b[0;32m<ipython-input-664-af4950137404>\u001b[0m in \u001b[0;36m<module>\u001b[0;34m\u001b[0m\n\u001b[0;32m----> 1\u001b[0;31m \u001b[0mplt\u001b[0m\u001b[0;34m.\u001b[0m\u001b[0mscatter\u001b[0m\u001b[0;34m(\u001b[0m\u001b[0mmodel\u001b[0m\u001b[0;34m.\u001b[0m\u001b[0mpredict\u001b[0m\u001b[0;34m(\u001b[0m\u001b[0mdf_cleaned\u001b[0m\u001b[0;34m[\u001b[0m\u001b[0mx_cols\u001b[0m\u001b[0;34m]\u001b[0m\u001b[0;34m)\u001b[0m\u001b[0;34m,\u001b[0m \u001b[0mmodel\u001b[0m\u001b[0;34m.\u001b[0m\u001b[0mresid\u001b[0m\u001b[0;34m)\u001b[0m\u001b[0;34m\u001b[0m\u001b[0;34m\u001b[0m\u001b[0m\n\u001b[0m\u001b[1;32m      2\u001b[0m \u001b[0mplt\u001b[0m\u001b[0;34m.\u001b[0m\u001b[0mplot\u001b[0m\u001b[0;34m(\u001b[0m\u001b[0mmodel\u001b[0m\u001b[0;34m.\u001b[0m\u001b[0mpredict\u001b[0m\u001b[0;34m(\u001b[0m\u001b[0mdf_cleaned\u001b[0m\u001b[0;34m[\u001b[0m\u001b[0mx_cols\u001b[0m\u001b[0;34m]\u001b[0m\u001b[0;34m)\u001b[0m\u001b[0;34m,\u001b[0m\u001b[0;34m[\u001b[0m\u001b[0;36m0\u001b[0m \u001b[0;32mfor\u001b[0m \u001b[0mi\u001b[0m \u001b[0;32min\u001b[0m \u001b[0mrange\u001b[0m\u001b[0;34m(\u001b[0m\u001b[0mlen\u001b[0m\u001b[0;34m(\u001b[0m\u001b[0mdf_cleaned\u001b[0m\u001b[0;34m)\u001b[0m\u001b[0;34m)\u001b[0m\u001b[0;34m]\u001b[0m\u001b[0;34m)\u001b[0m\u001b[0;34m\u001b[0m\u001b[0;34m\u001b[0m\u001b[0m\n",
      "\u001b[0;32m~/opt/anaconda3/envs/flatiron-env/lib/python3.8/site-packages/pandas/core/frame.py\u001b[0m in \u001b[0;36m__getitem__\u001b[0;34m(self, key)\u001b[0m\n\u001b[1;32m   2906\u001b[0m             \u001b[0;32mif\u001b[0m \u001b[0mis_iterator\u001b[0m\u001b[0;34m(\u001b[0m\u001b[0mkey\u001b[0m\u001b[0;34m)\u001b[0m\u001b[0;34m:\u001b[0m\u001b[0;34m\u001b[0m\u001b[0;34m\u001b[0m\u001b[0m\n\u001b[1;32m   2907\u001b[0m                 \u001b[0mkey\u001b[0m \u001b[0;34m=\u001b[0m \u001b[0mlist\u001b[0m\u001b[0;34m(\u001b[0m\u001b[0mkey\u001b[0m\u001b[0;34m)\u001b[0m\u001b[0;34m\u001b[0m\u001b[0;34m\u001b[0m\u001b[0m\n\u001b[0;32m-> 2908\u001b[0;31m             \u001b[0mindexer\u001b[0m \u001b[0;34m=\u001b[0m \u001b[0mself\u001b[0m\u001b[0;34m.\u001b[0m\u001b[0mloc\u001b[0m\u001b[0;34m.\u001b[0m\u001b[0m_get_listlike_indexer\u001b[0m\u001b[0;34m(\u001b[0m\u001b[0mkey\u001b[0m\u001b[0;34m,\u001b[0m \u001b[0maxis\u001b[0m\u001b[0;34m=\u001b[0m\u001b[0;36m1\u001b[0m\u001b[0;34m,\u001b[0m \u001b[0mraise_missing\u001b[0m\u001b[0;34m=\u001b[0m\u001b[0;32mTrue\u001b[0m\u001b[0;34m)\u001b[0m\u001b[0;34m[\u001b[0m\u001b[0;36m1\u001b[0m\u001b[0;34m]\u001b[0m\u001b[0;34m\u001b[0m\u001b[0;34m\u001b[0m\u001b[0m\n\u001b[0m\u001b[1;32m   2909\u001b[0m \u001b[0;34m\u001b[0m\u001b[0m\n\u001b[1;32m   2910\u001b[0m         \u001b[0;31m# take() does not accept boolean indexers\u001b[0m\u001b[0;34m\u001b[0m\u001b[0;34m\u001b[0m\u001b[0;34m\u001b[0m\u001b[0m\n",
      "\u001b[0;32m~/opt/anaconda3/envs/flatiron-env/lib/python3.8/site-packages/pandas/core/indexing.py\u001b[0m in \u001b[0;36m_get_listlike_indexer\u001b[0;34m(self, key, axis, raise_missing)\u001b[0m\n\u001b[1;32m   1252\u001b[0m             \u001b[0mkeyarr\u001b[0m\u001b[0;34m,\u001b[0m \u001b[0mindexer\u001b[0m\u001b[0;34m,\u001b[0m \u001b[0mnew_indexer\u001b[0m \u001b[0;34m=\u001b[0m \u001b[0max\u001b[0m\u001b[0;34m.\u001b[0m\u001b[0m_reindex_non_unique\u001b[0m\u001b[0;34m(\u001b[0m\u001b[0mkeyarr\u001b[0m\u001b[0;34m)\u001b[0m\u001b[0;34m\u001b[0m\u001b[0;34m\u001b[0m\u001b[0m\n\u001b[1;32m   1253\u001b[0m \u001b[0;34m\u001b[0m\u001b[0m\n\u001b[0;32m-> 1254\u001b[0;31m         \u001b[0mself\u001b[0m\u001b[0;34m.\u001b[0m\u001b[0m_validate_read_indexer\u001b[0m\u001b[0;34m(\u001b[0m\u001b[0mkeyarr\u001b[0m\u001b[0;34m,\u001b[0m \u001b[0mindexer\u001b[0m\u001b[0;34m,\u001b[0m \u001b[0maxis\u001b[0m\u001b[0;34m,\u001b[0m \u001b[0mraise_missing\u001b[0m\u001b[0;34m=\u001b[0m\u001b[0mraise_missing\u001b[0m\u001b[0;34m)\u001b[0m\u001b[0;34m\u001b[0m\u001b[0;34m\u001b[0m\u001b[0m\n\u001b[0m\u001b[1;32m   1255\u001b[0m         \u001b[0;32mreturn\u001b[0m \u001b[0mkeyarr\u001b[0m\u001b[0;34m,\u001b[0m \u001b[0mindexer\u001b[0m\u001b[0;34m\u001b[0m\u001b[0;34m\u001b[0m\u001b[0m\n\u001b[1;32m   1256\u001b[0m \u001b[0;34m\u001b[0m\u001b[0m\n",
      "\u001b[0;32m~/opt/anaconda3/envs/flatiron-env/lib/python3.8/site-packages/pandas/core/indexing.py\u001b[0m in \u001b[0;36m_validate_read_indexer\u001b[0;34m(self, key, indexer, axis, raise_missing)\u001b[0m\n\u001b[1;32m   1296\u001b[0m             \u001b[0;32mif\u001b[0m \u001b[0mmissing\u001b[0m \u001b[0;34m==\u001b[0m \u001b[0mlen\u001b[0m\u001b[0;34m(\u001b[0m\u001b[0mindexer\u001b[0m\u001b[0;34m)\u001b[0m\u001b[0;34m:\u001b[0m\u001b[0;34m\u001b[0m\u001b[0;34m\u001b[0m\u001b[0m\n\u001b[1;32m   1297\u001b[0m                 \u001b[0maxis_name\u001b[0m \u001b[0;34m=\u001b[0m \u001b[0mself\u001b[0m\u001b[0;34m.\u001b[0m\u001b[0mobj\u001b[0m\u001b[0;34m.\u001b[0m\u001b[0m_get_axis_name\u001b[0m\u001b[0;34m(\u001b[0m\u001b[0maxis\u001b[0m\u001b[0;34m)\u001b[0m\u001b[0;34m\u001b[0m\u001b[0;34m\u001b[0m\u001b[0m\n\u001b[0;32m-> 1298\u001b[0;31m                 \u001b[0;32mraise\u001b[0m \u001b[0mKeyError\u001b[0m\u001b[0;34m(\u001b[0m\u001b[0;34mf\"None of [{key}] are in the [{axis_name}]\"\u001b[0m\u001b[0;34m)\u001b[0m\u001b[0;34m\u001b[0m\u001b[0;34m\u001b[0m\u001b[0m\n\u001b[0m\u001b[1;32m   1299\u001b[0m \u001b[0;34m\u001b[0m\u001b[0m\n\u001b[1;32m   1300\u001b[0m             \u001b[0;31m# We (temporarily) allow for some missing keys with .loc, except in\u001b[0m\u001b[0;34m\u001b[0m\u001b[0;34m\u001b[0m\u001b[0;34m\u001b[0m\u001b[0m\n",
      "\u001b[0;31mKeyError\u001b[0m: \"None of [Index(['floors_1_0', 'floors_1_5', 'floors_2_0', 'floors_2_5', 'floors_3_0',\\n       'floors_3_5', 'condition_Average', 'condition_Fair', 'condition_Good',\\n       'condition_Poor', 'condition_Very_Good', 'bedrooms_1', 'bedrooms_2',\\n       'bedrooms_3', 'bedrooms_4', 'bedrooms_5', 'bedrooms_6', 'bedrooms_7',\\n       'bedrooms_8', 'bathrooms_0_5', 'bathrooms_0_75', 'bathrooms_1_0',\\n       'bathrooms_1_25', 'bathrooms_1_5', 'bathrooms_1_75', 'bathrooms_2_0',\\n       'bathrooms_2_25', 'bathrooms_2_5', 'bathrooms_2_75', 'bathrooms_3_0',\\n       'bathrooms_3_25', 'bathrooms_3_5', 'bathrooms_4_0', 'bathrooms_4_25',\\n       'bathrooms_4_75', 'bathrooms_5_0', 'bathrooms_5_25', 'bathrooms_5_5',\\n       'bathrooms_6_0', 'bathrooms_6_25', 'bathrooms_6_75',\\n       'grade_10_Very_Good', 'grade_11_Excellent', 'grade_12_Luxury',\\n       'grade_13_Mansion', 'grade_3_Poor', 'grade_4_Low', 'grade_5_Fair',\\n       'grade_6_Low_Average', 'grade_7_Average', 'grade_8_Good'],\\n      dtype='object')] are in the [columns]\""
     ]
    }
   ],
   "source": [
    "plt.scatter(model.predict(df_cleaned[x_cols]), model.resid)\n",
    "plt.plot(model.predict(df_cleaned[x_cols]),[0 for i in range(len(df_cleaned))])"
   ]
  },
  {
   "cell_type": "markdown",
   "metadata": {},
   "source": [
    "## Data Modeling\n"
   ]
  },
  {
   "cell_type": "markdown",
   "metadata": {},
   "source": [
    "## Model Refinement 3 "
   ]
  },
  {
   "cell_type": "code",
   "execution_count": null,
   "metadata": {
    "ExecuteTime": {
     "end_time": "2022-05-11T20:49:03.107884Z",
     "start_time": "2022-05-11T20:48:33.905Z"
    }
   },
   "outputs": [],
   "source": [
    "#Finding a cutoff point \n",
    "for i in range (90,99):\n",
    "    q = i/100\n",
    "    print('{} percentile:{}'.format(q, normalized_df['price'].quantile(q=q)))"
   ]
  },
  {
   "cell_type": "code",
   "execution_count": null,
   "metadata": {
    "ExecuteTime": {
     "end_time": "2022-05-11T20:49:03.109498Z",
     "start_time": "2022-05-11T20:48:33.909Z"
    }
   },
   "outputs": [],
   "source": [
    "subset = normalized_df[normalized_df['price'] <38]\n",
    "print (\"Percent removed:\", len(normalized_df)- len(subset))/len(normalized_df)\n",
    "outcome = 'price'\n",
    "x_cols = x_cols = ['bathrooms','bedrooms']\n",
    "#change x_cols for refinement model 2 \n",
    "predictors = '+'.join(x_cols)\n",
    "formula = outcome + '~' + predictors \n",
    "model = ols(formula=formula, data=normalized_df).fit()\n",
    "model.summary()"
   ]
  },
  {
   "cell_type": "markdown",
   "metadata": {},
   "source": [
    "## Rechecking Normality "
   ]
  },
  {
   "cell_type": "code",
   "execution_count": null,
   "metadata": {
    "ExecuteTime": {
     "end_time": "2022-05-11T20:49:03.110935Z",
     "start_time": "2022-05-11T20:48:33.913Z"
    }
   },
   "outputs": [],
   "source": [
    "fig = sm.graphics.qqplot(model.resid, dist=stats.norm, line='45', fit=True )"
   ]
  },
  {
   "cell_type": "markdown",
   "metadata": {
    "ExecuteTime": {
     "end_time": "2022-05-06T05:47:54.354951Z",
     "start_time": "2022-05-06T05:47:54.349888Z"
    }
   },
   "source": [
    "## Rechecking Homoscedasticity"
   ]
  },
  {
   "cell_type": "code",
   "execution_count": null,
   "metadata": {
    "ExecuteTime": {
     "end_time": "2022-05-11T20:49:03.112593Z",
     "start_time": "2022-05-11T20:48:33.916Z"
    }
   },
   "outputs": [],
   "source": [
    "plt.scatter(model.predict(normalized_df[x_cols]), model.resid)\n",
    "plt.plot(model.predict(normalized_df[x_cols]),[0 for i in range(len(normalized_df))])"
   ]
  },
  {
   "cell_type": "code",
   "execution_count": null,
   "metadata": {
    "ExecuteTime": {
     "end_time": "2022-05-11T20:49:03.114077Z",
     "start_time": "2022-05-11T20:48:33.921Z"
    }
   },
   "outputs": [],
   "source": [
    "y = normalized_df['price']\n",
    "X = normalized_df.drop('price',axis=1)"
   ]
  },
  {
   "cell_type": "markdown",
   "metadata": {},
   "source": [
    " The prediction target for this analysis is the , so we are going to split the data into two sets fro training and testing "
   ]
  },
  {
   "cell_type": "code",
   "execution_count": null,
   "metadata": {
    "ExecuteTime": {
     "end_time": "2022-05-11T20:49:03.116292Z",
     "start_time": "2022-05-11T20:48:33.925Z"
    }
   },
   "outputs": [],
   "source": [
    "from sklearn.model_selection import train_test_split \n",
    "\n",
    "X_train, X_test, y_train, y_test= train_test_split(X,y, random_state =42)"
   ]
  },
  {
   "cell_type": "markdown",
   "metadata": {},
   "source": [
    "For this project, you will use multiple linear regression modeling to analyze house sales in a northwestern county."
   ]
  },
  {
   "cell_type": "markdown",
   "metadata": {},
   "source": [
    "Key Points"
   ]
  },
  {
   "cell_type": "code",
   "execution_count": null,
   "metadata": {},
   "outputs": [],
   "source": []
  },
  {
   "cell_type": "markdown",
   "metadata": {
    "ExecuteTime": {
     "end_time": "2022-04-26T20:26:02.670090Z",
     "start_time": "2022-04-26T20:26:02.664890Z"
    }
   },
   "source": [
    "## Regression Results "
   ]
  },
  {
   "cell_type": "markdown",
   "metadata": {},
   "source": [
    "## Conclusion\n"
   ]
  },
  {
   "cell_type": "markdown",
   "metadata": {},
   "source": [
    "Recommendations "
   ]
  },
  {
   "cell_type": "markdown",
   "metadata": {
    "ExecuteTime": {
     "end_time": "2022-04-26T20:42:10.636348Z",
     "start_time": "2022-04-26T20:42:10.628816Z"
    }
   },
   "source": [
    "## Next Steps "
   ]
  },
  {
   "cell_type": "markdown",
   "metadata": {},
   "source": []
  },
  {
   "cell_type": "code",
   "execution_count": null,
   "metadata": {},
   "outputs": [],
   "source": []
  }
 ],
 "metadata": {
  "kernelspec": {
   "display_name": "Python 3",
   "language": "python",
   "name": "python3"
  },
  "language_info": {
   "codemirror_mode": {
    "name": "ipython",
    "version": 3
   },
   "file_extension": ".py",
   "mimetype": "text/x-python",
   "name": "python",
   "nbconvert_exporter": "python",
   "pygments_lexer": "ipython3",
   "version": "3.8.5"
  },
  "toc": {
   "base_numbering": 1,
   "nav_menu": {},
   "number_sections": true,
   "sideBar": true,
   "skip_h1_title": false,
   "title_cell": "Table of Contents",
   "title_sidebar": "Contents",
   "toc_cell": false,
   "toc_position": {},
   "toc_section_display": true,
   "toc_window_display": false
  }
 },
 "nbformat": 4,
 "nbformat_minor": 4
}
