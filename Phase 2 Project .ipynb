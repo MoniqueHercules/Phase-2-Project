{
 "cells": [
  {
   "cell_type": "markdown",
   "metadata": {
    "ExecuteTime": {
     "end_time": "2022-04-26T20:35:51.351346Z",
     "start_time": "2022-04-26T20:35:51.144871Z"
    }
   },
   "source": [
    "# Hello Home A Local Real Estate Agency of King County \n",
    "\n",
    "**Authors:** Monique Hercules \n",
    "***"
   ]
  },
  {
   "cell_type": "markdown",
   "metadata": {},
   "source": [
    "## Overview\n"
   ]
  },
  {
   "cell_type": "markdown",
   "metadata": {},
   "source": [
    "An analysis of a local real estate agency in King County for insights on renovation projects to increase home sales. With the knowledge acquired we will be able to predict what type of renovation will impact the sale price of home the best. \n",
    "\n",
    "These new insights will help predict the sale budget as well as \n",
    "\n",
    "The dataset in use will be from King County. "
   ]
  },
  {
   "cell_type": "markdown",
   "metadata": {},
   "source": [
    "## Business Problem"
   ]
  },
  {
   "cell_type": "markdown",
   "metadata": {},
   "source": [
    "Our stakeholder are local real estate agency that help homeowners buy/sell homes. We will provide evidencial advice about how a  home renovation might increase the estimated value of their homes and by what amount. By targeting this information the real es\n",
    "tate agency will have highier KPI's "
   ]
  },
  {
   "cell_type": "markdown",
   "metadata": {},
   "source": [
    "## Data Understanding "
   ]
  },
  {
   "cell_type": "markdown",
   "metadata": {
    "ExecuteTime": {
     "end_time": "2022-04-26T21:40:38.231303Z",
     "start_time": "2022-04-26T21:40:38.195960Z"
    }
   },
   "source": [
    "Import revelant libraries, and inspect data "
   ]
  },
  {
   "cell_type": "code",
   "execution_count": 574,
   "metadata": {
    "ExecuteTime": {
     "end_time": "2022-05-17T04:14:21.867070Z",
     "start_time": "2022-05-17T04:14:21.785511Z"
    }
   },
   "outputs": [
    {
     "data": {
      "text/html": [
       "<div>\n",
       "<style scoped>\n",
       "    .dataframe tbody tr th:only-of-type {\n",
       "        vertical-align: middle;\n",
       "    }\n",
       "\n",
       "    .dataframe tbody tr th {\n",
       "        vertical-align: top;\n",
       "    }\n",
       "\n",
       "    .dataframe thead th {\n",
       "        text-align: right;\n",
       "    }\n",
       "</style>\n",
       "<table border=\"1\" class=\"dataframe\">\n",
       "  <thead>\n",
       "    <tr style=\"text-align: right;\">\n",
       "      <th></th>\n",
       "      <th>id</th>\n",
       "      <th>date</th>\n",
       "      <th>price</th>\n",
       "      <th>bedrooms</th>\n",
       "      <th>bathrooms</th>\n",
       "      <th>sqft_living</th>\n",
       "      <th>sqft_lot</th>\n",
       "      <th>floors</th>\n",
       "      <th>waterfront</th>\n",
       "      <th>view</th>\n",
       "      <th>...</th>\n",
       "      <th>grade</th>\n",
       "      <th>sqft_above</th>\n",
       "      <th>sqft_basement</th>\n",
       "      <th>yr_built</th>\n",
       "      <th>yr_renovated</th>\n",
       "      <th>zipcode</th>\n",
       "      <th>lat</th>\n",
       "      <th>long</th>\n",
       "      <th>sqft_living15</th>\n",
       "      <th>sqft_lot15</th>\n",
       "    </tr>\n",
       "  </thead>\n",
       "  <tbody>\n",
       "    <tr>\n",
       "      <th>0</th>\n",
       "      <td>7129300520</td>\n",
       "      <td>10/13/2014</td>\n",
       "      <td>221900.0</td>\n",
       "      <td>3</td>\n",
       "      <td>1.00</td>\n",
       "      <td>1180</td>\n",
       "      <td>5650</td>\n",
       "      <td>1.0</td>\n",
       "      <td>NaN</td>\n",
       "      <td>NONE</td>\n",
       "      <td>...</td>\n",
       "      <td>7 Average</td>\n",
       "      <td>1180</td>\n",
       "      <td>0.0</td>\n",
       "      <td>1955</td>\n",
       "      <td>0.0</td>\n",
       "      <td>98178</td>\n",
       "      <td>47.5112</td>\n",
       "      <td>-122.257</td>\n",
       "      <td>1340</td>\n",
       "      <td>5650</td>\n",
       "    </tr>\n",
       "    <tr>\n",
       "      <th>1</th>\n",
       "      <td>6414100192</td>\n",
       "      <td>12/9/2014</td>\n",
       "      <td>538000.0</td>\n",
       "      <td>3</td>\n",
       "      <td>2.25</td>\n",
       "      <td>2570</td>\n",
       "      <td>7242</td>\n",
       "      <td>2.0</td>\n",
       "      <td>NO</td>\n",
       "      <td>NONE</td>\n",
       "      <td>...</td>\n",
       "      <td>7 Average</td>\n",
       "      <td>2170</td>\n",
       "      <td>400.0</td>\n",
       "      <td>1951</td>\n",
       "      <td>1991.0</td>\n",
       "      <td>98125</td>\n",
       "      <td>47.7210</td>\n",
       "      <td>-122.319</td>\n",
       "      <td>1690</td>\n",
       "      <td>7639</td>\n",
       "    </tr>\n",
       "    <tr>\n",
       "      <th>2</th>\n",
       "      <td>5631500400</td>\n",
       "      <td>2/25/2015</td>\n",
       "      <td>180000.0</td>\n",
       "      <td>2</td>\n",
       "      <td>1.00</td>\n",
       "      <td>770</td>\n",
       "      <td>10000</td>\n",
       "      <td>1.0</td>\n",
       "      <td>NO</td>\n",
       "      <td>NONE</td>\n",
       "      <td>...</td>\n",
       "      <td>6 Low Average</td>\n",
       "      <td>770</td>\n",
       "      <td>0.0</td>\n",
       "      <td>1933</td>\n",
       "      <td>NaN</td>\n",
       "      <td>98028</td>\n",
       "      <td>47.7379</td>\n",
       "      <td>-122.233</td>\n",
       "      <td>2720</td>\n",
       "      <td>8062</td>\n",
       "    </tr>\n",
       "    <tr>\n",
       "      <th>3</th>\n",
       "      <td>2487200875</td>\n",
       "      <td>12/9/2014</td>\n",
       "      <td>604000.0</td>\n",
       "      <td>4</td>\n",
       "      <td>3.00</td>\n",
       "      <td>1960</td>\n",
       "      <td>5000</td>\n",
       "      <td>1.0</td>\n",
       "      <td>NO</td>\n",
       "      <td>NONE</td>\n",
       "      <td>...</td>\n",
       "      <td>7 Average</td>\n",
       "      <td>1050</td>\n",
       "      <td>910.0</td>\n",
       "      <td>1965</td>\n",
       "      <td>0.0</td>\n",
       "      <td>98136</td>\n",
       "      <td>47.5208</td>\n",
       "      <td>-122.393</td>\n",
       "      <td>1360</td>\n",
       "      <td>5000</td>\n",
       "    </tr>\n",
       "    <tr>\n",
       "      <th>4</th>\n",
       "      <td>1954400510</td>\n",
       "      <td>2/18/2015</td>\n",
       "      <td>510000.0</td>\n",
       "      <td>3</td>\n",
       "      <td>2.00</td>\n",
       "      <td>1680</td>\n",
       "      <td>8080</td>\n",
       "      <td>1.0</td>\n",
       "      <td>NO</td>\n",
       "      <td>NONE</td>\n",
       "      <td>...</td>\n",
       "      <td>8 Good</td>\n",
       "      <td>1680</td>\n",
       "      <td>0.0</td>\n",
       "      <td>1987</td>\n",
       "      <td>0.0</td>\n",
       "      <td>98074</td>\n",
       "      <td>47.6168</td>\n",
       "      <td>-122.045</td>\n",
       "      <td>1800</td>\n",
       "      <td>7503</td>\n",
       "    </tr>\n",
       "  </tbody>\n",
       "</table>\n",
       "<p>5 rows × 21 columns</p>\n",
       "</div>"
      ],
      "text/plain": [
       "           id        date     price  bedrooms  bathrooms  sqft_living  \\\n",
       "0  7129300520  10/13/2014  221900.0         3       1.00         1180   \n",
       "1  6414100192   12/9/2014  538000.0         3       2.25         2570   \n",
       "2  5631500400   2/25/2015  180000.0         2       1.00          770   \n",
       "3  2487200875   12/9/2014  604000.0         4       3.00         1960   \n",
       "4  1954400510   2/18/2015  510000.0         3       2.00         1680   \n",
       "\n",
       "   sqft_lot  floors waterfront  view  ...          grade sqft_above  \\\n",
       "0      5650     1.0        NaN  NONE  ...      7 Average       1180   \n",
       "1      7242     2.0         NO  NONE  ...      7 Average       2170   \n",
       "2     10000     1.0         NO  NONE  ...  6 Low Average        770   \n",
       "3      5000     1.0         NO  NONE  ...      7 Average       1050   \n",
       "4      8080     1.0         NO  NONE  ...         8 Good       1680   \n",
       "\n",
       "   sqft_basement yr_built  yr_renovated  zipcode      lat     long  \\\n",
       "0            0.0     1955           0.0    98178  47.5112 -122.257   \n",
       "1          400.0     1951        1991.0    98125  47.7210 -122.319   \n",
       "2            0.0     1933           NaN    98028  47.7379 -122.233   \n",
       "3          910.0     1965           0.0    98136  47.5208 -122.393   \n",
       "4            0.0     1987           0.0    98074  47.6168 -122.045   \n",
       "\n",
       "   sqft_living15  sqft_lot15  \n",
       "0           1340        5650  \n",
       "1           1690        7639  \n",
       "2           2720        8062  \n",
       "3           1360        5000  \n",
       "4           1800        7503  \n",
       "\n",
       "[5 rows x 21 columns]"
      ]
     },
     "execution_count": 574,
     "metadata": {},
     "output_type": "execute_result"
    }
   ],
   "source": [
    "\n",
    "import pandas as pd\n",
    "import numpy as np \n",
    "import seaborn as sns\n",
    "from sklearn.linear_model import LinearRegression\n",
    "import matplotlib.pyplot as plt\n",
    "%matplotlib inline\n",
    "\n",
    "\n",
    "df = pd.read_csv(\"data/kc_house_data.csv\")\n",
    "df.head()"
   ]
  },
  {
   "cell_type": "code",
   "execution_count": 565,
   "metadata": {
    "ExecuteTime": {
     "end_time": "2022-05-17T04:10:53.039295Z",
     "start_time": "2022-05-17T04:10:52.983765Z"
    },
    "scrolled": true
   },
   "outputs": [
    {
     "data": {
      "text/html": [
       "<div>\n",
       "<style scoped>\n",
       "    .dataframe tbody tr th:only-of-type {\n",
       "        vertical-align: middle;\n",
       "    }\n",
       "\n",
       "    .dataframe tbody tr th {\n",
       "        vertical-align: top;\n",
       "    }\n",
       "\n",
       "    .dataframe thead th {\n",
       "        text-align: right;\n",
       "    }\n",
       "</style>\n",
       "<table border=\"1\" class=\"dataframe\">\n",
       "  <thead>\n",
       "    <tr style=\"text-align: right;\">\n",
       "      <th></th>\n",
       "      <th>id</th>\n",
       "      <th>price</th>\n",
       "      <th>bedrooms</th>\n",
       "      <th>bathrooms</th>\n",
       "      <th>sqft_living</th>\n",
       "      <th>sqft_lot</th>\n",
       "      <th>floors</th>\n",
       "      <th>sqft_above</th>\n",
       "      <th>yr_built</th>\n",
       "      <th>yr_renovated</th>\n",
       "      <th>zipcode</th>\n",
       "      <th>lat</th>\n",
       "      <th>long</th>\n",
       "      <th>sqft_living15</th>\n",
       "      <th>sqft_lot15</th>\n",
       "    </tr>\n",
       "  </thead>\n",
       "  <tbody>\n",
       "    <tr>\n",
       "      <th>count</th>\n",
       "      <td>2.159700e+04</td>\n",
       "      <td>2.159700e+04</td>\n",
       "      <td>21597.000000</td>\n",
       "      <td>21597.000000</td>\n",
       "      <td>21597.000000</td>\n",
       "      <td>2.159700e+04</td>\n",
       "      <td>21597.000000</td>\n",
       "      <td>21597.000000</td>\n",
       "      <td>21597.000000</td>\n",
       "      <td>17755.000000</td>\n",
       "      <td>21597.000000</td>\n",
       "      <td>21597.000000</td>\n",
       "      <td>21597.000000</td>\n",
       "      <td>21597.000000</td>\n",
       "      <td>21597.000000</td>\n",
       "    </tr>\n",
       "    <tr>\n",
       "      <th>mean</th>\n",
       "      <td>4.580474e+09</td>\n",
       "      <td>5.402966e+05</td>\n",
       "      <td>3.373200</td>\n",
       "      <td>2.115826</td>\n",
       "      <td>2080.321850</td>\n",
       "      <td>1.509941e+04</td>\n",
       "      <td>1.494096</td>\n",
       "      <td>1788.596842</td>\n",
       "      <td>1970.999676</td>\n",
       "      <td>83.636778</td>\n",
       "      <td>98077.951845</td>\n",
       "      <td>47.560093</td>\n",
       "      <td>-122.213982</td>\n",
       "      <td>1986.620318</td>\n",
       "      <td>12758.283512</td>\n",
       "    </tr>\n",
       "    <tr>\n",
       "      <th>std</th>\n",
       "      <td>2.876736e+09</td>\n",
       "      <td>3.673681e+05</td>\n",
       "      <td>0.926299</td>\n",
       "      <td>0.768984</td>\n",
       "      <td>918.106125</td>\n",
       "      <td>4.141264e+04</td>\n",
       "      <td>0.539683</td>\n",
       "      <td>827.759761</td>\n",
       "      <td>29.375234</td>\n",
       "      <td>399.946414</td>\n",
       "      <td>53.513072</td>\n",
       "      <td>0.138552</td>\n",
       "      <td>0.140724</td>\n",
       "      <td>685.230472</td>\n",
       "      <td>27274.441950</td>\n",
       "    </tr>\n",
       "    <tr>\n",
       "      <th>min</th>\n",
       "      <td>1.000102e+06</td>\n",
       "      <td>7.800000e+04</td>\n",
       "      <td>1.000000</td>\n",
       "      <td>0.500000</td>\n",
       "      <td>370.000000</td>\n",
       "      <td>5.200000e+02</td>\n",
       "      <td>1.000000</td>\n",
       "      <td>370.000000</td>\n",
       "      <td>1900.000000</td>\n",
       "      <td>0.000000</td>\n",
       "      <td>98001.000000</td>\n",
       "      <td>47.155900</td>\n",
       "      <td>-122.519000</td>\n",
       "      <td>399.000000</td>\n",
       "      <td>651.000000</td>\n",
       "    </tr>\n",
       "    <tr>\n",
       "      <th>25%</th>\n",
       "      <td>2.123049e+09</td>\n",
       "      <td>3.220000e+05</td>\n",
       "      <td>3.000000</td>\n",
       "      <td>1.750000</td>\n",
       "      <td>1430.000000</td>\n",
       "      <td>5.040000e+03</td>\n",
       "      <td>1.000000</td>\n",
       "      <td>1190.000000</td>\n",
       "      <td>1951.000000</td>\n",
       "      <td>0.000000</td>\n",
       "      <td>98033.000000</td>\n",
       "      <td>47.471100</td>\n",
       "      <td>-122.328000</td>\n",
       "      <td>1490.000000</td>\n",
       "      <td>5100.000000</td>\n",
       "    </tr>\n",
       "    <tr>\n",
       "      <th>50%</th>\n",
       "      <td>3.904930e+09</td>\n",
       "      <td>4.500000e+05</td>\n",
       "      <td>3.000000</td>\n",
       "      <td>2.250000</td>\n",
       "      <td>1910.000000</td>\n",
       "      <td>7.618000e+03</td>\n",
       "      <td>1.500000</td>\n",
       "      <td>1560.000000</td>\n",
       "      <td>1975.000000</td>\n",
       "      <td>0.000000</td>\n",
       "      <td>98065.000000</td>\n",
       "      <td>47.571800</td>\n",
       "      <td>-122.231000</td>\n",
       "      <td>1840.000000</td>\n",
       "      <td>7620.000000</td>\n",
       "    </tr>\n",
       "    <tr>\n",
       "      <th>75%</th>\n",
       "      <td>7.308900e+09</td>\n",
       "      <td>6.450000e+05</td>\n",
       "      <td>4.000000</td>\n",
       "      <td>2.500000</td>\n",
       "      <td>2550.000000</td>\n",
       "      <td>1.068500e+04</td>\n",
       "      <td>2.000000</td>\n",
       "      <td>2210.000000</td>\n",
       "      <td>1997.000000</td>\n",
       "      <td>0.000000</td>\n",
       "      <td>98118.000000</td>\n",
       "      <td>47.678000</td>\n",
       "      <td>-122.125000</td>\n",
       "      <td>2360.000000</td>\n",
       "      <td>10083.000000</td>\n",
       "    </tr>\n",
       "    <tr>\n",
       "      <th>max</th>\n",
       "      <td>9.900000e+09</td>\n",
       "      <td>7.700000e+06</td>\n",
       "      <td>33.000000</td>\n",
       "      <td>8.000000</td>\n",
       "      <td>13540.000000</td>\n",
       "      <td>1.651359e+06</td>\n",
       "      <td>3.500000</td>\n",
       "      <td>9410.000000</td>\n",
       "      <td>2015.000000</td>\n",
       "      <td>2015.000000</td>\n",
       "      <td>98199.000000</td>\n",
       "      <td>47.777600</td>\n",
       "      <td>-121.315000</td>\n",
       "      <td>6210.000000</td>\n",
       "      <td>871200.000000</td>\n",
       "    </tr>\n",
       "  </tbody>\n",
       "</table>\n",
       "</div>"
      ],
      "text/plain": [
       "                 id         price      bedrooms     bathrooms   sqft_living  \\\n",
       "count  2.159700e+04  2.159700e+04  21597.000000  21597.000000  21597.000000   \n",
       "mean   4.580474e+09  5.402966e+05      3.373200      2.115826   2080.321850   \n",
       "std    2.876736e+09  3.673681e+05      0.926299      0.768984    918.106125   \n",
       "min    1.000102e+06  7.800000e+04      1.000000      0.500000    370.000000   \n",
       "25%    2.123049e+09  3.220000e+05      3.000000      1.750000   1430.000000   \n",
       "50%    3.904930e+09  4.500000e+05      3.000000      2.250000   1910.000000   \n",
       "75%    7.308900e+09  6.450000e+05      4.000000      2.500000   2550.000000   \n",
       "max    9.900000e+09  7.700000e+06     33.000000      8.000000  13540.000000   \n",
       "\n",
       "           sqft_lot        floors    sqft_above      yr_built  yr_renovated  \\\n",
       "count  2.159700e+04  21597.000000  21597.000000  21597.000000  17755.000000   \n",
       "mean   1.509941e+04      1.494096   1788.596842   1970.999676     83.636778   \n",
       "std    4.141264e+04      0.539683    827.759761     29.375234    399.946414   \n",
       "min    5.200000e+02      1.000000    370.000000   1900.000000      0.000000   \n",
       "25%    5.040000e+03      1.000000   1190.000000   1951.000000      0.000000   \n",
       "50%    7.618000e+03      1.500000   1560.000000   1975.000000      0.000000   \n",
       "75%    1.068500e+04      2.000000   2210.000000   1997.000000      0.000000   \n",
       "max    1.651359e+06      3.500000   9410.000000   2015.000000   2015.000000   \n",
       "\n",
       "            zipcode           lat          long  sqft_living15     sqft_lot15  \n",
       "count  21597.000000  21597.000000  21597.000000   21597.000000   21597.000000  \n",
       "mean   98077.951845     47.560093   -122.213982    1986.620318   12758.283512  \n",
       "std       53.513072      0.138552      0.140724     685.230472   27274.441950  \n",
       "min    98001.000000     47.155900   -122.519000     399.000000     651.000000  \n",
       "25%    98033.000000     47.471100   -122.328000    1490.000000    5100.000000  \n",
       "50%    98065.000000     47.571800   -122.231000    1840.000000    7620.000000  \n",
       "75%    98118.000000     47.678000   -122.125000    2360.000000   10083.000000  \n",
       "max    98199.000000     47.777600   -121.315000    6210.000000  871200.000000  "
      ]
     },
     "execution_count": 565,
     "metadata": {},
     "output_type": "execute_result"
    }
   ],
   "source": [
    "df.describe()"
   ]
  },
  {
   "cell_type": "code",
   "execution_count": 566,
   "metadata": {
    "ExecuteTime": {
     "end_time": "2022-05-17T04:10:55.058862Z",
     "start_time": "2022-05-17T04:10:55.039930Z"
    }
   },
   "outputs": [
    {
     "name": "stdout",
     "output_type": "stream",
     "text": [
      "<class 'pandas.core.frame.DataFrame'>\n",
      "RangeIndex: 21597 entries, 0 to 21596\n",
      "Data columns (total 21 columns):\n",
      " #   Column         Non-Null Count  Dtype  \n",
      "---  ------         --------------  -----  \n",
      " 0   id             21597 non-null  int64  \n",
      " 1   date           21597 non-null  object \n",
      " 2   price          21597 non-null  float64\n",
      " 3   bedrooms       21597 non-null  int64  \n",
      " 4   bathrooms      21597 non-null  float64\n",
      " 5   sqft_living    21597 non-null  int64  \n",
      " 6   sqft_lot       21597 non-null  int64  \n",
      " 7   floors         21597 non-null  float64\n",
      " 8   waterfront     19221 non-null  object \n",
      " 9   view           21534 non-null  object \n",
      " 10  condition      21597 non-null  object \n",
      " 11  grade          21597 non-null  object \n",
      " 12  sqft_above     21597 non-null  int64  \n",
      " 13  sqft_basement  21597 non-null  object \n",
      " 14  yr_built       21597 non-null  int64  \n",
      " 15  yr_renovated   17755 non-null  float64\n",
      " 16  zipcode        21597 non-null  int64  \n",
      " 17  lat            21597 non-null  float64\n",
      " 18  long           21597 non-null  float64\n",
      " 19  sqft_living15  21597 non-null  int64  \n",
      " 20  sqft_lot15     21597 non-null  int64  \n",
      "dtypes: float64(6), int64(9), object(6)\n",
      "memory usage: 3.5+ MB\n"
     ]
    }
   ],
   "source": [
    "df.info()"
   ]
  },
  {
   "cell_type": "markdown",
   "metadata": {},
   "source": [
    "Identifying outlires in price"
   ]
  },
  {
   "cell_type": "code",
   "execution_count": 567,
   "metadata": {
    "ExecuteTime": {
     "end_time": "2022-05-17T04:10:57.617275Z",
     "start_time": "2022-05-17T04:10:57.604851Z"
    }
   },
   "outputs": [
    {
     "data": {
      "text/plain": [
       "count    2.159700e+04\n",
       "mean     5.402966e+05\n",
       "std      3.673681e+05\n",
       "min      7.800000e+04\n",
       "25%      3.220000e+05\n",
       "50%      4.500000e+05\n",
       "75%      6.450000e+05\n",
       "max      7.700000e+06\n",
       "Name: price, dtype: float64"
      ]
     },
     "execution_count": 567,
     "metadata": {},
     "output_type": "execute_result"
    }
   ],
   "source": [
    "df['price'].describe()"
   ]
  },
  {
   "cell_type": "code",
   "execution_count": 665,
   "metadata": {
    "ExecuteTime": {
     "end_time": "2022-05-17T04:48:57.196143Z",
     "start_time": "2022-05-17T04:48:57.184744Z"
    }
   },
   "outputs": [],
   "source": [
    "df_preprocessed = df.loc[df['price'] < 1000000]"
   ]
  },
  {
   "cell_type": "markdown",
   "metadata": {},
   "source": [
    "Exploratory Data Analysis for Understanding the Distribution of the Dataset"
   ]
  },
  {
   "cell_type": "markdown",
   "metadata": {},
   "source": [
    "Checking for Linearity relation for the target variable \"Price\""
   ]
  },
  {
   "cell_type": "code",
   "execution_count": null,
   "metadata": {
    "ExecuteTime": {
     "start_time": "2022-05-17T05:05:10.394Z"
    }
   },
   "outputs": [],
   "source": [
    "df_preprocessed = df_preprocessed.loc[df_preprocessed['bedrooms'] < 9]\n",
    "sns.jointplot(x='bedrooms',y='price' , data=df_preprocessed, kind='reg')\n",
    "#No linear relation, c\n",
    "#W Removed outliers "
   ]
  },
  {
   "cell_type": "markdown",
   "metadata": {},
   "source": [
    "## Verifying Assumptions for Linear Regression"
   ]
  },
  {
   "cell_type": "markdown",
   "metadata": {},
   "source": [
    "### Linearity"
   ]
  },
  {
   "cell_type": "code",
   "execution_count": 675,
   "metadata": {
    "ExecuteTime": {
     "end_time": "2022-05-17T04:49:50.663924Z",
     "start_time": "2022-05-17T04:49:48.984326Z"
    }
   },
   "outputs": [
    {
     "data": {
      "text/plain": [
       "<seaborn.axisgrid.JointGrid at 0x7fc3db96af70>"
      ]
     },
     "execution_count": 675,
     "metadata": {},
     "output_type": "execute_result"
    },
    {
     "data": {
      "image/png": "[encoded data removed]",
      "text/plain": [
       "<Figure size 432x432 with 3 Axes>"
      ]
     },
     "metadata": {
      "needs_background": "light"
     },
     "output_type": "display_data"
    }
   ],
   "source": [
    "# df = df.loc[df['sqft_above'] < 7000]\n",
    "\n",
    "sns.jointplot(x='sqft_above', y='price', data=df, kind='reg' )\n",
    "#A linear elation, remove outliers "
   ]
  },
  {
   "cell_type": "code",
   "execution_count": 669,
   "metadata": {
    "ExecuteTime": {
     "end_time": "2022-05-17T04:49:08.404991Z",
     "start_time": "2022-05-17T04:49:06.584912Z"
    }
   },
   "outputs": [
    {
     "data": {
      "text/plain": [
       "<seaborn.axisgrid.JointGrid at 0x7fc3d7f49f70>"
      ]
     },
     "execution_count": 669,
     "metadata": {},
     "output_type": "execute_result"
    },
    {
     "data": {
      "image/png": "[encoded data removed]",
      "text/plain": [
       "<Figure size 432x432 with 3 Axes>"
      ]
     },
     "metadata": {
      "needs_background": "light"
     },
     "output_type": "display_data"
    }
   ],
   "source": [
    "sns.jointplot(x='sqft_living', y='price', data=df, kind='reg' )\n",
    "#Linear Relation \n",
    "#Remove outlier "
   ]
  },
  {
   "cell_type": "code",
   "execution_count": 670,
   "metadata": {
    "ExecuteTime": {
     "end_time": "2022-05-17T04:49:18.471642Z",
     "start_time": "2022-05-17T04:49:08.406953Z"
    }
   },
   "outputs": [
    {
     "data": {
      "text/plain": [
       "<seaborn.axisgrid.JointGrid at 0x7fc3d95c7490>"
      ]
     },
     "execution_count": 670,
     "metadata": {},
     "output_type": "execute_result"
    },
    {
     "data": {
      "image/png": "[encoded data removed]",
      "text/plain": [
       "<Figure size 432x432 with 3 Axes>"
      ]
     },
     "metadata": {
      "needs_background": "light"
     },
     "output_type": "display_data"
    }
   ],
   "source": [
    "sns.jointplot(x='sqft_lot', y='price', data=df, kind='reg' )\n",
    "#no linear relation, will not be used\n",
    "#Remove outlier "
   ]
  },
  {
   "cell_type": "code",
   "execution_count": 671,
   "metadata": {
    "ExecuteTime": {
     "end_time": "2022-05-17T04:49:20.083014Z",
     "start_time": "2022-05-17T04:49:18.473938Z"
    }
   },
   "outputs": [
    {
     "data": {
      "text/plain": [
       "<seaborn.axisgrid.JointGrid at 0x7fc3dd6714c0>"
      ]
     },
     "execution_count": 671,
     "metadata": {},
     "output_type": "execute_result"
    },
    {
     "data": {
      "image/png": "[encoded data removed]",
      "text/plain": [
       "<Figure size 432x432 with 3 Axes>"
      ]
     },
     "metadata": {
      "needs_background": "light"
     },
     "output_type": "display_data"
    }
   ],
   "source": [
    "sns.jointplot(x='floors', y='price', data=df, kind='reg' )\n",
    "#No linear relation \n",
    "#Remove outlier "
   ]
  },
  {
   "cell_type": "code",
   "execution_count": 672,
   "metadata": {
    "ExecuteTime": {
     "end_time": "2022-05-17T04:49:22.066782Z",
     "start_time": "2022-05-17T04:49:20.086941Z"
    }
   },
   "outputs": [
    {
     "data": {
      "text/plain": [
       "<seaborn.axisgrid.JointGrid at 0x7fc3dd9cd370>"
      ]
     },
     "execution_count": 672,
     "metadata": {},
     "output_type": "execute_result"
    },
    {
     "data": {
      "image/png": "[encoded data removed]",
      "text/plain": [
       "<Figure size 432x432 with 3 Axes>"
      ]
     },
     "metadata": {
      "needs_background": "light"
     },
     "output_type": "display_data"
    }
   ],
   "source": [
    "sns.jointplot(x='bathrooms', y='price', data=df, kind='reg')\n",
    "# plt.scatter(x='bathrooms', y='price', data=df)\n",
    "#linear relation \n",
    "#Remove outlier "
   ]
  },
  {
   "cell_type": "code",
   "execution_count": 673,
   "metadata": {
    "ExecuteTime": {
     "end_time": "2022-05-17T04:49:23.834824Z",
     "start_time": "2022-05-17T04:49:22.068858Z"
    }
   },
   "outputs": [
    {
     "data": {
      "text/plain": [
       "<seaborn.axisgrid.JointGrid at 0x7fc3f1b51790>"
      ]
     },
     "execution_count": 673,
     "metadata": {},
     "output_type": "execute_result"
    },
    {
     "data": {
      "image/png": "[encoded data removed]",
      "text/plain": [
       "<Figure size 432x432 with 3 Axes>"
      ]
     },
     "metadata": {
      "needs_background": "light"
     },
     "output_type": "display_data"
    }
   ],
   "source": [
    "sns.jointplot(x='yr_built', y='price', data=df, kind='reg')\n",
    "#No Linear relation, will not be used\n",
    "#Remove outlier "
   ]
  },
  {
   "cell_type": "code",
   "execution_count": 674,
   "metadata": {
    "ExecuteTime": {
     "end_time": "2022-05-17T04:49:24.781372Z",
     "start_time": "2022-05-17T04:49:23.836815Z"
    }
   },
   "outputs": [
    {
     "ename": "UFuncTypeError",
     "evalue": "ufunc 'multiply' did not contain a loop with signature matching types (dtype('<U32'), dtype('<U32')) -> dtype('<U32')",
     "output_type": "error",
     "traceback": [
      "\u001b[0;31m---------------------------------------------------------------------------\u001b[0m",
      "\u001b[0;31mUFuncTypeError\u001b[0m                            Traceback (most recent call last)",
      "\u001b[0;32m<ipython-input-674-5d6c487b0cd1>\u001b[0m in \u001b[0;36m<module>\u001b[0;34m\u001b[0m\n\u001b[0;32m----> 1\u001b[0;31m \u001b[0msns\u001b[0m\u001b[0;34m.\u001b[0m\u001b[0mjointplot\u001b[0m\u001b[0;34m(\u001b[0m\u001b[0mx\u001b[0m\u001b[0;34m=\u001b[0m\u001b[0;34m'grade'\u001b[0m\u001b[0;34m,\u001b[0m \u001b[0my\u001b[0m\u001b[0;34m=\u001b[0m\u001b[0;34m'price'\u001b[0m\u001b[0;34m,\u001b[0m \u001b[0mdata\u001b[0m\u001b[0;34m=\u001b[0m\u001b[0mdf\u001b[0m\u001b[0;34m,\u001b[0m \u001b[0mkind\u001b[0m\u001b[0;34m=\u001b[0m\u001b[0;34m'reg'\u001b[0m\u001b[0;34m)\u001b[0m\u001b[0;34m\u001b[0m\u001b[0;34m\u001b[0m\u001b[0m\n\u001b[0m",
      "\u001b[0;32m~/opt/anaconda3/envs/flatiron-env/lib/python3.8/site-packages/seaborn/_decorators.py\u001b[0m in \u001b[0;36minner_f\u001b[0;34m(*args, **kwargs)\u001b[0m\n\u001b[1;32m     44\u001b[0m             )\n\u001b[1;32m     45\u001b[0m         \u001b[0mkwargs\u001b[0m\u001b[0;34m.\u001b[0m\u001b[0mupdate\u001b[0m\u001b[0;34m(\u001b[0m\u001b[0;34m{\u001b[0m\u001b[0mk\u001b[0m\u001b[0;34m:\u001b[0m \u001b[0marg\u001b[0m \u001b[0;32mfor\u001b[0m \u001b[0mk\u001b[0m\u001b[0;34m,\u001b[0m \u001b[0marg\u001b[0m \u001b[0;32min\u001b[0m \u001b[0mzip\u001b[0m\u001b[0;34m(\u001b[0m\u001b[0msig\u001b[0m\u001b[0;34m.\u001b[0m\u001b[0mparameters\u001b[0m\u001b[0;34m,\u001b[0m \u001b[0margs\u001b[0m\u001b[0;34m)\u001b[0m\u001b[0;34m}\u001b[0m\u001b[0;34m)\u001b[0m\u001b[0;34m\u001b[0m\u001b[0;34m\u001b[0m\u001b[0m\n\u001b[0;32m---> 46\u001b[0;31m         \u001b[0;32mreturn\u001b[0m \u001b[0mf\u001b[0m\u001b[0;34m(\u001b[0m\u001b[0;34m**\u001b[0m\u001b[0mkwargs\u001b[0m\u001b[0;34m)\u001b[0m\u001b[0;34m\u001b[0m\u001b[0;34m\u001b[0m\u001b[0m\n\u001b[0m\u001b[1;32m     47\u001b[0m     \u001b[0;32mreturn\u001b[0m \u001b[0minner_f\u001b[0m\u001b[0;34m\u001b[0m\u001b[0;34m\u001b[0m\u001b[0m\n\u001b[1;32m     48\u001b[0m \u001b[0;34m\u001b[0m\u001b[0m\n",
      "\u001b[0;32m~/opt/anaconda3/envs/flatiron-env/lib/python3.8/site-packages/seaborn/axisgrid.py\u001b[0m in \u001b[0;36mjointplot\u001b[0;34m(x, y, data, kind, color, height, ratio, space, dropna, xlim, ylim, marginal_ticks, joint_kws, marginal_kws, hue, palette, hue_order, hue_norm, **kwargs)\u001b[0m\n\u001b[1;32m   2135\u001b[0m \u001b[0;34m\u001b[0m\u001b[0m\n\u001b[1;32m   2136\u001b[0m         \u001b[0mjoint_kws\u001b[0m\u001b[0;34m.\u001b[0m\u001b[0msetdefault\u001b[0m\u001b[0;34m(\u001b[0m\u001b[0;34m\"color\"\u001b[0m\u001b[0;34m,\u001b[0m \u001b[0mcolor\u001b[0m\u001b[0;34m)\u001b[0m\u001b[0;34m\u001b[0m\u001b[0;34m\u001b[0m\u001b[0m\n\u001b[0;32m-> 2137\u001b[0;31m         \u001b[0mgrid\u001b[0m\u001b[0;34m.\u001b[0m\u001b[0mplot_joint\u001b[0m\u001b[0;34m(\u001b[0m\u001b[0mregplot\u001b[0m\u001b[0;34m,\u001b[0m \u001b[0;34m**\u001b[0m\u001b[0mjoint_kws\u001b[0m\u001b[0;34m)\u001b[0m\u001b[0;34m\u001b[0m\u001b[0;34m\u001b[0m\u001b[0m\n\u001b[0m\u001b[1;32m   2138\u001b[0m \u001b[0;34m\u001b[0m\u001b[0m\n\u001b[1;32m   2139\u001b[0m     \u001b[0;32melif\u001b[0m \u001b[0mkind\u001b[0m\u001b[0;34m.\u001b[0m\u001b[0mstartswith\u001b[0m\u001b[0;34m(\u001b[0m\u001b[0;34m\"resid\"\u001b[0m\u001b[0;34m)\u001b[0m\u001b[0;34m:\u001b[0m\u001b[0;34m\u001b[0m\u001b[0;34m\u001b[0m\u001b[0m\n",
      "\u001b[0;32m~/opt/anaconda3/envs/flatiron-env/lib/python3.8/site-packages/seaborn/axisgrid.py\u001b[0m in \u001b[0;36mplot_joint\u001b[0;34m(self, func, **kwargs)\u001b[0m\n\u001b[1;32m   1690\u001b[0m \u001b[0;34m\u001b[0m\u001b[0m\n\u001b[1;32m   1691\u001b[0m         \u001b[0;32mif\u001b[0m \u001b[0mstr\u001b[0m\u001b[0;34m(\u001b[0m\u001b[0mfunc\u001b[0m\u001b[0;34m.\u001b[0m\u001b[0m__module__\u001b[0m\u001b[0;34m)\u001b[0m\u001b[0;34m.\u001b[0m\u001b[0mstartswith\u001b[0m\u001b[0;34m(\u001b[0m\u001b[0;34m\"seaborn\"\u001b[0m\u001b[0;34m)\u001b[0m\u001b[0;34m:\u001b[0m\u001b[0;34m\u001b[0m\u001b[0;34m\u001b[0m\u001b[0m\n\u001b[0;32m-> 1692\u001b[0;31m             \u001b[0mfunc\u001b[0m\u001b[0;34m(\u001b[0m\u001b[0mx\u001b[0m\u001b[0;34m=\u001b[0m\u001b[0mself\u001b[0m\u001b[0;34m.\u001b[0m\u001b[0mx\u001b[0m\u001b[0;34m,\u001b[0m \u001b[0my\u001b[0m\u001b[0;34m=\u001b[0m\u001b[0mself\u001b[0m\u001b[0;34m.\u001b[0m\u001b[0my\u001b[0m\u001b[0;34m,\u001b[0m \u001b[0;34m**\u001b[0m\u001b[0mkwargs\u001b[0m\u001b[0;34m)\u001b[0m\u001b[0;34m\u001b[0m\u001b[0;34m\u001b[0m\u001b[0m\n\u001b[0m\u001b[1;32m   1693\u001b[0m         \u001b[0;32melse\u001b[0m\u001b[0;34m:\u001b[0m\u001b[0;34m\u001b[0m\u001b[0;34m\u001b[0m\u001b[0m\n\u001b[1;32m   1694\u001b[0m             \u001b[0mfunc\u001b[0m\u001b[0;34m(\u001b[0m\u001b[0mself\u001b[0m\u001b[0;34m.\u001b[0m\u001b[0mx\u001b[0m\u001b[0;34m,\u001b[0m \u001b[0mself\u001b[0m\u001b[0;34m.\u001b[0m\u001b[0my\u001b[0m\u001b[0;34m,\u001b[0m \u001b[0;34m**\u001b[0m\u001b[0mkwargs\u001b[0m\u001b[0;34m)\u001b[0m\u001b[0;34m\u001b[0m\u001b[0;34m\u001b[0m\u001b[0m\n",
      "\u001b[0;32m~/opt/anaconda3/envs/flatiron-env/lib/python3.8/site-packages/seaborn/_decorators.py\u001b[0m in \u001b[0;36minner_f\u001b[0;34m(*args, **kwargs)\u001b[0m\n\u001b[1;32m     44\u001b[0m             )\n\u001b[1;32m     45\u001b[0m         \u001b[0mkwargs\u001b[0m\u001b[0;34m.\u001b[0m\u001b[0mupdate\u001b[0m\u001b[0;34m(\u001b[0m\u001b[0;34m{\u001b[0m\u001b[0mk\u001b[0m\u001b[0;34m:\u001b[0m \u001b[0marg\u001b[0m \u001b[0;32mfor\u001b[0m \u001b[0mk\u001b[0m\u001b[0;34m,\u001b[0m \u001b[0marg\u001b[0m \u001b[0;32min\u001b[0m \u001b[0mzip\u001b[0m\u001b[0;34m(\u001b[0m\u001b[0msig\u001b[0m\u001b[0;34m.\u001b[0m\u001b[0mparameters\u001b[0m\u001b[0;34m,\u001b[0m \u001b[0margs\u001b[0m\u001b[0;34m)\u001b[0m\u001b[0;34m}\u001b[0m\u001b[0;34m)\u001b[0m\u001b[0;34m\u001b[0m\u001b[0;34m\u001b[0m\u001b[0m\n\u001b[0;32m---> 46\u001b[0;31m         \u001b[0;32mreturn\u001b[0m \u001b[0mf\u001b[0m\u001b[0;34m(\u001b[0m\u001b[0;34m**\u001b[0m\u001b[0mkwargs\u001b[0m\u001b[0;34m)\u001b[0m\u001b[0;34m\u001b[0m\u001b[0;34m\u001b[0m\u001b[0m\n\u001b[0m\u001b[1;32m     47\u001b[0m     \u001b[0;32mreturn\u001b[0m \u001b[0minner_f\u001b[0m\u001b[0;34m\u001b[0m\u001b[0;34m\u001b[0m\u001b[0m\n\u001b[1;32m     48\u001b[0m \u001b[0;34m\u001b[0m\u001b[0m\n",
      "\u001b[0;32m~/opt/anaconda3/envs/flatiron-env/lib/python3.8/site-packages/seaborn/regression.py\u001b[0m in \u001b[0;36mregplot\u001b[0;34m(x, y, data, x_estimator, x_bins, x_ci, scatter, fit_reg, ci, n_boot, units, seed, order, logistic, lowess, robust, logx, x_partial, y_partial, truncate, dropna, x_jitter, y_jitter, label, color, marker, scatter_kws, line_kws, ax)\u001b[0m\n\u001b[1;32m    833\u001b[0m     \u001b[0mscatter_kws\u001b[0m\u001b[0;34m[\u001b[0m\u001b[0;34m\"marker\"\u001b[0m\u001b[0;34m]\u001b[0m \u001b[0;34m=\u001b[0m \u001b[0mmarker\u001b[0m\u001b[0;34m\u001b[0m\u001b[0;34m\u001b[0m\u001b[0m\n\u001b[1;32m    834\u001b[0m     \u001b[0mline_kws\u001b[0m \u001b[0;34m=\u001b[0m \u001b[0;34m{\u001b[0m\u001b[0;34m}\u001b[0m \u001b[0;32mif\u001b[0m \u001b[0mline_kws\u001b[0m \u001b[0;32mis\u001b[0m \u001b[0;32mNone\u001b[0m \u001b[0;32melse\u001b[0m \u001b[0mcopy\u001b[0m\u001b[0;34m.\u001b[0m\u001b[0mcopy\u001b[0m\u001b[0;34m(\u001b[0m\u001b[0mline_kws\u001b[0m\u001b[0;34m)\u001b[0m\u001b[0;34m\u001b[0m\u001b[0;34m\u001b[0m\u001b[0m\n\u001b[0;32m--> 835\u001b[0;31m     \u001b[0mplotter\u001b[0m\u001b[0;34m.\u001b[0m\u001b[0mplot\u001b[0m\u001b[0;34m(\u001b[0m\u001b[0max\u001b[0m\u001b[0;34m,\u001b[0m \u001b[0mscatter_kws\u001b[0m\u001b[0;34m,\u001b[0m \u001b[0mline_kws\u001b[0m\u001b[0;34m)\u001b[0m\u001b[0;34m\u001b[0m\u001b[0;34m\u001b[0m\u001b[0m\n\u001b[0m\u001b[1;32m    836\u001b[0m     \u001b[0;32mreturn\u001b[0m \u001b[0max\u001b[0m\u001b[0;34m\u001b[0m\u001b[0;34m\u001b[0m\u001b[0m\n\u001b[1;32m    837\u001b[0m \u001b[0;34m\u001b[0m\u001b[0m\n",
      "\u001b[0;32m~/opt/anaconda3/envs/flatiron-env/lib/python3.8/site-packages/seaborn/regression.py\u001b[0m in \u001b[0;36mplot\u001b[0;34m(self, ax, scatter_kws, line_kws)\u001b[0m\n\u001b[1;32m    368\u001b[0m \u001b[0;34m\u001b[0m\u001b[0m\n\u001b[1;32m    369\u001b[0m         \u001b[0;32mif\u001b[0m \u001b[0mself\u001b[0m\u001b[0;34m.\u001b[0m\u001b[0mfit_reg\u001b[0m\u001b[0;34m:\u001b[0m\u001b[0;34m\u001b[0m\u001b[0;34m\u001b[0m\u001b[0m\n\u001b[0;32m--> 370\u001b[0;31m             \u001b[0mself\u001b[0m\u001b[0;34m.\u001b[0m\u001b[0mlineplot\u001b[0m\u001b[0;34m(\u001b[0m\u001b[0max\u001b[0m\u001b[0;34m,\u001b[0m \u001b[0mline_kws\u001b[0m\u001b[0;34m)\u001b[0m\u001b[0;34m\u001b[0m\u001b[0;34m\u001b[0m\u001b[0m\n\u001b[0m\u001b[1;32m    371\u001b[0m \u001b[0;34m\u001b[0m\u001b[0m\n\u001b[1;32m    372\u001b[0m         \u001b[0;31m# Label the axes\u001b[0m\u001b[0;34m\u001b[0m\u001b[0;34m\u001b[0m\u001b[0;34m\u001b[0m\u001b[0m\n",
      "\u001b[0;32m~/opt/anaconda3/envs/flatiron-env/lib/python3.8/site-packages/seaborn/regression.py\u001b[0m in \u001b[0;36mlineplot\u001b[0;34m(self, ax, kws)\u001b[0m\n\u001b[1;32m    411\u001b[0m         \u001b[0;34m\"\"\"Draw the model.\"\"\"\u001b[0m\u001b[0;34m\u001b[0m\u001b[0;34m\u001b[0m\u001b[0m\n\u001b[1;32m    412\u001b[0m         \u001b[0;31m# Fit the regression model\u001b[0m\u001b[0;34m\u001b[0m\u001b[0;34m\u001b[0m\u001b[0;34m\u001b[0m\u001b[0m\n\u001b[0;32m--> 413\u001b[0;31m         \u001b[0mgrid\u001b[0m\u001b[0;34m,\u001b[0m \u001b[0myhat\u001b[0m\u001b[0;34m,\u001b[0m \u001b[0merr_bands\u001b[0m \u001b[0;34m=\u001b[0m \u001b[0mself\u001b[0m\u001b[0;34m.\u001b[0m\u001b[0mfit_regression\u001b[0m\u001b[0;34m(\u001b[0m\u001b[0max\u001b[0m\u001b[0;34m)\u001b[0m\u001b[0;34m\u001b[0m\u001b[0;34m\u001b[0m\u001b[0m\n\u001b[0m\u001b[1;32m    414\u001b[0m         \u001b[0medges\u001b[0m \u001b[0;34m=\u001b[0m \u001b[0mgrid\u001b[0m\u001b[0;34m[\u001b[0m\u001b[0;36m0\u001b[0m\u001b[0;34m]\u001b[0m\u001b[0;34m,\u001b[0m \u001b[0mgrid\u001b[0m\u001b[0;34m[\u001b[0m\u001b[0;34m-\u001b[0m\u001b[0;36m1\u001b[0m\u001b[0;34m]\u001b[0m\u001b[0;34m\u001b[0m\u001b[0;34m\u001b[0m\u001b[0m\n\u001b[1;32m    415\u001b[0m \u001b[0;34m\u001b[0m\u001b[0m\n",
      "\u001b[0;32m~/opt/anaconda3/envs/flatiron-env/lib/python3.8/site-packages/seaborn/regression.py\u001b[0m in \u001b[0;36mfit_regression\u001b[0;34m(self, ax, x_range, grid)\u001b[0m\n\u001b[1;32m    199\u001b[0m                 \u001b[0;32melse\u001b[0m\u001b[0;34m:\u001b[0m\u001b[0;34m\u001b[0m\u001b[0;34m\u001b[0m\u001b[0m\n\u001b[1;32m    200\u001b[0m                     \u001b[0mx_min\u001b[0m\u001b[0;34m,\u001b[0m \u001b[0mx_max\u001b[0m \u001b[0;34m=\u001b[0m \u001b[0max\u001b[0m\u001b[0;34m.\u001b[0m\u001b[0mget_xlim\u001b[0m\u001b[0;34m(\u001b[0m\u001b[0;34m)\u001b[0m\u001b[0;34m\u001b[0m\u001b[0;34m\u001b[0m\u001b[0m\n\u001b[0;32m--> 201\u001b[0;31m             \u001b[0mgrid\u001b[0m \u001b[0;34m=\u001b[0m \u001b[0mnp\u001b[0m\u001b[0;34m.\u001b[0m\u001b[0mlinspace\u001b[0m\u001b[0;34m(\u001b[0m\u001b[0mx_min\u001b[0m\u001b[0;34m,\u001b[0m \u001b[0mx_max\u001b[0m\u001b[0;34m,\u001b[0m \u001b[0;36m100\u001b[0m\u001b[0;34m)\u001b[0m\u001b[0;34m\u001b[0m\u001b[0;34m\u001b[0m\u001b[0m\n\u001b[0m\u001b[1;32m    202\u001b[0m         \u001b[0mci\u001b[0m \u001b[0;34m=\u001b[0m \u001b[0mself\u001b[0m\u001b[0;34m.\u001b[0m\u001b[0mci\u001b[0m\u001b[0;34m\u001b[0m\u001b[0;34m\u001b[0m\u001b[0m\n\u001b[1;32m    203\u001b[0m \u001b[0;34m\u001b[0m\u001b[0m\n",
      "\u001b[0;32m<__array_function__ internals>\u001b[0m in \u001b[0;36mlinspace\u001b[0;34m(*args, **kwargs)\u001b[0m\n",
      "\u001b[0;32m~/opt/anaconda3/envs/flatiron-env/lib/python3.8/site-packages/numpy/core/function_base.py\u001b[0m in \u001b[0;36mlinspace\u001b[0;34m(start, stop, num, endpoint, retstep, dtype, axis)\u001b[0m\n\u001b[1;32m    127\u001b[0m     \u001b[0;31m# Convert float/complex array scalars to float, gh-3504\u001b[0m\u001b[0;34m\u001b[0m\u001b[0;34m\u001b[0m\u001b[0;34m\u001b[0m\u001b[0m\n\u001b[1;32m    128\u001b[0m     \u001b[0;31m# and make sure one can use variables that have an __array_interface__, gh-6634\u001b[0m\u001b[0;34m\u001b[0m\u001b[0;34m\u001b[0m\u001b[0;34m\u001b[0m\u001b[0m\n\u001b[0;32m--> 129\u001b[0;31m     \u001b[0mstart\u001b[0m \u001b[0;34m=\u001b[0m \u001b[0masanyarray\u001b[0m\u001b[0;34m(\u001b[0m\u001b[0mstart\u001b[0m\u001b[0;34m)\u001b[0m \u001b[0;34m*\u001b[0m \u001b[0;36m1.0\u001b[0m\u001b[0;34m\u001b[0m\u001b[0;34m\u001b[0m\u001b[0m\n\u001b[0m\u001b[1;32m    130\u001b[0m     \u001b[0mstop\u001b[0m  \u001b[0;34m=\u001b[0m \u001b[0masanyarray\u001b[0m\u001b[0;34m(\u001b[0m\u001b[0mstop\u001b[0m\u001b[0;34m)\u001b[0m  \u001b[0;34m*\u001b[0m \u001b[0;36m1.0\u001b[0m\u001b[0;34m\u001b[0m\u001b[0;34m\u001b[0m\u001b[0m\n\u001b[1;32m    131\u001b[0m \u001b[0;34m\u001b[0m\u001b[0m\n",
      "\u001b[0;31mUFuncTypeError\u001b[0m: ufunc 'multiply' did not contain a loop with signature matching types (dtype('<U32'), dtype('<U32')) -> dtype('<U32')"
     ]
    },
    {
     "data": {
      "image/png": "[encoded data removed]",
      "text/plain": [
       "<Figure size 432x432 with 3 Axes>"
      ]
     },
     "metadata": {
      "needs_background": "light"
     },
     "output_type": "display_data"
    }
   ],
   "source": [
    "sns.jointplot(x='grade', y='price', data=df, kind='reg')"
   ]
  },
  {
   "cell_type": "code",
   "execution_count": 676,
   "metadata": {
    "ExecuteTime": {
     "end_time": "2022-05-17T04:50:16.009629Z",
     "start_time": "2022-05-17T04:50:15.196264Z"
    }
   },
   "outputs": [
    {
     "ename": "UFuncTypeError",
     "evalue": "ufunc 'multiply' did not contain a loop with signature matching types (dtype('<U32'), dtype('<U32')) -> dtype('<U32')",
     "output_type": "error",
     "traceback": [
      "\u001b[0;31m---------------------------------------------------------------------------\u001b[0m",
      "\u001b[0;31mUFuncTypeError\u001b[0m                            Traceback (most recent call last)",
      "\u001b[0;32m<ipython-input-676-aab117dbe9bf>\u001b[0m in \u001b[0;36m<module>\u001b[0;34m\u001b[0m\n\u001b[0;32m----> 1\u001b[0;31m \u001b[0msns\u001b[0m\u001b[0;34m.\u001b[0m\u001b[0mjointplot\u001b[0m\u001b[0;34m(\u001b[0m\u001b[0mx\u001b[0m\u001b[0;34m=\u001b[0m\u001b[0;34m'condition'\u001b[0m\u001b[0;34m,\u001b[0m \u001b[0my\u001b[0m\u001b[0;34m=\u001b[0m\u001b[0;34m'price'\u001b[0m\u001b[0;34m,\u001b[0m \u001b[0mdata\u001b[0m\u001b[0;34m=\u001b[0m\u001b[0mdf\u001b[0m\u001b[0;34m,\u001b[0m \u001b[0mkind\u001b[0m\u001b[0;34m=\u001b[0m\u001b[0;34m'reg'\u001b[0m\u001b[0;34m)\u001b[0m\u001b[0;34m\u001b[0m\u001b[0;34m\u001b[0m\u001b[0m\n\u001b[0m",
      "\u001b[0;32m~/opt/anaconda3/envs/flatiron-env/lib/python3.8/site-packages/seaborn/_decorators.py\u001b[0m in \u001b[0;36minner_f\u001b[0;34m(*args, **kwargs)\u001b[0m\n\u001b[1;32m     44\u001b[0m             )\n\u001b[1;32m     45\u001b[0m         \u001b[0mkwargs\u001b[0m\u001b[0;34m.\u001b[0m\u001b[0mupdate\u001b[0m\u001b[0;34m(\u001b[0m\u001b[0;34m{\u001b[0m\u001b[0mk\u001b[0m\u001b[0;34m:\u001b[0m \u001b[0marg\u001b[0m \u001b[0;32mfor\u001b[0m \u001b[0mk\u001b[0m\u001b[0;34m,\u001b[0m \u001b[0marg\u001b[0m \u001b[0;32min\u001b[0m \u001b[0mzip\u001b[0m\u001b[0;34m(\u001b[0m\u001b[0msig\u001b[0m\u001b[0;34m.\u001b[0m\u001b[0mparameters\u001b[0m\u001b[0;34m,\u001b[0m \u001b[0margs\u001b[0m\u001b[0;34m)\u001b[0m\u001b[0;34m}\u001b[0m\u001b[0;34m)\u001b[0m\u001b[0;34m\u001b[0m\u001b[0;34m\u001b[0m\u001b[0m\n\u001b[0;32m---> 46\u001b[0;31m         \u001b[0;32mreturn\u001b[0m \u001b[0mf\u001b[0m\u001b[0;34m(\u001b[0m\u001b[0;34m**\u001b[0m\u001b[0mkwargs\u001b[0m\u001b[0;34m)\u001b[0m\u001b[0;34m\u001b[0m\u001b[0;34m\u001b[0m\u001b[0m\n\u001b[0m\u001b[1;32m     47\u001b[0m     \u001b[0;32mreturn\u001b[0m \u001b[0minner_f\u001b[0m\u001b[0;34m\u001b[0m\u001b[0;34m\u001b[0m\u001b[0m\n\u001b[1;32m     48\u001b[0m \u001b[0;34m\u001b[0m\u001b[0m\n",
      "\u001b[0;32m~/opt/anaconda3/envs/flatiron-env/lib/python3.8/site-packages/seaborn/axisgrid.py\u001b[0m in \u001b[0;36mjointplot\u001b[0;34m(x, y, data, kind, color, height, ratio, space, dropna, xlim, ylim, marginal_ticks, joint_kws, marginal_kws, hue, palette, hue_order, hue_norm, **kwargs)\u001b[0m\n\u001b[1;32m   2135\u001b[0m \u001b[0;34m\u001b[0m\u001b[0m\n\u001b[1;32m   2136\u001b[0m         \u001b[0mjoint_kws\u001b[0m\u001b[0;34m.\u001b[0m\u001b[0msetdefault\u001b[0m\u001b[0;34m(\u001b[0m\u001b[0;34m\"color\"\u001b[0m\u001b[0;34m,\u001b[0m \u001b[0mcolor\u001b[0m\u001b[0;34m)\u001b[0m\u001b[0;34m\u001b[0m\u001b[0;34m\u001b[0m\u001b[0m\n\u001b[0;32m-> 2137\u001b[0;31m         \u001b[0mgrid\u001b[0m\u001b[0;34m.\u001b[0m\u001b[0mplot_joint\u001b[0m\u001b[0;34m(\u001b[0m\u001b[0mregplot\u001b[0m\u001b[0;34m,\u001b[0m \u001b[0;34m**\u001b[0m\u001b[0mjoint_kws\u001b[0m\u001b[0;34m)\u001b[0m\u001b[0;34m\u001b[0m\u001b[0;34m\u001b[0m\u001b[0m\n\u001b[0m\u001b[1;32m   2138\u001b[0m \u001b[0;34m\u001b[0m\u001b[0m\n\u001b[1;32m   2139\u001b[0m     \u001b[0;32melif\u001b[0m \u001b[0mkind\u001b[0m\u001b[0;34m.\u001b[0m\u001b[0mstartswith\u001b[0m\u001b[0;34m(\u001b[0m\u001b[0;34m\"resid\"\u001b[0m\u001b[0;34m)\u001b[0m\u001b[0;34m:\u001b[0m\u001b[0;34m\u001b[0m\u001b[0;34m\u001b[0m\u001b[0m\n",
      "\u001b[0;32m~/opt/anaconda3/envs/flatiron-env/lib/python3.8/site-packages/seaborn/axisgrid.py\u001b[0m in \u001b[0;36mplot_joint\u001b[0;34m(self, func, **kwargs)\u001b[0m\n\u001b[1;32m   1690\u001b[0m \u001b[0;34m\u001b[0m\u001b[0m\n\u001b[1;32m   1691\u001b[0m         \u001b[0;32mif\u001b[0m \u001b[0mstr\u001b[0m\u001b[0;34m(\u001b[0m\u001b[0mfunc\u001b[0m\u001b[0;34m.\u001b[0m\u001b[0m__module__\u001b[0m\u001b[0;34m)\u001b[0m\u001b[0;34m.\u001b[0m\u001b[0mstartswith\u001b[0m\u001b[0;34m(\u001b[0m\u001b[0;34m\"seaborn\"\u001b[0m\u001b[0;34m)\u001b[0m\u001b[0;34m:\u001b[0m\u001b[0;34m\u001b[0m\u001b[0;34m\u001b[0m\u001b[0m\n\u001b[0;32m-> 1692\u001b[0;31m             \u001b[0mfunc\u001b[0m\u001b[0;34m(\u001b[0m\u001b[0mx\u001b[0m\u001b[0;34m=\u001b[0m\u001b[0mself\u001b[0m\u001b[0;34m.\u001b[0m\u001b[0mx\u001b[0m\u001b[0;34m,\u001b[0m \u001b[0my\u001b[0m\u001b[0;34m=\u001b[0m\u001b[0mself\u001b[0m\u001b[0;34m.\u001b[0m\u001b[0my\u001b[0m\u001b[0;34m,\u001b[0m \u001b[0;34m**\u001b[0m\u001b[0mkwargs\u001b[0m\u001b[0;34m)\u001b[0m\u001b[0;34m\u001b[0m\u001b[0;34m\u001b[0m\u001b[0m\n\u001b[0m\u001b[1;32m   1693\u001b[0m         \u001b[0;32melse\u001b[0m\u001b[0;34m:\u001b[0m\u001b[0;34m\u001b[0m\u001b[0;34m\u001b[0m\u001b[0m\n\u001b[1;32m   1694\u001b[0m             \u001b[0mfunc\u001b[0m\u001b[0;34m(\u001b[0m\u001b[0mself\u001b[0m\u001b[0;34m.\u001b[0m\u001b[0mx\u001b[0m\u001b[0;34m,\u001b[0m \u001b[0mself\u001b[0m\u001b[0;34m.\u001b[0m\u001b[0my\u001b[0m\u001b[0;34m,\u001b[0m \u001b[0;34m**\u001b[0m\u001b[0mkwargs\u001b[0m\u001b[0;34m)\u001b[0m\u001b[0;34m\u001b[0m\u001b[0;34m\u001b[0m\u001b[0m\n",
      "\u001b[0;32m~/opt/anaconda3/envs/flatiron-env/lib/python3.8/site-packages/seaborn/_decorators.py\u001b[0m in \u001b[0;36minner_f\u001b[0;34m(*args, **kwargs)\u001b[0m\n\u001b[1;32m     44\u001b[0m             )\n\u001b[1;32m     45\u001b[0m         \u001b[0mkwargs\u001b[0m\u001b[0;34m.\u001b[0m\u001b[0mupdate\u001b[0m\u001b[0;34m(\u001b[0m\u001b[0;34m{\u001b[0m\u001b[0mk\u001b[0m\u001b[0;34m:\u001b[0m \u001b[0marg\u001b[0m \u001b[0;32mfor\u001b[0m \u001b[0mk\u001b[0m\u001b[0;34m,\u001b[0m \u001b[0marg\u001b[0m \u001b[0;32min\u001b[0m \u001b[0mzip\u001b[0m\u001b[0;34m(\u001b[0m\u001b[0msig\u001b[0m\u001b[0;34m.\u001b[0m\u001b[0mparameters\u001b[0m\u001b[0;34m,\u001b[0m \u001b[0margs\u001b[0m\u001b[0;34m)\u001b[0m\u001b[0;34m}\u001b[0m\u001b[0;34m)\u001b[0m\u001b[0;34m\u001b[0m\u001b[0;34m\u001b[0m\u001b[0m\n\u001b[0;32m---> 46\u001b[0;31m         \u001b[0;32mreturn\u001b[0m \u001b[0mf\u001b[0m\u001b[0;34m(\u001b[0m\u001b[0;34m**\u001b[0m\u001b[0mkwargs\u001b[0m\u001b[0;34m)\u001b[0m\u001b[0;34m\u001b[0m\u001b[0;34m\u001b[0m\u001b[0m\n\u001b[0m\u001b[1;32m     47\u001b[0m     \u001b[0;32mreturn\u001b[0m \u001b[0minner_f\u001b[0m\u001b[0;34m\u001b[0m\u001b[0;34m\u001b[0m\u001b[0m\n\u001b[1;32m     48\u001b[0m \u001b[0;34m\u001b[0m\u001b[0m\n",
      "\u001b[0;32m~/opt/anaconda3/envs/flatiron-env/lib/python3.8/site-packages/seaborn/regression.py\u001b[0m in \u001b[0;36mregplot\u001b[0;34m(x, y, data, x_estimator, x_bins, x_ci, scatter, fit_reg, ci, n_boot, units, seed, order, logistic, lowess, robust, logx, x_partial, y_partial, truncate, dropna, x_jitter, y_jitter, label, color, marker, scatter_kws, line_kws, ax)\u001b[0m\n\u001b[1;32m    833\u001b[0m     \u001b[0mscatter_kws\u001b[0m\u001b[0;34m[\u001b[0m\u001b[0;34m\"marker\"\u001b[0m\u001b[0;34m]\u001b[0m \u001b[0;34m=\u001b[0m \u001b[0mmarker\u001b[0m\u001b[0;34m\u001b[0m\u001b[0;34m\u001b[0m\u001b[0m\n\u001b[1;32m    834\u001b[0m     \u001b[0mline_kws\u001b[0m \u001b[0;34m=\u001b[0m \u001b[0;34m{\u001b[0m\u001b[0;34m}\u001b[0m \u001b[0;32mif\u001b[0m \u001b[0mline_kws\u001b[0m \u001b[0;32mis\u001b[0m \u001b[0;32mNone\u001b[0m \u001b[0;32melse\u001b[0m \u001b[0mcopy\u001b[0m\u001b[0;34m.\u001b[0m\u001b[0mcopy\u001b[0m\u001b[0;34m(\u001b[0m\u001b[0mline_kws\u001b[0m\u001b[0;34m)\u001b[0m\u001b[0;34m\u001b[0m\u001b[0;34m\u001b[0m\u001b[0m\n\u001b[0;32m--> 835\u001b[0;31m     \u001b[0mplotter\u001b[0m\u001b[0;34m.\u001b[0m\u001b[0mplot\u001b[0m\u001b[0;34m(\u001b[0m\u001b[0max\u001b[0m\u001b[0;34m,\u001b[0m \u001b[0mscatter_kws\u001b[0m\u001b[0;34m,\u001b[0m \u001b[0mline_kws\u001b[0m\u001b[0;34m)\u001b[0m\u001b[0;34m\u001b[0m\u001b[0;34m\u001b[0m\u001b[0m\n\u001b[0m\u001b[1;32m    836\u001b[0m     \u001b[0;32mreturn\u001b[0m \u001b[0max\u001b[0m\u001b[0;34m\u001b[0m\u001b[0;34m\u001b[0m\u001b[0m\n\u001b[1;32m    837\u001b[0m \u001b[0;34m\u001b[0m\u001b[0m\n",
      "\u001b[0;32m~/opt/anaconda3/envs/flatiron-env/lib/python3.8/site-packages/seaborn/regression.py\u001b[0m in \u001b[0;36mplot\u001b[0;34m(self, ax, scatter_kws, line_kws)\u001b[0m\n\u001b[1;32m    368\u001b[0m \u001b[0;34m\u001b[0m\u001b[0m\n\u001b[1;32m    369\u001b[0m         \u001b[0;32mif\u001b[0m \u001b[0mself\u001b[0m\u001b[0;34m.\u001b[0m\u001b[0mfit_reg\u001b[0m\u001b[0;34m:\u001b[0m\u001b[0;34m\u001b[0m\u001b[0;34m\u001b[0m\u001b[0m\n\u001b[0;32m--> 370\u001b[0;31m             \u001b[0mself\u001b[0m\u001b[0;34m.\u001b[0m\u001b[0mlineplot\u001b[0m\u001b[0;34m(\u001b[0m\u001b[0max\u001b[0m\u001b[0;34m,\u001b[0m \u001b[0mline_kws\u001b[0m\u001b[0;34m)\u001b[0m\u001b[0;34m\u001b[0m\u001b[0;34m\u001b[0m\u001b[0m\n\u001b[0m\u001b[1;32m    371\u001b[0m \u001b[0;34m\u001b[0m\u001b[0m\n\u001b[1;32m    372\u001b[0m         \u001b[0;31m# Label the axes\u001b[0m\u001b[0;34m\u001b[0m\u001b[0;34m\u001b[0m\u001b[0;34m\u001b[0m\u001b[0m\n",
      "\u001b[0;32m~/opt/anaconda3/envs/flatiron-env/lib/python3.8/site-packages/seaborn/regression.py\u001b[0m in \u001b[0;36mlineplot\u001b[0;34m(self, ax, kws)\u001b[0m\n\u001b[1;32m    411\u001b[0m         \u001b[0;34m\"\"\"Draw the model.\"\"\"\u001b[0m\u001b[0;34m\u001b[0m\u001b[0;34m\u001b[0m\u001b[0m\n\u001b[1;32m    412\u001b[0m         \u001b[0;31m# Fit the regression model\u001b[0m\u001b[0;34m\u001b[0m\u001b[0;34m\u001b[0m\u001b[0;34m\u001b[0m\u001b[0m\n\u001b[0;32m--> 413\u001b[0;31m         \u001b[0mgrid\u001b[0m\u001b[0;34m,\u001b[0m \u001b[0myhat\u001b[0m\u001b[0;34m,\u001b[0m \u001b[0merr_bands\u001b[0m \u001b[0;34m=\u001b[0m \u001b[0mself\u001b[0m\u001b[0;34m.\u001b[0m\u001b[0mfit_regression\u001b[0m\u001b[0;34m(\u001b[0m\u001b[0max\u001b[0m\u001b[0;34m)\u001b[0m\u001b[0;34m\u001b[0m\u001b[0;34m\u001b[0m\u001b[0m\n\u001b[0m\u001b[1;32m    414\u001b[0m         \u001b[0medges\u001b[0m \u001b[0;34m=\u001b[0m \u001b[0mgrid\u001b[0m\u001b[0;34m[\u001b[0m\u001b[0;36m0\u001b[0m\u001b[0;34m]\u001b[0m\u001b[0;34m,\u001b[0m \u001b[0mgrid\u001b[0m\u001b[0;34m[\u001b[0m\u001b[0;34m-\u001b[0m\u001b[0;36m1\u001b[0m\u001b[0;34m]\u001b[0m\u001b[0;34m\u001b[0m\u001b[0;34m\u001b[0m\u001b[0m\n\u001b[1;32m    415\u001b[0m \u001b[0;34m\u001b[0m\u001b[0m\n",
      "\u001b[0;32m~/opt/anaconda3/envs/flatiron-env/lib/python3.8/site-packages/seaborn/regression.py\u001b[0m in \u001b[0;36mfit_regression\u001b[0;34m(self, ax, x_range, grid)\u001b[0m\n\u001b[1;32m    199\u001b[0m                 \u001b[0;32melse\u001b[0m\u001b[0;34m:\u001b[0m\u001b[0;34m\u001b[0m\u001b[0;34m\u001b[0m\u001b[0m\n\u001b[1;32m    200\u001b[0m                     \u001b[0mx_min\u001b[0m\u001b[0;34m,\u001b[0m \u001b[0mx_max\u001b[0m \u001b[0;34m=\u001b[0m \u001b[0max\u001b[0m\u001b[0;34m.\u001b[0m\u001b[0mget_xlim\u001b[0m\u001b[0;34m(\u001b[0m\u001b[0;34m)\u001b[0m\u001b[0;34m\u001b[0m\u001b[0;34m\u001b[0m\u001b[0m\n\u001b[0;32m--> 201\u001b[0;31m             \u001b[0mgrid\u001b[0m \u001b[0;34m=\u001b[0m \u001b[0mnp\u001b[0m\u001b[0;34m.\u001b[0m\u001b[0mlinspace\u001b[0m\u001b[0;34m(\u001b[0m\u001b[0mx_min\u001b[0m\u001b[0;34m,\u001b[0m \u001b[0mx_max\u001b[0m\u001b[0;34m,\u001b[0m \u001b[0;36m100\u001b[0m\u001b[0;34m)\u001b[0m\u001b[0;34m\u001b[0m\u001b[0;34m\u001b[0m\u001b[0m\n\u001b[0m\u001b[1;32m    202\u001b[0m         \u001b[0mci\u001b[0m \u001b[0;34m=\u001b[0m \u001b[0mself\u001b[0m\u001b[0;34m.\u001b[0m\u001b[0mci\u001b[0m\u001b[0;34m\u001b[0m\u001b[0;34m\u001b[0m\u001b[0m\n\u001b[1;32m    203\u001b[0m \u001b[0;34m\u001b[0m\u001b[0m\n",
      "\u001b[0;32m<__array_function__ internals>\u001b[0m in \u001b[0;36mlinspace\u001b[0;34m(*args, **kwargs)\u001b[0m\n",
      "\u001b[0;32m~/opt/anaconda3/envs/flatiron-env/lib/python3.8/site-packages/numpy/core/function_base.py\u001b[0m in \u001b[0;36mlinspace\u001b[0;34m(start, stop, num, endpoint, retstep, dtype, axis)\u001b[0m\n\u001b[1;32m    127\u001b[0m     \u001b[0;31m# Convert float/complex array scalars to float, gh-3504\u001b[0m\u001b[0;34m\u001b[0m\u001b[0;34m\u001b[0m\u001b[0;34m\u001b[0m\u001b[0m\n\u001b[1;32m    128\u001b[0m     \u001b[0;31m# and make sure one can use variables that have an __array_interface__, gh-6634\u001b[0m\u001b[0;34m\u001b[0m\u001b[0;34m\u001b[0m\u001b[0;34m\u001b[0m\u001b[0m\n\u001b[0;32m--> 129\u001b[0;31m     \u001b[0mstart\u001b[0m \u001b[0;34m=\u001b[0m \u001b[0masanyarray\u001b[0m\u001b[0;34m(\u001b[0m\u001b[0mstart\u001b[0m\u001b[0;34m)\u001b[0m \u001b[0;34m*\u001b[0m \u001b[0;36m1.0\u001b[0m\u001b[0;34m\u001b[0m\u001b[0;34m\u001b[0m\u001b[0m\n\u001b[0m\u001b[1;32m    130\u001b[0m     \u001b[0mstop\u001b[0m  \u001b[0;34m=\u001b[0m \u001b[0masanyarray\u001b[0m\u001b[0;34m(\u001b[0m\u001b[0mstop\u001b[0m\u001b[0;34m)\u001b[0m  \u001b[0;34m*\u001b[0m \u001b[0;36m1.0\u001b[0m\u001b[0;34m\u001b[0m\u001b[0;34m\u001b[0m\u001b[0m\n\u001b[1;32m    131\u001b[0m \u001b[0;34m\u001b[0m\u001b[0m\n",
      "\u001b[0;31mUFuncTypeError\u001b[0m: ufunc 'multiply' did not contain a loop with signature matching types (dtype('<U32'), dtype('<U32')) -> dtype('<U32')"
     ]
    },
    {
     "data": {
      "image/png": "[encoded data removed]",
      "text/plain": [
       "<Figure size 432x432 with 3 Axes>"
      ]
     },
     "metadata": {
      "needs_background": "light"
     },
     "output_type": "display_data"
    }
   ],
   "source": [
    "sns.jointplot(x='condition', y='price', data=df, kind='reg')"
   ]
  },
  {
   "cell_type": "markdown",
   "metadata": {},
   "source": [
    "### Normality"
   ]
  },
  {
   "cell_type": "markdown",
   "metadata": {},
   "source": [
    "#### Histogram "
   ]
  },
  {
   "cell_type": "code",
   "execution_count": null,
   "metadata": {
    "ExecuteTime": {
     "start_time": "2022-05-17T05:18:39.219Z"
    }
   },
   "outputs": [],
   "source": [
    "df.hist(figsize=(20,10))"
   ]
  },
  {
   "cell_type": "markdown",
   "metadata": {},
   "source": []
  },
  {
   "cell_type": "markdown",
   "metadata": {},
   "source": [
    "### Homoscedasticity"
   ]
  },
  {
   "cell_type": "markdown",
   "metadata": {},
   "source": [
    "Used to identify data that has missing data and to determine which data type is each column "
   ]
  },
  {
   "cell_type": "markdown",
   "metadata": {},
   "source": [
    "## Cleaning Data "
   ]
  },
  {
   "cell_type": "markdown",
   "metadata": {},
   "source": [
    "Fixing issues wrong with data before modeling, for better accuracy. "
   ]
  },
  {
   "cell_type": "markdown",
   "metadata": {},
   "source": [
    "## Checking Data Types "
   ]
  },
  {
   "cell_type": "code",
   "execution_count": 677,
   "metadata": {
    "ExecuteTime": {
     "end_time": "2022-05-17T04:50:19.769924Z",
     "start_time": "2022-05-17T04:50:19.751612Z"
    }
   },
   "outputs": [
    {
     "name": "stdout",
     "output_type": "stream",
     "text": [
      "<class 'pandas.core.frame.DataFrame'>\n",
      "RangeIndex: 21597 entries, 0 to 21596\n",
      "Data columns (total 21 columns):\n",
      " #   Column         Non-Null Count  Dtype  \n",
      "---  ------         --------------  -----  \n",
      " 0   id             21597 non-null  int64  \n",
      " 1   date           21597 non-null  object \n",
      " 2   price          21597 non-null  float64\n",
      " 3   bedrooms       21597 non-null  int64  \n",
      " 4   bathrooms      21597 non-null  float64\n",
      " 5   sqft_living    21597 non-null  int64  \n",
      " 6   sqft_lot       21597 non-null  int64  \n",
      " 7   floors         21597 non-null  float64\n",
      " 8   waterfront     19221 non-null  object \n",
      " 9   view           21534 non-null  object \n",
      " 10  condition      21597 non-null  object \n",
      " 11  grade          21597 non-null  object \n",
      " 12  sqft_above     21597 non-null  int64  \n",
      " 13  sqft_basement  21597 non-null  object \n",
      " 14  yr_built       21597 non-null  int64  \n",
      " 15  yr_renovated   17755 non-null  float64\n",
      " 16  zipcode        21597 non-null  int64  \n",
      " 17  lat            21597 non-null  float64\n",
      " 18  long           21597 non-null  float64\n",
      " 19  sqft_living15  21597 non-null  int64  \n",
      " 20  sqft_lot15     21597 non-null  int64  \n",
      "dtypes: float64(6), int64(9), object(6)\n",
      "memory usage: 3.5+ MB\n"
     ]
    }
   ],
   "source": [
    "df.info()"
   ]
  },
  {
   "cell_type": "markdown",
   "metadata": {},
   "source": [
    "Dropping irrelevant columns "
   ]
  },
  {
   "cell_type": "code",
   "execution_count": 728,
   "metadata": {
    "ExecuteTime": {
     "end_time": "2022-05-17T04:57:23.751222Z",
     "start_time": "2022-05-17T04:57:23.734764Z"
    }
   },
   "outputs": [
    {
     "data": {
      "text/html": [
       "<div>\n",
       "<style scoped>\n",
       "    .dataframe tbody tr th:only-of-type {\n",
       "        vertical-align: middle;\n",
       "    }\n",
       "\n",
       "    .dataframe tbody tr th {\n",
       "        vertical-align: top;\n",
       "    }\n",
       "\n",
       "    .dataframe thead th {\n",
       "        text-align: right;\n",
       "    }\n",
       "</style>\n",
       "<table border=\"1\" class=\"dataframe\">\n",
       "  <thead>\n",
       "    <tr style=\"text-align: right;\">\n",
       "      <th></th>\n",
       "      <th>id</th>\n",
       "      <th>price</th>\n",
       "      <th>bedrooms</th>\n",
       "      <th>bathrooms</th>\n",
       "      <th>sqft_living</th>\n",
       "      <th>floors</th>\n",
       "      <th>waterfront</th>\n",
       "      <th>condition</th>\n",
       "      <th>grade</th>\n",
       "      <th>sqft_above</th>\n",
       "      <th>lat</th>\n",
       "      <th>long</th>\n",
       "    </tr>\n",
       "  </thead>\n",
       "  <tbody>\n",
       "    <tr>\n",
       "      <th>0</th>\n",
       "      <td>7129300520</td>\n",
       "      <td>221900.0</td>\n",
       "      <td>3</td>\n",
       "      <td>1.00</td>\n",
       "      <td>1180</td>\n",
       "      <td>1.0</td>\n",
       "      <td>NaN</td>\n",
       "      <td>Average</td>\n",
       "      <td>7 Average</td>\n",
       "      <td>1180</td>\n",
       "      <td>47.5112</td>\n",
       "      <td>-122.257</td>\n",
       "    </tr>\n",
       "    <tr>\n",
       "      <th>1</th>\n",
       "      <td>6414100192</td>\n",
       "      <td>538000.0</td>\n",
       "      <td>3</td>\n",
       "      <td>2.25</td>\n",
       "      <td>2570</td>\n",
       "      <td>2.0</td>\n",
       "      <td>NO</td>\n",
       "      <td>Average</td>\n",
       "      <td>7 Average</td>\n",
       "      <td>2170</td>\n",
       "      <td>47.7210</td>\n",
       "      <td>-122.319</td>\n",
       "    </tr>\n",
       "    <tr>\n",
       "      <th>2</th>\n",
       "      <td>5631500400</td>\n",
       "      <td>180000.0</td>\n",
       "      <td>2</td>\n",
       "      <td>1.00</td>\n",
       "      <td>770</td>\n",
       "      <td>1.0</td>\n",
       "      <td>NO</td>\n",
       "      <td>Average</td>\n",
       "      <td>6 Low Average</td>\n",
       "      <td>770</td>\n",
       "      <td>47.7379</td>\n",
       "      <td>-122.233</td>\n",
       "    </tr>\n",
       "    <tr>\n",
       "      <th>3</th>\n",
       "      <td>2487200875</td>\n",
       "      <td>604000.0</td>\n",
       "      <td>4</td>\n",
       "      <td>3.00</td>\n",
       "      <td>1960</td>\n",
       "      <td>1.0</td>\n",
       "      <td>NO</td>\n",
       "      <td>Very Good</td>\n",
       "      <td>7 Average</td>\n",
       "      <td>1050</td>\n",
       "      <td>47.5208</td>\n",
       "      <td>-122.393</td>\n",
       "    </tr>\n",
       "    <tr>\n",
       "      <th>4</th>\n",
       "      <td>1954400510</td>\n",
       "      <td>510000.0</td>\n",
       "      <td>3</td>\n",
       "      <td>2.00</td>\n",
       "      <td>1680</td>\n",
       "      <td>1.0</td>\n",
       "      <td>NO</td>\n",
       "      <td>Average</td>\n",
       "      <td>8 Good</td>\n",
       "      <td>1680</td>\n",
       "      <td>47.6168</td>\n",
       "      <td>-122.045</td>\n",
       "    </tr>\n",
       "  </tbody>\n",
       "</table>\n",
       "</div>"
      ],
      "text/plain": [
       "           id     price  bedrooms  bathrooms  sqft_living  floors waterfront  \\\n",
       "0  7129300520  221900.0         3       1.00         1180     1.0        NaN   \n",
       "1  6414100192  538000.0         3       2.25         2570     2.0         NO   \n",
       "2  5631500400  180000.0         2       1.00          770     1.0         NO   \n",
       "3  2487200875  604000.0         4       3.00         1960     1.0         NO   \n",
       "4  1954400510  510000.0         3       2.00         1680     1.0         NO   \n",
       "\n",
       "   condition          grade  sqft_above      lat     long  \n",
       "0    Average      7 Average        1180  47.5112 -122.257  \n",
       "1    Average      7 Average        2170  47.7210 -122.319  \n",
       "2    Average  6 Low Average         770  47.7379 -122.233  \n",
       "3  Very Good      7 Average        1050  47.5208 -122.393  \n",
       "4    Average         8 Good        1680  47.6168 -122.045  "
      ]
     },
     "execution_count": 728,
     "metadata": {},
     "output_type": "execute_result"
    }
   ],
   "source": [
    "df_cleaned = df_preprocessed.drop(columns=['date', 'view', 'sqft_basement','yr_built', 'sqft_lot', 'yr_renovated', 'zipcode', 'sqft_living15', 'sqft_lot15'])\n",
    "df_cleaned.head()"
   ]
  },
  {
   "cell_type": "code",
   "execution_count": 729,
   "metadata": {
    "ExecuteTime": {
     "end_time": "2022-05-17T04:57:26.418680Z",
     "start_time": "2022-05-17T04:57:26.402547Z"
    }
   },
   "outputs": [
    {
     "name": "stdout",
     "output_type": "stream",
     "text": [
      "<class 'pandas.core.frame.DataFrame'>\n",
      "Int64Index: 20099 entries, 0 to 21596\n",
      "Data columns (total 12 columns):\n",
      " #   Column       Non-Null Count  Dtype  \n",
      "---  ------       --------------  -----  \n",
      " 0   id           20099 non-null  int64  \n",
      " 1   price        20099 non-null  float64\n",
      " 2   bedrooms     20099 non-null  int64  \n",
      " 3   bathrooms    20099 non-null  float64\n",
      " 4   sqft_living  20099 non-null  int64  \n",
      " 5   floors       20099 non-null  float64\n",
      " 6   waterfront   17872 non-null  object \n",
      " 7   condition    20099 non-null  object \n",
      " 8   grade        20099 non-null  object \n",
      " 9   sqft_above   20099 non-null  int64  \n",
      " 10  lat          20099 non-null  float64\n",
      " 11  long         20099 non-null  float64\n",
      "dtypes: float64(5), int64(4), object(3)\n",
      "memory usage: 2.0+ MB\n"
     ]
    }
   ],
   "source": [
    "df_cleaned.info()"
   ]
  },
  {
   "cell_type": "code",
   "execution_count": 730,
   "metadata": {
    "ExecuteTime": {
     "end_time": "2022-05-17T04:57:28.862875Z",
     "start_time": "2022-05-17T04:57:28.843170Z"
    }
   },
   "outputs": [
    {
     "data": {
      "text/html": [
       "<div>\n",
       "<style scoped>\n",
       "    .dataframe tbody tr th:only-of-type {\n",
       "        vertical-align: middle;\n",
       "    }\n",
       "\n",
       "    .dataframe tbody tr th {\n",
       "        vertical-align: top;\n",
       "    }\n",
       "\n",
       "    .dataframe thead th {\n",
       "        text-align: right;\n",
       "    }\n",
       "</style>\n",
       "<table border=\"1\" class=\"dataframe\">\n",
       "  <thead>\n",
       "    <tr style=\"text-align: right;\">\n",
       "      <th></th>\n",
       "      <th>id</th>\n",
       "      <th>price</th>\n",
       "      <th>bedrooms</th>\n",
       "      <th>bathrooms</th>\n",
       "      <th>sqft_living</th>\n",
       "      <th>floors</th>\n",
       "      <th>waterfront</th>\n",
       "      <th>condition</th>\n",
       "      <th>grade</th>\n",
       "      <th>sqft_above</th>\n",
       "      <th>lat</th>\n",
       "      <th>long</th>\n",
       "    </tr>\n",
       "  </thead>\n",
       "  <tbody>\n",
       "    <tr>\n",
       "      <th>1</th>\n",
       "      <td>6414100192</td>\n",
       "      <td>538000.0</td>\n",
       "      <td>3</td>\n",
       "      <td>2.25</td>\n",
       "      <td>2570</td>\n",
       "      <td>2.0</td>\n",
       "      <td>NO</td>\n",
       "      <td>Average</td>\n",
       "      <td>7 Average</td>\n",
       "      <td>2170</td>\n",
       "      <td>47.7210</td>\n",
       "      <td>-122.319</td>\n",
       "    </tr>\n",
       "    <tr>\n",
       "      <th>2</th>\n",
       "      <td>5631500400</td>\n",
       "      <td>180000.0</td>\n",
       "      <td>2</td>\n",
       "      <td>1.00</td>\n",
       "      <td>770</td>\n",
       "      <td>1.0</td>\n",
       "      <td>NO</td>\n",
       "      <td>Average</td>\n",
       "      <td>6 Low Average</td>\n",
       "      <td>770</td>\n",
       "      <td>47.7379</td>\n",
       "      <td>-122.233</td>\n",
       "    </tr>\n",
       "    <tr>\n",
       "      <th>3</th>\n",
       "      <td>2487200875</td>\n",
       "      <td>604000.0</td>\n",
       "      <td>4</td>\n",
       "      <td>3.00</td>\n",
       "      <td>1960</td>\n",
       "      <td>1.0</td>\n",
       "      <td>NO</td>\n",
       "      <td>Very Good</td>\n",
       "      <td>7 Average</td>\n",
       "      <td>1050</td>\n",
       "      <td>47.5208</td>\n",
       "      <td>-122.393</td>\n",
       "    </tr>\n",
       "    <tr>\n",
       "      <th>4</th>\n",
       "      <td>1954400510</td>\n",
       "      <td>510000.0</td>\n",
       "      <td>3</td>\n",
       "      <td>2.00</td>\n",
       "      <td>1680</td>\n",
       "      <td>1.0</td>\n",
       "      <td>NO</td>\n",
       "      <td>Average</td>\n",
       "      <td>8 Good</td>\n",
       "      <td>1680</td>\n",
       "      <td>47.6168</td>\n",
       "      <td>-122.045</td>\n",
       "    </tr>\n",
       "    <tr>\n",
       "      <th>6</th>\n",
       "      <td>1321400060</td>\n",
       "      <td>257500.0</td>\n",
       "      <td>3</td>\n",
       "      <td>2.25</td>\n",
       "      <td>1715</td>\n",
       "      <td>2.0</td>\n",
       "      <td>NO</td>\n",
       "      <td>Average</td>\n",
       "      <td>7 Average</td>\n",
       "      <td>1715</td>\n",
       "      <td>47.3097</td>\n",
       "      <td>-122.327</td>\n",
       "    </tr>\n",
       "  </tbody>\n",
       "</table>\n",
       "</div>"
      ],
      "text/plain": [
       "           id     price  bedrooms  bathrooms  sqft_living  floors waterfront  \\\n",
       "1  6414100192  538000.0         3       2.25         2570     2.0         NO   \n",
       "2  5631500400  180000.0         2       1.00          770     1.0         NO   \n",
       "3  2487200875  604000.0         4       3.00         1960     1.0         NO   \n",
       "4  1954400510  510000.0         3       2.00         1680     1.0         NO   \n",
       "6  1321400060  257500.0         3       2.25         1715     2.0         NO   \n",
       "\n",
       "   condition          grade  sqft_above      lat     long  \n",
       "1    Average      7 Average        2170  47.7210 -122.319  \n",
       "2    Average  6 Low Average         770  47.7379 -122.233  \n",
       "3  Very Good      7 Average        1050  47.5208 -122.393  \n",
       "4    Average         8 Good        1680  47.6168 -122.045  \n",
       "6    Average      7 Average        1715  47.3097 -122.327  "
      ]
     },
     "execution_count": 730,
     "metadata": {},
     "output_type": "execute_result"
    }
   ],
   "source": [
    "df_cleaned = df_cleaned.loc[df_cleaned['waterfront'].notna()]\n",
    "df_cleaned.head()"
   ]
  },
  {
   "cell_type": "code",
   "execution_count": 731,
   "metadata": {
    "ExecuteTime": {
     "end_time": "2022-05-17T04:57:30.504319Z",
     "start_time": "2022-05-17T04:57:30.499376Z"
    }
   },
   "outputs": [
    {
     "data": {
      "text/plain": [
       "(17872, 12)"
      ]
     },
     "execution_count": 731,
     "metadata": {},
     "output_type": "execute_result"
    }
   ],
   "source": [
    "df_cleaned.shape"
   ]
  },
  {
   "cell_type": "markdown",
   "metadata": {},
   "source": [
    "### Checking for missing values "
   ]
  },
  {
   "cell_type": "code",
   "execution_count": 732,
   "metadata": {
    "ExecuteTime": {
     "end_time": "2022-05-17T04:57:31.769841Z",
     "start_time": "2022-05-17T04:57:31.759131Z"
    }
   },
   "outputs": [
    {
     "data": {
      "text/plain": [
       "id             0\n",
       "price          0\n",
       "bedrooms       0\n",
       "bathrooms      0\n",
       "sqft_living    0\n",
       "floors         0\n",
       "waterfront     0\n",
       "condition      0\n",
       "grade          0\n",
       "sqft_above     0\n",
       "lat            0\n",
       "long           0\n",
       "dtype: int64"
      ]
     },
     "execution_count": 732,
     "metadata": {},
     "output_type": "execute_result"
    }
   ],
   "source": [
    "df_cleaned.isna().sum()\n",
    "#All the columns that have null values are not going to be used, but dropped earlier on  "
   ]
  },
  {
   "cell_type": "code",
   "execution_count": 733,
   "metadata": {
    "ExecuteTime": {
     "end_time": "2022-05-17T04:57:33.344521Z",
     "start_time": "2022-05-17T04:57:33.339150Z"
    }
   },
   "outputs": [
    {
     "data": {
      "text/plain": [
       "(17872, 12)"
      ]
     },
     "execution_count": 733,
     "metadata": {},
     "output_type": "execute_result"
    }
   ],
   "source": [
    "df_cleaned.shape "
   ]
  },
  {
   "cell_type": "markdown",
   "metadata": {},
   "source": [
    "## Checking for multicollinearity "
   ]
  },
  {
   "cell_type": "code",
   "execution_count": 735,
   "metadata": {
    "ExecuteTime": {
     "end_time": "2022-05-17T04:57:45.510273Z",
     "start_time": "2022-05-17T04:57:45.492041Z"
    }
   },
   "outputs": [
    {
     "data": {
      "text/html": [
       "<div>\n",
       "<style scoped>\n",
       "    .dataframe tbody tr th:only-of-type {\n",
       "        vertical-align: middle;\n",
       "    }\n",
       "\n",
       "    .dataframe tbody tr th {\n",
       "        vertical-align: top;\n",
       "    }\n",
       "\n",
       "    .dataframe thead th {\n",
       "        text-align: right;\n",
       "    }\n",
       "</style>\n",
       "<table border=\"1\" class=\"dataframe\">\n",
       "  <thead>\n",
       "    <tr style=\"text-align: right;\">\n",
       "      <th></th>\n",
       "      <th>bedrooms</th>\n",
       "      <th>bathrooms</th>\n",
       "      <th>sqft_above</th>\n",
       "      <th>sqft_living</th>\n",
       "      <th>floors</th>\n",
       "      <th>long</th>\n",
       "      <th>lat</th>\n",
       "    </tr>\n",
       "  </thead>\n",
       "  <tbody>\n",
       "    <tr>\n",
       "      <th>bedrooms</th>\n",
       "      <td>1.000000</td>\n",
       "      <td>0.504676</td>\n",
       "      <td>0.482331</td>\n",
       "      <td>0.608281</td>\n",
       "      <td>0.161913</td>\n",
       "      <td>0.151046</td>\n",
       "      <td>-0.041197</td>\n",
       "    </tr>\n",
       "    <tr>\n",
       "      <th>bathrooms</th>\n",
       "      <td>0.504676</td>\n",
       "      <td>1.000000</td>\n",
       "      <td>0.633006</td>\n",
       "      <td>0.711129</td>\n",
       "      <td>0.507065</td>\n",
       "      <td>0.252726</td>\n",
       "      <td>-0.017020</td>\n",
       "    </tr>\n",
       "    <tr>\n",
       "      <th>sqft_above</th>\n",
       "      <td>0.482331</td>\n",
       "      <td>0.633006</td>\n",
       "      <td>1.000000</td>\n",
       "      <td>0.850917</td>\n",
       "      <td>0.529515</td>\n",
       "      <td>0.393875</td>\n",
       "      <td>-0.051928</td>\n",
       "    </tr>\n",
       "    <tr>\n",
       "      <th>sqft_living</th>\n",
       "      <td>0.608281</td>\n",
       "      <td>0.711129</td>\n",
       "      <td>0.850917</td>\n",
       "      <td>1.000000</td>\n",
       "      <td>0.340084</td>\n",
       "      <td>0.292040</td>\n",
       "      <td>0.000548</td>\n",
       "    </tr>\n",
       "    <tr>\n",
       "      <th>floors</th>\n",
       "      <td>0.161913</td>\n",
       "      <td>0.507065</td>\n",
       "      <td>0.529515</td>\n",
       "      <td>0.340084</td>\n",
       "      <td>1.000000</td>\n",
       "      <td>0.140207</td>\n",
       "      <td>0.034244</td>\n",
       "    </tr>\n",
       "    <tr>\n",
       "      <th>long</th>\n",
       "      <td>0.151046</td>\n",
       "      <td>0.252726</td>\n",
       "      <td>0.393875</td>\n",
       "      <td>0.292040</td>\n",
       "      <td>0.140207</td>\n",
       "      <td>1.000000</td>\n",
       "      <td>-0.132151</td>\n",
       "    </tr>\n",
       "    <tr>\n",
       "      <th>lat</th>\n",
       "      <td>-0.041197</td>\n",
       "      <td>-0.017020</td>\n",
       "      <td>-0.051928</td>\n",
       "      <td>0.000548</td>\n",
       "      <td>0.034244</td>\n",
       "      <td>-0.132151</td>\n",
       "      <td>1.000000</td>\n",
       "    </tr>\n",
       "  </tbody>\n",
       "</table>\n",
       "</div>"
      ],
      "text/plain": [
       "             bedrooms  bathrooms  sqft_above  sqft_living    floors      long  \\\n",
       "bedrooms     1.000000   0.504676    0.482331     0.608281  0.161913  0.151046   \n",
       "bathrooms    0.504676   1.000000    0.633006     0.711129  0.507065  0.252726   \n",
       "sqft_above   0.482331   0.633006    1.000000     0.850917  0.529515  0.393875   \n",
       "sqft_living  0.608281   0.711129    0.850917     1.000000  0.340084  0.292040   \n",
       "floors       0.161913   0.507065    0.529515     0.340084  1.000000  0.140207   \n",
       "long         0.151046   0.252726    0.393875     0.292040  0.140207  1.000000   \n",
       "lat         -0.041197  -0.017020   -0.051928     0.000548  0.034244 -0.132151   \n",
       "\n",
       "                  lat  \n",
       "bedrooms    -0.041197  \n",
       "bathrooms   -0.017020  \n",
       "sqft_above  -0.051928  \n",
       "sqft_living  0.000548  \n",
       "floors       0.034244  \n",
       "long        -0.132151  \n",
       "lat          1.000000  "
      ]
     },
     "execution_count": 735,
     "metadata": {},
     "output_type": "execute_result"
    }
   ],
   "source": [
    "feats = ['bedrooms', 'bathrooms', 'sqft_above', 'sqft_living', 'floors', 'long', 'lat']\n",
    "corr = df_cleaned[feats].corr()\n",
    "corr\n",
    "# Does Multicollinearity exists between the house features "
   ]
  },
  {
   "cell_type": "code",
   "execution_count": 736,
   "metadata": {
    "ExecuteTime": {
     "end_time": "2022-05-17T04:57:49.864945Z",
     "start_time": "2022-05-17T04:57:49.450239Z"
    }
   },
   "outputs": [
    {
     "data": {
      "image/png": "[encoded data removed]",
      "text/plain": [
       "<Figure size 1080x720 with 2 Axes>"
      ]
     },
     "metadata": {
      "needs_background": "light"
     },
     "output_type": "display_data"
    }
   ],
   "source": [
    "_, ax = plt.subplots(figsize=(15,10))  \n",
    "sns.heatmap(corr, center=0, annot=True, ax=ax);\n",
    "#Need to add analysis "
   ]
  },
  {
   "cell_type": "code",
   "execution_count": 737,
   "metadata": {
    "ExecuteTime": {
     "end_time": "2022-05-17T04:57:57.221529Z",
     "start_time": "2022-05-17T04:57:57.200319Z"
    }
   },
   "outputs": [
    {
     "data": {
      "text/html": [
       "<div>\n",
       "<style scoped>\n",
       "    .dataframe tbody tr th:only-of-type {\n",
       "        vertical-align: middle;\n",
       "    }\n",
       "\n",
       "    .dataframe tbody tr th {\n",
       "        vertical-align: top;\n",
       "    }\n",
       "\n",
       "    .dataframe thead th {\n",
       "        text-align: right;\n",
       "    }\n",
       "</style>\n",
       "<table border=\"1\" class=\"dataframe\">\n",
       "  <thead>\n",
       "    <tr style=\"text-align: right;\">\n",
       "      <th></th>\n",
       "      <th>cc</th>\n",
       "    </tr>\n",
       "    <tr>\n",
       "      <th>pairs</th>\n",
       "      <th></th>\n",
       "    </tr>\n",
       "  </thead>\n",
       "  <tbody>\n",
       "    <tr>\n",
       "      <th>(sqft_above, sqft_living)</th>\n",
       "      <td>0.850917</td>\n",
       "    </tr>\n",
       "  </tbody>\n",
       "</table>\n",
       "</div>"
      ],
      "text/plain": [
       "                                 cc\n",
       "pairs                              \n",
       "(sqft_above, sqft_living)  0.850917"
      ]
     },
     "execution_count": 737,
     "metadata": {},
     "output_type": "execute_result"
    }
   ],
   "source": [
    "df_temp = df_cleaned.corr().abs().stack().reset_index().sort_values(0, ascending=False)\n",
    "\n",
    "df_temp['pairs'] = list(zip(df_temp.level_0, df_temp.level_1))\n",
    "\n",
    "df_temp.set_index(['pairs'], inplace = True)\n",
    "\n",
    "df_temp.drop(columns=['level_1', 'level_0'], inplace = True)\n",
    "\n",
    "# cc for correlation coefficient\n",
    "df_temp.columns = ['cc']\n",
    "\n",
    "df_temp.drop_duplicates(inplace=True)\n",
    "\n",
    "df_temp[(df_temp.cc>.75) & (df_temp.cc<1)]"
   ]
  },
  {
   "cell_type": "markdown",
   "metadata": {},
   "source": [
    "Dropping bathrooms and sqft above because multi corr "
   ]
  },
  {
   "cell_type": "code",
   "execution_count": 739,
   "metadata": {
    "ExecuteTime": {
     "end_time": "2022-05-17T04:58:07.769831Z",
     "start_time": "2022-05-17T04:58:07.525910Z"
    }
   },
   "outputs": [
    {
     "data": {
      "image/png": "[encoded data removed]",
      "text/plain": [
       "<Figure size 1080x720 with 2 Axes>"
      ]
     },
     "metadata": {
      "needs_background": "light"
     },
     "output_type": "display_data"
    }
   ],
   "source": [
    "df_cleaned_c = df_cleaned.drop(columns=[ 'sqft_above'])\n",
    "feats = ['bedrooms', 'floors', 'sqft_living', 'long', 'lat']\n",
    "corr = df_cleaned_c[feats].corr()\n",
    "_, ax = plt.subplots(figsize=(15,10))  \n",
    "sns.heatmap(corr, center=0, annot=True, ax=ax);"
   ]
  },
  {
   "cell_type": "markdown",
   "metadata": {},
   "source": [
    "## Normalizing the Data "
   ]
  },
  {
   "cell_type": "markdown",
   "metadata": {},
   "source": [
    "## Determining Numeric and Catagorical features"
   ]
  },
  {
   "cell_type": "code",
   "execution_count": 740,
   "metadata": {
    "ExecuteTime": {
     "end_time": "2022-05-17T04:58:09.930335Z",
     "start_time": "2022-05-17T04:58:09.916131Z"
    }
   },
   "outputs": [
    {
     "name": "stdout",
     "output_type": "stream",
     "text": [
      "<class 'pandas.core.frame.DataFrame'>\n",
      "Int64Index: 17872 entries, 1 to 21596\n",
      "Data columns (total 11 columns):\n",
      " #   Column       Non-Null Count  Dtype  \n",
      "---  ------       --------------  -----  \n",
      " 0   id           17872 non-null  int64  \n",
      " 1   price        17872 non-null  float64\n",
      " 2   bedrooms     17872 non-null  int64  \n",
      " 3   bathrooms    17872 non-null  float64\n",
      " 4   sqft_living  17872 non-null  int64  \n",
      " 5   floors       17872 non-null  float64\n",
      " 6   waterfront   17872 non-null  object \n",
      " 7   condition    17872 non-null  object \n",
      " 8   grade        17872 non-null  object \n",
      " 9   lat          17872 non-null  float64\n",
      " 10  long         17872 non-null  float64\n",
      "dtypes: float64(5), int64(3), object(3)\n",
      "memory usage: 1.6+ MB\n"
     ]
    }
   ],
   "source": [
    "df_cleaned_c.info()"
   ]
  },
  {
   "cell_type": "code",
   "execution_count": 768,
   "metadata": {
    "ExecuteTime": {
     "end_time": "2022-05-17T05:02:52.625011Z",
     "start_time": "2022-05-17T05:02:52.617102Z"
    }
   },
   "outputs": [],
   "source": [
    "# Dropping unused columns\n",
    "df_cleaned_c = df_cleaned.drop(columns=['waterfront', 'sqft_above', 'sqft_living'])"
   ]
  },
  {
   "cell_type": "code",
   "execution_count": 769,
   "metadata": {
    "ExecuteTime": {
     "end_time": "2022-05-17T05:02:53.912714Z",
     "start_time": "2022-05-17T05:02:53.800386Z"
    }
   },
   "outputs": [],
   "source": [
    "#Saved cleaned data \n",
    "df_cleaned_c.to_csv(\"data/kc_house_data_cleaned.csv\", index=False)"
   ]
  },
  {
   "cell_type": "markdown",
   "metadata": {
    "ExecuteTime": {
     "end_time": "2022-05-06T04:47:50.714908Z",
     "start_time": "2022-05-06T04:47:50.704122Z"
    }
   },
   "source": [
    " ## One Hot Encoding"
   ]
  },
  {
   "cell_type": "markdown",
   "metadata": {},
   "source": [
    "This is preprocessing "
   ]
  },
  {
   "cell_type": "code",
   "execution_count": 770,
   "metadata": {
    "ExecuteTime": {
     "end_time": "2022-05-17T05:02:55.549421Z",
     "start_time": "2022-05-17T05:02:55.526424Z"
    }
   },
   "outputs": [
    {
     "data": {
      "text/plain": [
       "Index(['id', 'price', 'lat', 'long', 'floors_1_0', 'floors_1_5', 'floors_2_0',\n",
       "       'floors_2_5', 'floors_3_0', 'floors_3_5', 'condition_Average',\n",
       "       'condition_Fair', 'condition_Good', 'condition_Poor',\n",
       "       'condition_Very_Good', 'bathrooms_0_5', 'bathrooms_0_75',\n",
       "       'bathrooms_1_0', 'bathrooms_1_25', 'bathrooms_1_5', 'bathrooms_1_75',\n",
       "       'bathrooms_2_0', 'bathrooms_2_25', 'bathrooms_2_5', 'bathrooms_2_75',\n",
       "       'bathrooms_3_0', 'bathrooms_3_25', 'bathrooms_3_5', 'bathrooms_3_75',\n",
       "       'bathrooms_4_0', 'bathrooms_4_25', 'bathrooms_4_5', 'bathrooms_4_75',\n",
       "       'bathrooms_5_0', 'bathrooms_5_25', 'bathrooms_5_5', 'bathrooms_5_75',\n",
       "       'bathrooms_6_0', 'bathrooms_6_75', 'bedrooms_1', 'bedrooms_2',\n",
       "       'bedrooms_3', 'bedrooms_4', 'bedrooms_5', 'bedrooms_6', 'bedrooms_7',\n",
       "       'bedrooms_8', 'grade_10_Very_Good', 'grade_11_Excellent',\n",
       "       'grade_12_Luxury', 'grade_3_Poor', 'grade_4_Low', 'grade_5_Fair',\n",
       "       'grade_6_Low_Average', 'grade_7_Average', 'grade_8_Good',\n",
       "       'grade_9_Better'],\n",
       "      dtype='object')"
      ]
     },
     "execution_count": 770,
     "metadata": {},
     "output_type": "execute_result"
    }
   ],
   "source": [
    "\n",
    "# df_categorical_cleaned = df_cleaned['floors']\n",
    "# df_categorical_cleaned = pd.get_dummies(df_categorical_cleaned, drop_first=True)\n",
    "# df_categorical_cleaned.head()\n",
    "\n",
    "\n",
    "df_categorical_cleaned = pd.get_dummies(df_cleaned_c, columns=['floors', 'condition', 'bathrooms', 'bedrooms', 'grade'])\n",
    "df_categorical_cleaned.columns = df_categorical_cleaned.columns.str.replace('.', '_')\n",
    "df_categorical_cleaned.columns = df_categorical_cleaned.columns.str.replace(' ', '_')\n",
    "df_categorical_cleaned.columns"
   ]
  },
  {
   "cell_type": "markdown",
   "metadata": {},
   "source": [
    "## Modeling "
   ]
  },
  {
   "cell_type": "markdown",
   "metadata": {},
   "source": [
    "Fitting the Initial Model "
   ]
  },
  {
   "cell_type": "code",
   "execution_count": 771,
   "metadata": {
    "ExecuteTime": {
     "end_time": "2022-05-17T05:03:11.107480Z",
     "start_time": "2022-05-17T05:03:11.101095Z"
    }
   },
   "outputs": [],
   "source": [
    "outcome = 'price'\n",
    "x_cols = ['lat', 'long', 'floors_1_0', 'floors_1_5',\n",
    "       'floors_2_0', 'floors_2_5', 'floors_3_0', 'floors_3_5',\n",
    "       'condition_Average', 'condition_Fair', 'condition_Good',\n",
    "       'condition_Poor', 'condition_Very_Good', 'bathrooms_0_5',\n",
    "       'bathrooms_0_75', 'bathrooms_1_0', 'bathrooms_1_25', 'bathrooms_1_5',\n",
    "       'bathrooms_1_75', 'bathrooms_2_0', 'bathrooms_2_25', 'bathrooms_2_5',\n",
    "       'bathrooms_2_75', 'bathrooms_3_0', 'bathrooms_3_25', 'bathrooms_3_5',\n",
    "       'bathrooms_3_75', 'bathrooms_4_0', 'bathrooms_4_25', 'bathrooms_4_5',\n",
    "       'bathrooms_4_75', 'bathrooms_5_0', 'bathrooms_5_25', 'bathrooms_5_5',\n",
    "       'bathrooms_5_75', 'bathrooms_6_0', 'bathrooms_6_75', 'bedrooms_1',\n",
    "       'bedrooms_2', 'bedrooms_3', 'bedrooms_4', 'bedrooms_5', 'bedrooms_6',\n",
    "       'bedrooms_7', 'bedrooms_8', 'grade_10_Very_Good', 'grade_11_Excellent',\n",
    "       'grade_12_Luxury', 'grade_3_Poor', 'grade_4_Low', 'grade_5_Fair',\n",
    "       'grade_6_Low_Average', 'grade_7_Average', 'grade_8_Good',\n",
    "       'grade_9_Better']\n",
    "#change x_cols for intial model \n",
    "#Need to add floors back after the merge, "
   ]
  },
  {
   "cell_type": "code",
   "execution_count": null,
   "metadata": {},
   "outputs": [],
   "source": []
  },
  {
   "cell_type": "code",
   "execution_count": 772,
   "metadata": {
    "ExecuteTime": {
     "end_time": "2022-05-17T05:03:13.596583Z",
     "start_time": "2022-05-17T05:03:13.593150Z"
    }
   },
   "outputs": [],
   "source": [
    "from statsmodels.formula.api import ols "
   ]
  },
  {
   "cell_type": "code",
   "execution_count": 773,
   "metadata": {
    "ExecuteTime": {
     "end_time": "2022-05-17T05:03:15.085175Z",
     "start_time": "2022-05-17T05:03:14.904232Z"
    }
   },
   "outputs": [
    {
     "data": {
      "text/html": [
       "<table class=\"simpletable\">\n",
       "<caption>OLS Regression Results</caption>\n",
       "<tr>\n",
       "  <th>Dep. Variable:</th>          <td>price</td>      <th>  R-squared:         </th>  <td>   0.607</td>  \n",
       "</tr>\n",
       "<tr>\n",
       "  <th>Model:</th>                   <td>OLS</td>       <th>  Adj. R-squared:    </th>  <td>   0.606</td>  \n",
       "</tr>\n",
       "<tr>\n",
       "  <th>Method:</th>             <td>Least Squares</td>  <th>  F-statistic:       </th>  <td>   551.3</td>  \n",
       "</tr>\n",
       "<tr>\n",
       "  <th>Date:</th>             <td>Mon, 16 May 2022</td> <th>  Prob (F-statistic):</th>   <td>  0.00</td>   \n",
       "</tr>\n",
       "<tr>\n",
       "  <th>Time:</th>                 <td>22:03:15</td>     <th>  Log-Likelihood:    </th> <td>-2.3472e+05</td>\n",
       "</tr>\n",
       "<tr>\n",
       "  <th>No. Observations:</th>      <td> 17872</td>      <th>  AIC:               </th>  <td>4.695e+05</td> \n",
       "</tr>\n",
       "<tr>\n",
       "  <th>Df Residuals:</th>          <td> 17821</td>      <th>  BIC:               </th>  <td>4.699e+05</td> \n",
       "</tr>\n",
       "<tr>\n",
       "  <th>Df Model:</th>              <td>    50</td>      <th>                     </th>      <td> </td>     \n",
       "</tr>\n",
       "<tr>\n",
       "  <th>Covariance Type:</th>      <td>nonrobust</td>    <th>                     </th>      <td> </td>     \n",
       "</tr>\n",
       "</table>\n",
       "<table class=\"simpletable\">\n",
       "<tr>\n",
       "           <td></td>              <th>coef</th>     <th>std err</th>      <th>t</th>      <th>P>|t|</th>  <th>[0.025</th>    <th>0.975]</th>  \n",
       "</tr>\n",
       "<tr>\n",
       "  <th>Intercept</th>           <td>-1.748e+07</td> <td> 5.48e+05</td> <td>  -31.904</td> <td> 0.000</td> <td>-1.86e+07</td> <td>-1.64e+07</td>\n",
       "</tr>\n",
       "<tr>\n",
       "  <th>lat</th>                 <td> 5.587e+05</td> <td> 6702.293</td> <td>   83.367</td> <td> 0.000</td> <td> 5.46e+05</td> <td> 5.72e+05</td>\n",
       "</tr>\n",
       "<tr>\n",
       "  <th>long</th>                <td>-2.106e+04</td> <td> 7075.031</td> <td>   -2.976</td> <td> 0.003</td> <td>-3.49e+04</td> <td>-7187.266</td>\n",
       "</tr>\n",
       "<tr>\n",
       "  <th>floors_1_0</th>          <td>-2.916e+06</td> <td> 9.14e+04</td> <td>  -31.912</td> <td> 0.000</td> <td> -3.1e+06</td> <td>-2.74e+06</td>\n",
       "</tr>\n",
       "<tr>\n",
       "  <th>floors_1_5</th>          <td>-2.852e+06</td> <td> 9.17e+04</td> <td>  -31.091</td> <td> 0.000</td> <td>-3.03e+06</td> <td>-2.67e+06</td>\n",
       "</tr>\n",
       "<tr>\n",
       "  <th>floors_2_0</th>          <td>-2.915e+06</td> <td> 9.11e+04</td> <td>  -31.989</td> <td> 0.000</td> <td>-3.09e+06</td> <td>-2.74e+06</td>\n",
       "</tr>\n",
       "<tr>\n",
       "  <th>floors_2_5</th>          <td>-2.862e+06</td> <td> 9.22e+04</td> <td>  -31.037</td> <td> 0.000</td> <td>-3.04e+06</td> <td>-2.68e+06</td>\n",
       "</tr>\n",
       "<tr>\n",
       "  <th>floors_3_0</th>          <td>-2.969e+06</td> <td> 9.24e+04</td> <td>  -32.119</td> <td> 0.000</td> <td>-3.15e+06</td> <td>-2.79e+06</td>\n",
       "</tr>\n",
       "<tr>\n",
       "  <th>floors_3_5</th>          <td>-2.967e+06</td> <td> 1.03e+05</td> <td>  -28.806</td> <td> 0.000</td> <td>-3.17e+06</td> <td>-2.76e+06</td>\n",
       "</tr>\n",
       "<tr>\n",
       "  <th>condition_Average</th>   <td>-3.518e+06</td> <td>  1.1e+05</td> <td>  -32.089</td> <td> 0.000</td> <td>-3.73e+06</td> <td> -3.3e+06</td>\n",
       "</tr>\n",
       "<tr>\n",
       "  <th>condition_Fair</th>      <td>-3.531e+06</td> <td>  1.1e+05</td> <td>  -32.148</td> <td> 0.000</td> <td>-3.75e+06</td> <td>-3.32e+06</td>\n",
       "</tr>\n",
       "<tr>\n",
       "  <th>condition_Good</th>      <td>-3.473e+06</td> <td>  1.1e+05</td> <td>  -31.686</td> <td> 0.000</td> <td>-3.69e+06</td> <td>-3.26e+06</td>\n",
       "</tr>\n",
       "<tr>\n",
       "  <th>condition_Poor</th>      <td>-3.523e+06</td> <td> 1.12e+05</td> <td>  -31.511</td> <td> 0.000</td> <td>-3.74e+06</td> <td> -3.3e+06</td>\n",
       "</tr>\n",
       "<tr>\n",
       "  <th>condition_Very_Good</th> <td>-3.437e+06</td> <td>  1.1e+05</td> <td>  -31.301</td> <td> 0.000</td> <td>-3.65e+06</td> <td>-3.22e+06</td>\n",
       "</tr>\n",
       "<tr>\n",
       "  <th>bathrooms_0_5</th>       <td>-8.761e+05</td> <td> 6.47e+04</td> <td>  -13.550</td> <td> 0.000</td> <td>   -1e+06</td> <td>-7.49e+05</td>\n",
       "</tr>\n",
       "<tr>\n",
       "  <th>bathrooms_0_75</th>      <td>-7.897e+05</td> <td> 3.09e+04</td> <td>  -25.594</td> <td> 0.000</td> <td> -8.5e+05</td> <td>-7.29e+05</td>\n",
       "</tr>\n",
       "<tr>\n",
       "  <th>bathrooms_1_0</th>       <td>-8.009e+05</td> <td> 2.69e+04</td> <td>  -29.825</td> <td> 0.000</td> <td>-8.53e+05</td> <td>-7.48e+05</td>\n",
       "</tr>\n",
       "<tr>\n",
       "  <th>bathrooms_1_25</th>      <td>-8.478e+05</td> <td>  5.5e+04</td> <td>  -15.420</td> <td> 0.000</td> <td>-9.56e+05</td> <td> -7.4e+05</td>\n",
       "</tr>\n",
       "<tr>\n",
       "  <th>bathrooms_1_5</th>       <td>-7.875e+05</td> <td> 2.68e+04</td> <td>  -29.375</td> <td> 0.000</td> <td> -8.4e+05</td> <td>-7.35e+05</td>\n",
       "</tr>\n",
       "<tr>\n",
       "  <th>bathrooms_1_75</th>      <td>-7.632e+05</td> <td> 2.66e+04</td> <td>  -28.679</td> <td> 0.000</td> <td>-8.15e+05</td> <td>-7.11e+05</td>\n",
       "</tr>\n",
       "<tr>\n",
       "  <th>bathrooms_2_0</th>       <td>-7.605e+05</td> <td> 2.66e+04</td> <td>  -28.543</td> <td> 0.000</td> <td>-8.13e+05</td> <td>-7.08e+05</td>\n",
       "</tr>\n",
       "<tr>\n",
       "  <th>bathrooms_2_25</th>      <td>-7.595e+05</td> <td> 2.65e+04</td> <td>  -28.639</td> <td> 0.000</td> <td>-8.12e+05</td> <td>-7.08e+05</td>\n",
       "</tr>\n",
       "<tr>\n",
       "  <th>bathrooms_2_5</th>       <td> -7.52e+05</td> <td> 2.62e+04</td> <td>  -28.655</td> <td> 0.000</td> <td>-8.03e+05</td> <td>-7.01e+05</td>\n",
       "</tr>\n",
       "<tr>\n",
       "  <th>bathrooms_2_75</th>      <td>-7.224e+05</td> <td> 2.66e+04</td> <td>  -27.193</td> <td> 0.000</td> <td>-7.75e+05</td> <td> -6.7e+05</td>\n",
       "</tr>\n",
       "<tr>\n",
       "  <th>bathrooms_3_0</th>       <td>-7.241e+05</td> <td> 2.69e+04</td> <td>  -26.876</td> <td> 0.000</td> <td>-7.77e+05</td> <td>-6.71e+05</td>\n",
       "</tr>\n",
       "<tr>\n",
       "  <th>bathrooms_3_25</th>      <td>-6.989e+05</td> <td> 2.72e+04</td> <td>  -25.738</td> <td> 0.000</td> <td>-7.52e+05</td> <td>-6.46e+05</td>\n",
       "</tr>\n",
       "<tr>\n",
       "  <th>bathrooms_3_5</th>       <td>-6.828e+05</td> <td>  2.7e+04</td> <td>  -25.336</td> <td> 0.000</td> <td>-7.36e+05</td> <td> -6.3e+05</td>\n",
       "</tr>\n",
       "<tr>\n",
       "  <th>bathrooms_3_75</th>      <td>-6.425e+05</td> <td> 3.05e+04</td> <td>  -21.086</td> <td> 0.000</td> <td>-7.02e+05</td> <td>-5.83e+05</td>\n",
       "</tr>\n",
       "<tr>\n",
       "  <th>bathrooms_4_0</th>       <td>-6.723e+05</td> <td> 3.11e+04</td> <td>  -21.617</td> <td> 0.000</td> <td>-7.33e+05</td> <td>-6.11e+05</td>\n",
       "</tr>\n",
       "<tr>\n",
       "  <th>bathrooms_4_25</th>      <td>-5.983e+05</td> <td> 3.52e+04</td> <td>  -16.999</td> <td> 0.000</td> <td>-6.67e+05</td> <td>-5.29e+05</td>\n",
       "</tr>\n",
       "<tr>\n",
       "  <th>bathrooms_4_5</th>       <td>-6.708e+05</td> <td> 3.24e+04</td> <td>  -20.724</td> <td> 0.000</td> <td>-7.34e+05</td> <td>-6.07e+05</td>\n",
       "</tr>\n",
       "<tr>\n",
       "  <th>bathrooms_4_75</th>      <td>-6.288e+05</td> <td> 6.43e+04</td> <td>   -9.780</td> <td> 0.000</td> <td>-7.55e+05</td> <td>-5.03e+05</td>\n",
       "</tr>\n",
       "<tr>\n",
       "  <th>bathrooms_5_0</th>       <td>-7.546e+05</td> <td> 5.97e+04</td> <td>  -12.649</td> <td> 0.000</td> <td>-8.72e+05</td> <td>-6.38e+05</td>\n",
       "</tr>\n",
       "<tr>\n",
       "  <th>bathrooms_5_25</th>      <td>-6.585e+05</td> <td> 8.76e+04</td> <td>   -7.515</td> <td> 0.000</td> <td> -8.3e+05</td> <td>-4.87e+05</td>\n",
       "</tr>\n",
       "<tr>\n",
       "  <th>bathrooms_5_5</th>       <td>-6.329e+05</td> <td> 1.21e+05</td> <td>   -5.243</td> <td> 0.000</td> <td> -8.7e+05</td> <td>-3.96e+05</td>\n",
       "</tr>\n",
       "<tr>\n",
       "  <th>bathrooms_5_75</th>      <td>-8.462e+05</td> <td> 1.22e+05</td> <td>   -6.911</td> <td> 0.000</td> <td>-1.09e+06</td> <td>-6.06e+05</td>\n",
       "</tr>\n",
       "<tr>\n",
       "  <th>bathrooms_6_0</th>       <td>-6.772e+05</td> <td>  1.7e+05</td> <td>   -3.993</td> <td> 0.000</td> <td>-1.01e+06</td> <td>-3.45e+05</td>\n",
       "</tr>\n",
       "<tr>\n",
       "  <th>bathrooms_6_75</th>      <td>-7.337e+05</td> <td> 1.23e+05</td> <td>   -5.956</td> <td> 0.000</td> <td>-9.75e+05</td> <td>-4.92e+05</td>\n",
       "</tr>\n",
       "<tr>\n",
       "  <th>bedrooms_1</th>          <td>-2.234e+06</td> <td> 6.94e+04</td> <td>  -32.176</td> <td> 0.000</td> <td>-2.37e+06</td> <td> -2.1e+06</td>\n",
       "</tr>\n",
       "<tr>\n",
       "  <th>bedrooms_2</th>          <td>-2.215e+06</td> <td>  6.9e+04</td> <td>  -32.115</td> <td> 0.000</td> <td>-2.35e+06</td> <td>-2.08e+06</td>\n",
       "</tr>\n",
       "<tr>\n",
       "  <th>bedrooms_3</th>          <td>-2.221e+06</td> <td> 6.86e+04</td> <td>  -32.401</td> <td> 0.000</td> <td>-2.36e+06</td> <td>-2.09e+06</td>\n",
       "</tr>\n",
       "<tr>\n",
       "  <th>bedrooms_4</th>          <td>-2.195e+06</td> <td> 6.86e+04</td> <td>  -32.013</td> <td> 0.000</td> <td>-2.33e+06</td> <td>-2.06e+06</td>\n",
       "</tr>\n",
       "<tr>\n",
       "  <th>bedrooms_5</th>          <td>-2.184e+06</td> <td> 6.87e+04</td> <td>  -31.802</td> <td> 0.000</td> <td>-2.32e+06</td> <td>-2.05e+06</td>\n",
       "</tr>\n",
       "<tr>\n",
       "  <th>bedrooms_6</th>          <td>-2.158e+06</td> <td> 6.93e+04</td> <td>  -31.126</td> <td> 0.000</td> <td>-2.29e+06</td> <td>-2.02e+06</td>\n",
       "</tr>\n",
       "<tr>\n",
       "  <th>bedrooms_7</th>          <td>-2.175e+06</td> <td> 7.21e+04</td> <td>  -30.182</td> <td> 0.000</td> <td>-2.32e+06</td> <td>-2.03e+06</td>\n",
       "</tr>\n",
       "<tr>\n",
       "  <th>bedrooms_8</th>          <td>-2.099e+06</td> <td> 8.06e+04</td> <td>  -26.058</td> <td> 0.000</td> <td>-2.26e+06</td> <td>-1.94e+06</td>\n",
       "</tr>\n",
       "<tr>\n",
       "  <th>grade_10_Very_Good</th>  <td>-1.538e+06</td> <td> 5.78e+04</td> <td>  -26.602</td> <td> 0.000</td> <td>-1.65e+06</td> <td>-1.42e+06</td>\n",
       "</tr>\n",
       "<tr>\n",
       "  <th>grade_11_Excellent</th>  <td>-1.475e+06</td> <td>  5.9e+04</td> <td>  -25.014</td> <td> 0.000</td> <td>-1.59e+06</td> <td>-1.36e+06</td>\n",
       "</tr>\n",
       "<tr>\n",
       "  <th>grade_12_Luxury</th>     <td>-1.462e+06</td> <td> 1.26e+05</td> <td>  -11.585</td> <td> 0.000</td> <td>-1.71e+06</td> <td>-1.21e+06</td>\n",
       "</tr>\n",
       "<tr>\n",
       "  <th>grade_3_Poor</th>        <td>-1.826e+06</td> <td> 1.24e+05</td> <td>  -14.672</td> <td> 0.000</td> <td>-2.07e+06</td> <td>-1.58e+06</td>\n",
       "</tr>\n",
       "<tr>\n",
       "  <th>grade_4_Low</th>         <td>-1.979e+06</td> <td> 6.14e+04</td> <td>  -32.204</td> <td> 0.000</td> <td> -2.1e+06</td> <td>-1.86e+06</td>\n",
       "</tr>\n",
       "<tr>\n",
       "  <th>grade_5_Fair</th>        <td>-1.969e+06</td> <td> 5.77e+04</td> <td>  -34.101</td> <td> 0.000</td> <td>-2.08e+06</td> <td>-1.86e+06</td>\n",
       "</tr>\n",
       "<tr>\n",
       "  <th>grade_6_Low_Average</th> <td>-1.947e+06</td> <td> 5.79e+04</td> <td>  -33.626</td> <td> 0.000</td> <td>-2.06e+06</td> <td>-1.83e+06</td>\n",
       "</tr>\n",
       "<tr>\n",
       "  <th>grade_7_Average</th>     <td>-1.877e+06</td> <td>  5.8e+04</td> <td>  -32.354</td> <td> 0.000</td> <td>-1.99e+06</td> <td>-1.76e+06</td>\n",
       "</tr>\n",
       "<tr>\n",
       "  <th>grade_8_Good</th>        <td>-1.774e+06</td> <td> 5.81e+04</td> <td>  -30.558</td> <td> 0.000</td> <td>-1.89e+06</td> <td>-1.66e+06</td>\n",
       "</tr>\n",
       "<tr>\n",
       "  <th>grade_9_Better</th>      <td>-1.635e+06</td> <td> 5.79e+04</td> <td>  -28.222</td> <td> 0.000</td> <td>-1.75e+06</td> <td>-1.52e+06</td>\n",
       "</tr>\n",
       "</table>\n",
       "<table class=\"simpletable\">\n",
       "<tr>\n",
       "  <th>Omnibus:</th>       <td>1602.049</td> <th>  Durbin-Watson:     </th> <td>   1.989</td>\n",
       "</tr>\n",
       "<tr>\n",
       "  <th>Prob(Omnibus):</th>  <td> 0.000</td>  <th>  Jarque-Bera (JB):  </th> <td>2437.116</td>\n",
       "</tr>\n",
       "<tr>\n",
       "  <th>Skew:</th>           <td> 0.691</td>  <th>  Prob(JB):          </th> <td>    0.00</td>\n",
       "</tr>\n",
       "<tr>\n",
       "  <th>Kurtosis:</th>       <td> 4.167</td>  <th>  Cond. No.          </th> <td>1.00e+16</td>\n",
       "</tr>\n",
       "</table><br/><br/>Notes:<br/>[1] Standard Errors assume that the covariance matrix of the errors is correctly specified.<br/>[2] The smallest eigenvalue is 3.07e-24. This might indicate that there are<br/>strong multicollinearity problems or that the design matrix is singular."
      ],
      "text/plain": [
       "<class 'statsmodels.iolib.summary.Summary'>\n",
       "\"\"\"\n",
       "                            OLS Regression Results                            \n",
       "==============================================================================\n",
       "Dep. Variable:                  price   R-squared:                       0.607\n",
       "Model:                            OLS   Adj. R-squared:                  0.606\n",
       "Method:                 Least Squares   F-statistic:                     551.3\n",
       "Date:                Mon, 16 May 2022   Prob (F-statistic):               0.00\n",
       "Time:                        22:03:15   Log-Likelihood:            -2.3472e+05\n",
       "No. Observations:               17872   AIC:                         4.695e+05\n",
       "Df Residuals:                   17821   BIC:                         4.699e+05\n",
       "Df Model:                          50                                         \n",
       "Covariance Type:            nonrobust                                         \n",
       "=======================================================================================\n",
       "                          coef    std err          t      P>|t|      [0.025      0.975]\n",
       "---------------------------------------------------------------------------------------\n",
       "Intercept           -1.748e+07   5.48e+05    -31.904      0.000   -1.86e+07   -1.64e+07\n",
       "lat                  5.587e+05   6702.293     83.367      0.000    5.46e+05    5.72e+05\n",
       "long                -2.106e+04   7075.031     -2.976      0.003   -3.49e+04   -7187.266\n",
       "floors_1_0          -2.916e+06   9.14e+04    -31.912      0.000    -3.1e+06   -2.74e+06\n",
       "floors_1_5          -2.852e+06   9.17e+04    -31.091      0.000   -3.03e+06   -2.67e+06\n",
       "floors_2_0          -2.915e+06   9.11e+04    -31.989      0.000   -3.09e+06   -2.74e+06\n",
       "floors_2_5          -2.862e+06   9.22e+04    -31.037      0.000   -3.04e+06   -2.68e+06\n",
       "floors_3_0          -2.969e+06   9.24e+04    -32.119      0.000   -3.15e+06   -2.79e+06\n",
       "floors_3_5          -2.967e+06   1.03e+05    -28.806      0.000   -3.17e+06   -2.76e+06\n",
       "condition_Average   -3.518e+06    1.1e+05    -32.089      0.000   -3.73e+06    -3.3e+06\n",
       "condition_Fair      -3.531e+06    1.1e+05    -32.148      0.000   -3.75e+06   -3.32e+06\n",
       "condition_Good      -3.473e+06    1.1e+05    -31.686      0.000   -3.69e+06   -3.26e+06\n",
       "condition_Poor      -3.523e+06   1.12e+05    -31.511      0.000   -3.74e+06    -3.3e+06\n",
       "condition_Very_Good -3.437e+06    1.1e+05    -31.301      0.000   -3.65e+06   -3.22e+06\n",
       "bathrooms_0_5       -8.761e+05   6.47e+04    -13.550      0.000      -1e+06   -7.49e+05\n",
       "bathrooms_0_75      -7.897e+05   3.09e+04    -25.594      0.000    -8.5e+05   -7.29e+05\n",
       "bathrooms_1_0       -8.009e+05   2.69e+04    -29.825      0.000   -8.53e+05   -7.48e+05\n",
       "bathrooms_1_25      -8.478e+05    5.5e+04    -15.420      0.000   -9.56e+05    -7.4e+05\n",
       "bathrooms_1_5       -7.875e+05   2.68e+04    -29.375      0.000    -8.4e+05   -7.35e+05\n",
       "bathrooms_1_75      -7.632e+05   2.66e+04    -28.679      0.000   -8.15e+05   -7.11e+05\n",
       "bathrooms_2_0       -7.605e+05   2.66e+04    -28.543      0.000   -8.13e+05   -7.08e+05\n",
       "bathrooms_2_25      -7.595e+05   2.65e+04    -28.639      0.000   -8.12e+05   -7.08e+05\n",
       "bathrooms_2_5        -7.52e+05   2.62e+04    -28.655      0.000   -8.03e+05   -7.01e+05\n",
       "bathrooms_2_75      -7.224e+05   2.66e+04    -27.193      0.000   -7.75e+05    -6.7e+05\n",
       "bathrooms_3_0       -7.241e+05   2.69e+04    -26.876      0.000   -7.77e+05   -6.71e+05\n",
       "bathrooms_3_25      -6.989e+05   2.72e+04    -25.738      0.000   -7.52e+05   -6.46e+05\n",
       "bathrooms_3_5       -6.828e+05    2.7e+04    -25.336      0.000   -7.36e+05    -6.3e+05\n",
       "bathrooms_3_75      -6.425e+05   3.05e+04    -21.086      0.000   -7.02e+05   -5.83e+05\n",
       "bathrooms_4_0       -6.723e+05   3.11e+04    -21.617      0.000   -7.33e+05   -6.11e+05\n",
       "bathrooms_4_25      -5.983e+05   3.52e+04    -16.999      0.000   -6.67e+05   -5.29e+05\n",
       "bathrooms_4_5       -6.708e+05   3.24e+04    -20.724      0.000   -7.34e+05   -6.07e+05\n",
       "bathrooms_4_75      -6.288e+05   6.43e+04     -9.780      0.000   -7.55e+05   -5.03e+05\n",
       "bathrooms_5_0       -7.546e+05   5.97e+04    -12.649      0.000   -8.72e+05   -6.38e+05\n",
       "bathrooms_5_25      -6.585e+05   8.76e+04     -7.515      0.000    -8.3e+05   -4.87e+05\n",
       "bathrooms_5_5       -6.329e+05   1.21e+05     -5.243      0.000    -8.7e+05   -3.96e+05\n",
       "bathrooms_5_75      -8.462e+05   1.22e+05     -6.911      0.000   -1.09e+06   -6.06e+05\n",
       "bathrooms_6_0       -6.772e+05    1.7e+05     -3.993      0.000   -1.01e+06   -3.45e+05\n",
       "bathrooms_6_75      -7.337e+05   1.23e+05     -5.956      0.000   -9.75e+05   -4.92e+05\n",
       "bedrooms_1          -2.234e+06   6.94e+04    -32.176      0.000   -2.37e+06    -2.1e+06\n",
       "bedrooms_2          -2.215e+06    6.9e+04    -32.115      0.000   -2.35e+06   -2.08e+06\n",
       "bedrooms_3          -2.221e+06   6.86e+04    -32.401      0.000   -2.36e+06   -2.09e+06\n",
       "bedrooms_4          -2.195e+06   6.86e+04    -32.013      0.000   -2.33e+06   -2.06e+06\n",
       "bedrooms_5          -2.184e+06   6.87e+04    -31.802      0.000   -2.32e+06   -2.05e+06\n",
       "bedrooms_6          -2.158e+06   6.93e+04    -31.126      0.000   -2.29e+06   -2.02e+06\n",
       "bedrooms_7          -2.175e+06   7.21e+04    -30.182      0.000   -2.32e+06   -2.03e+06\n",
       "bedrooms_8          -2.099e+06   8.06e+04    -26.058      0.000   -2.26e+06   -1.94e+06\n",
       "grade_10_Very_Good  -1.538e+06   5.78e+04    -26.602      0.000   -1.65e+06   -1.42e+06\n",
       "grade_11_Excellent  -1.475e+06    5.9e+04    -25.014      0.000   -1.59e+06   -1.36e+06\n",
       "grade_12_Luxury     -1.462e+06   1.26e+05    -11.585      0.000   -1.71e+06   -1.21e+06\n",
       "grade_3_Poor        -1.826e+06   1.24e+05    -14.672      0.000   -2.07e+06   -1.58e+06\n",
       "grade_4_Low         -1.979e+06   6.14e+04    -32.204      0.000    -2.1e+06   -1.86e+06\n",
       "grade_5_Fair        -1.969e+06   5.77e+04    -34.101      0.000   -2.08e+06   -1.86e+06\n",
       "grade_6_Low_Average -1.947e+06   5.79e+04    -33.626      0.000   -2.06e+06   -1.83e+06\n",
       "grade_7_Average     -1.877e+06    5.8e+04    -32.354      0.000   -1.99e+06   -1.76e+06\n",
       "grade_8_Good        -1.774e+06   5.81e+04    -30.558      0.000   -1.89e+06   -1.66e+06\n",
       "grade_9_Better      -1.635e+06   5.79e+04    -28.222      0.000   -1.75e+06   -1.52e+06\n",
       "==============================================================================\n",
       "Omnibus:                     1602.049   Durbin-Watson:                   1.989\n",
       "Prob(Omnibus):                  0.000   Jarque-Bera (JB):             2437.116\n",
       "Skew:                           0.691   Prob(JB):                         0.00\n",
       "Kurtosis:                       4.167   Cond. No.                     1.00e+16\n",
       "==============================================================================\n",
       "\n",
       "Notes:\n",
       "[1] Standard Errors assume that the covariance matrix of the errors is correctly specified.\n",
       "[2] The smallest eigenvalue is 3.07e-24. This might indicate that there are\n",
       "strong multicollinearity problems or that the design matrix is singular.\n",
       "\"\"\""
      ]
     },
     "execution_count": 773,
     "metadata": {},
     "output_type": "execute_result"
    }
   ],
   "source": [
    "predictors = '+'.join(x_cols)\n",
    "formula = outcome + '~' + predictors \n",
    "model = ols(formula=formula, data=df_categorical_cleaned).fit()\n",
    "model.summary()"
   ]
  },
  {
   "cell_type": "markdown",
   "metadata": {},
   "source": [
    "## Initial Refinement "
   ]
  },
  {
   "cell_type": "code",
   "execution_count": 774,
   "metadata": {
    "ExecuteTime": {
     "end_time": "2022-05-17T05:03:19.888638Z",
     "start_time": "2022-05-17T05:03:19.885208Z"
    }
   },
   "outputs": [],
   "source": [
    "# Removing P values greater than 0.05\n",
    "# x_cols.remove('bathrooms_3_75')\n",
    "# x_cols.remove('bathrooms_4_5')\n",
    "# x_cols.remove('bathrooms_5_75')\n",
    "# x_cols.remove('bathrooms_6_5')\n",
    "# x_cols.remove('bathrooms_8_0')\n",
    "# x_cols.remove('grade_9_Better')"
   ]
  },
  {
   "cell_type": "code",
   "execution_count": 775,
   "metadata": {
    "ExecuteTime": {
     "end_time": "2022-05-17T05:03:27.420952Z",
     "start_time": "2022-05-17T05:03:27.242161Z"
    }
   },
   "outputs": [
    {
     "data": {
      "text/html": [
       "<table class=\"simpletable\">\n",
       "<caption>OLS Regression Results</caption>\n",
       "<tr>\n",
       "  <th>Dep. Variable:</th>          <td>price</td>      <th>  R-squared:         </th>  <td>   0.607</td>  \n",
       "</tr>\n",
       "<tr>\n",
       "  <th>Model:</th>                   <td>OLS</td>       <th>  Adj. R-squared:    </th>  <td>   0.606</td>  \n",
       "</tr>\n",
       "<tr>\n",
       "  <th>Method:</th>             <td>Least Squares</td>  <th>  F-statistic:       </th>  <td>   551.3</td>  \n",
       "</tr>\n",
       "<tr>\n",
       "  <th>Date:</th>             <td>Mon, 16 May 2022</td> <th>  Prob (F-statistic):</th>   <td>  0.00</td>   \n",
       "</tr>\n",
       "<tr>\n",
       "  <th>Time:</th>                 <td>22:03:27</td>     <th>  Log-Likelihood:    </th> <td>-2.3472e+05</td>\n",
       "</tr>\n",
       "<tr>\n",
       "  <th>No. Observations:</th>      <td> 17872</td>      <th>  AIC:               </th>  <td>4.695e+05</td> \n",
       "</tr>\n",
       "<tr>\n",
       "  <th>Df Residuals:</th>          <td> 17821</td>      <th>  BIC:               </th>  <td>4.699e+05</td> \n",
       "</tr>\n",
       "<tr>\n",
       "  <th>Df Model:</th>              <td>    50</td>      <th>                     </th>      <td> </td>     \n",
       "</tr>\n",
       "<tr>\n",
       "  <th>Covariance Type:</th>      <td>nonrobust</td>    <th>                     </th>      <td> </td>     \n",
       "</tr>\n",
       "</table>\n",
       "<table class=\"simpletable\">\n",
       "<tr>\n",
       "           <td></td>              <th>coef</th>     <th>std err</th>      <th>t</th>      <th>P>|t|</th>  <th>[0.025</th>    <th>0.975]</th>  \n",
       "</tr>\n",
       "<tr>\n",
       "  <th>Intercept</th>           <td>-1.748e+07</td> <td> 5.48e+05</td> <td>  -31.904</td> <td> 0.000</td> <td>-1.86e+07</td> <td>-1.64e+07</td>\n",
       "</tr>\n",
       "<tr>\n",
       "  <th>lat</th>                 <td> 5.587e+05</td> <td> 6702.293</td> <td>   83.367</td> <td> 0.000</td> <td> 5.46e+05</td> <td> 5.72e+05</td>\n",
       "</tr>\n",
       "<tr>\n",
       "  <th>long</th>                <td>-2.106e+04</td> <td> 7075.031</td> <td>   -2.976</td> <td> 0.003</td> <td>-3.49e+04</td> <td>-7187.266</td>\n",
       "</tr>\n",
       "<tr>\n",
       "  <th>floors_1_0</th>          <td>-2.916e+06</td> <td> 9.14e+04</td> <td>  -31.912</td> <td> 0.000</td> <td> -3.1e+06</td> <td>-2.74e+06</td>\n",
       "</tr>\n",
       "<tr>\n",
       "  <th>floors_1_5</th>          <td>-2.852e+06</td> <td> 9.17e+04</td> <td>  -31.091</td> <td> 0.000</td> <td>-3.03e+06</td> <td>-2.67e+06</td>\n",
       "</tr>\n",
       "<tr>\n",
       "  <th>floors_2_0</th>          <td>-2.915e+06</td> <td> 9.11e+04</td> <td>  -31.989</td> <td> 0.000</td> <td>-3.09e+06</td> <td>-2.74e+06</td>\n",
       "</tr>\n",
       "<tr>\n",
       "  <th>floors_2_5</th>          <td>-2.862e+06</td> <td> 9.22e+04</td> <td>  -31.037</td> <td> 0.000</td> <td>-3.04e+06</td> <td>-2.68e+06</td>\n",
       "</tr>\n",
       "<tr>\n",
       "  <th>floors_3_0</th>          <td>-2.969e+06</td> <td> 9.24e+04</td> <td>  -32.119</td> <td> 0.000</td> <td>-3.15e+06</td> <td>-2.79e+06</td>\n",
       "</tr>\n",
       "<tr>\n",
       "  <th>floors_3_5</th>          <td>-2.967e+06</td> <td> 1.03e+05</td> <td>  -28.806</td> <td> 0.000</td> <td>-3.17e+06</td> <td>-2.76e+06</td>\n",
       "</tr>\n",
       "<tr>\n",
       "  <th>condition_Average</th>   <td>-3.518e+06</td> <td>  1.1e+05</td> <td>  -32.089</td> <td> 0.000</td> <td>-3.73e+06</td> <td> -3.3e+06</td>\n",
       "</tr>\n",
       "<tr>\n",
       "  <th>condition_Fair</th>      <td>-3.531e+06</td> <td>  1.1e+05</td> <td>  -32.148</td> <td> 0.000</td> <td>-3.75e+06</td> <td>-3.32e+06</td>\n",
       "</tr>\n",
       "<tr>\n",
       "  <th>condition_Good</th>      <td>-3.473e+06</td> <td>  1.1e+05</td> <td>  -31.686</td> <td> 0.000</td> <td>-3.69e+06</td> <td>-3.26e+06</td>\n",
       "</tr>\n",
       "<tr>\n",
       "  <th>condition_Poor</th>      <td>-3.523e+06</td> <td> 1.12e+05</td> <td>  -31.511</td> <td> 0.000</td> <td>-3.74e+06</td> <td> -3.3e+06</td>\n",
       "</tr>\n",
       "<tr>\n",
       "  <th>condition_Very_Good</th> <td>-3.437e+06</td> <td>  1.1e+05</td> <td>  -31.301</td> <td> 0.000</td> <td>-3.65e+06</td> <td>-3.22e+06</td>\n",
       "</tr>\n",
       "<tr>\n",
       "  <th>bathrooms_0_5</th>       <td>-8.761e+05</td> <td> 6.47e+04</td> <td>  -13.550</td> <td> 0.000</td> <td>   -1e+06</td> <td>-7.49e+05</td>\n",
       "</tr>\n",
       "<tr>\n",
       "  <th>bathrooms_0_75</th>      <td>-7.897e+05</td> <td> 3.09e+04</td> <td>  -25.594</td> <td> 0.000</td> <td> -8.5e+05</td> <td>-7.29e+05</td>\n",
       "</tr>\n",
       "<tr>\n",
       "  <th>bathrooms_1_0</th>       <td>-8.009e+05</td> <td> 2.69e+04</td> <td>  -29.825</td> <td> 0.000</td> <td>-8.53e+05</td> <td>-7.48e+05</td>\n",
       "</tr>\n",
       "<tr>\n",
       "  <th>bathrooms_1_25</th>      <td>-8.478e+05</td> <td>  5.5e+04</td> <td>  -15.420</td> <td> 0.000</td> <td>-9.56e+05</td> <td> -7.4e+05</td>\n",
       "</tr>\n",
       "<tr>\n",
       "  <th>bathrooms_1_5</th>       <td>-7.875e+05</td> <td> 2.68e+04</td> <td>  -29.375</td> <td> 0.000</td> <td> -8.4e+05</td> <td>-7.35e+05</td>\n",
       "</tr>\n",
       "<tr>\n",
       "  <th>bathrooms_1_75</th>      <td>-7.632e+05</td> <td> 2.66e+04</td> <td>  -28.679</td> <td> 0.000</td> <td>-8.15e+05</td> <td>-7.11e+05</td>\n",
       "</tr>\n",
       "<tr>\n",
       "  <th>bathrooms_2_0</th>       <td>-7.605e+05</td> <td> 2.66e+04</td> <td>  -28.543</td> <td> 0.000</td> <td>-8.13e+05</td> <td>-7.08e+05</td>\n",
       "</tr>\n",
       "<tr>\n",
       "  <th>bathrooms_2_25</th>      <td>-7.595e+05</td> <td> 2.65e+04</td> <td>  -28.639</td> <td> 0.000</td> <td>-8.12e+05</td> <td>-7.08e+05</td>\n",
       "</tr>\n",
       "<tr>\n",
       "  <th>bathrooms_2_5</th>       <td> -7.52e+05</td> <td> 2.62e+04</td> <td>  -28.655</td> <td> 0.000</td> <td>-8.03e+05</td> <td>-7.01e+05</td>\n",
       "</tr>\n",
       "<tr>\n",
       "  <th>bathrooms_2_75</th>      <td>-7.224e+05</td> <td> 2.66e+04</td> <td>  -27.193</td> <td> 0.000</td> <td>-7.75e+05</td> <td> -6.7e+05</td>\n",
       "</tr>\n",
       "<tr>\n",
       "  <th>bathrooms_3_0</th>       <td>-7.241e+05</td> <td> 2.69e+04</td> <td>  -26.876</td> <td> 0.000</td> <td>-7.77e+05</td> <td>-6.71e+05</td>\n",
       "</tr>\n",
       "<tr>\n",
       "  <th>bathrooms_3_25</th>      <td>-6.989e+05</td> <td> 2.72e+04</td> <td>  -25.738</td> <td> 0.000</td> <td>-7.52e+05</td> <td>-6.46e+05</td>\n",
       "</tr>\n",
       "<tr>\n",
       "  <th>bathrooms_3_5</th>       <td>-6.828e+05</td> <td>  2.7e+04</td> <td>  -25.336</td> <td> 0.000</td> <td>-7.36e+05</td> <td> -6.3e+05</td>\n",
       "</tr>\n",
       "<tr>\n",
       "  <th>bathrooms_3_75</th>      <td>-6.425e+05</td> <td> 3.05e+04</td> <td>  -21.086</td> <td> 0.000</td> <td>-7.02e+05</td> <td>-5.83e+05</td>\n",
       "</tr>\n",
       "<tr>\n",
       "  <th>bathrooms_4_0</th>       <td>-6.723e+05</td> <td> 3.11e+04</td> <td>  -21.617</td> <td> 0.000</td> <td>-7.33e+05</td> <td>-6.11e+05</td>\n",
       "</tr>\n",
       "<tr>\n",
       "  <th>bathrooms_4_25</th>      <td>-5.983e+05</td> <td> 3.52e+04</td> <td>  -16.999</td> <td> 0.000</td> <td>-6.67e+05</td> <td>-5.29e+05</td>\n",
       "</tr>\n",
       "<tr>\n",
       "  <th>bathrooms_4_5</th>       <td>-6.708e+05</td> <td> 3.24e+04</td> <td>  -20.724</td> <td> 0.000</td> <td>-7.34e+05</td> <td>-6.07e+05</td>\n",
       "</tr>\n",
       "<tr>\n",
       "  <th>bathrooms_4_75</th>      <td>-6.288e+05</td> <td> 6.43e+04</td> <td>   -9.780</td> <td> 0.000</td> <td>-7.55e+05</td> <td>-5.03e+05</td>\n",
       "</tr>\n",
       "<tr>\n",
       "  <th>bathrooms_5_0</th>       <td>-7.546e+05</td> <td> 5.97e+04</td> <td>  -12.649</td> <td> 0.000</td> <td>-8.72e+05</td> <td>-6.38e+05</td>\n",
       "</tr>\n",
       "<tr>\n",
       "  <th>bathrooms_5_25</th>      <td>-6.585e+05</td> <td> 8.76e+04</td> <td>   -7.515</td> <td> 0.000</td> <td> -8.3e+05</td> <td>-4.87e+05</td>\n",
       "</tr>\n",
       "<tr>\n",
       "  <th>bathrooms_5_5</th>       <td>-6.329e+05</td> <td> 1.21e+05</td> <td>   -5.243</td> <td> 0.000</td> <td> -8.7e+05</td> <td>-3.96e+05</td>\n",
       "</tr>\n",
       "<tr>\n",
       "  <th>bathrooms_5_75</th>      <td>-8.462e+05</td> <td> 1.22e+05</td> <td>   -6.911</td> <td> 0.000</td> <td>-1.09e+06</td> <td>-6.06e+05</td>\n",
       "</tr>\n",
       "<tr>\n",
       "  <th>bathrooms_6_0</th>       <td>-6.772e+05</td> <td>  1.7e+05</td> <td>   -3.993</td> <td> 0.000</td> <td>-1.01e+06</td> <td>-3.45e+05</td>\n",
       "</tr>\n",
       "<tr>\n",
       "  <th>bathrooms_6_75</th>      <td>-7.337e+05</td> <td> 1.23e+05</td> <td>   -5.956</td> <td> 0.000</td> <td>-9.75e+05</td> <td>-4.92e+05</td>\n",
       "</tr>\n",
       "<tr>\n",
       "  <th>bedrooms_1</th>          <td>-2.234e+06</td> <td> 6.94e+04</td> <td>  -32.176</td> <td> 0.000</td> <td>-2.37e+06</td> <td> -2.1e+06</td>\n",
       "</tr>\n",
       "<tr>\n",
       "  <th>bedrooms_2</th>          <td>-2.215e+06</td> <td>  6.9e+04</td> <td>  -32.115</td> <td> 0.000</td> <td>-2.35e+06</td> <td>-2.08e+06</td>\n",
       "</tr>\n",
       "<tr>\n",
       "  <th>bedrooms_3</th>          <td>-2.221e+06</td> <td> 6.86e+04</td> <td>  -32.401</td> <td> 0.000</td> <td>-2.36e+06</td> <td>-2.09e+06</td>\n",
       "</tr>\n",
       "<tr>\n",
       "  <th>bedrooms_4</th>          <td>-2.195e+06</td> <td> 6.86e+04</td> <td>  -32.013</td> <td> 0.000</td> <td>-2.33e+06</td> <td>-2.06e+06</td>\n",
       "</tr>\n",
       "<tr>\n",
       "  <th>bedrooms_5</th>          <td>-2.184e+06</td> <td> 6.87e+04</td> <td>  -31.802</td> <td> 0.000</td> <td>-2.32e+06</td> <td>-2.05e+06</td>\n",
       "</tr>\n",
       "<tr>\n",
       "  <th>bedrooms_6</th>          <td>-2.158e+06</td> <td> 6.93e+04</td> <td>  -31.126</td> <td> 0.000</td> <td>-2.29e+06</td> <td>-2.02e+06</td>\n",
       "</tr>\n",
       "<tr>\n",
       "  <th>bedrooms_7</th>          <td>-2.175e+06</td> <td> 7.21e+04</td> <td>  -30.182</td> <td> 0.000</td> <td>-2.32e+06</td> <td>-2.03e+06</td>\n",
       "</tr>\n",
       "<tr>\n",
       "  <th>bedrooms_8</th>          <td>-2.099e+06</td> <td> 8.06e+04</td> <td>  -26.058</td> <td> 0.000</td> <td>-2.26e+06</td> <td>-1.94e+06</td>\n",
       "</tr>\n",
       "<tr>\n",
       "  <th>grade_10_Very_Good</th>  <td>-1.538e+06</td> <td> 5.78e+04</td> <td>  -26.602</td> <td> 0.000</td> <td>-1.65e+06</td> <td>-1.42e+06</td>\n",
       "</tr>\n",
       "<tr>\n",
       "  <th>grade_11_Excellent</th>  <td>-1.475e+06</td> <td>  5.9e+04</td> <td>  -25.014</td> <td> 0.000</td> <td>-1.59e+06</td> <td>-1.36e+06</td>\n",
       "</tr>\n",
       "<tr>\n",
       "  <th>grade_12_Luxury</th>     <td>-1.462e+06</td> <td> 1.26e+05</td> <td>  -11.585</td> <td> 0.000</td> <td>-1.71e+06</td> <td>-1.21e+06</td>\n",
       "</tr>\n",
       "<tr>\n",
       "  <th>grade_3_Poor</th>        <td>-1.826e+06</td> <td> 1.24e+05</td> <td>  -14.672</td> <td> 0.000</td> <td>-2.07e+06</td> <td>-1.58e+06</td>\n",
       "</tr>\n",
       "<tr>\n",
       "  <th>grade_4_Low</th>         <td>-1.979e+06</td> <td> 6.14e+04</td> <td>  -32.204</td> <td> 0.000</td> <td> -2.1e+06</td> <td>-1.86e+06</td>\n",
       "</tr>\n",
       "<tr>\n",
       "  <th>grade_5_Fair</th>        <td>-1.969e+06</td> <td> 5.77e+04</td> <td>  -34.101</td> <td> 0.000</td> <td>-2.08e+06</td> <td>-1.86e+06</td>\n",
       "</tr>\n",
       "<tr>\n",
       "  <th>grade_6_Low_Average</th> <td>-1.947e+06</td> <td> 5.79e+04</td> <td>  -33.626</td> <td> 0.000</td> <td>-2.06e+06</td> <td>-1.83e+06</td>\n",
       "</tr>\n",
       "<tr>\n",
       "  <th>grade_7_Average</th>     <td>-1.877e+06</td> <td>  5.8e+04</td> <td>  -32.354</td> <td> 0.000</td> <td>-1.99e+06</td> <td>-1.76e+06</td>\n",
       "</tr>\n",
       "<tr>\n",
       "  <th>grade_8_Good</th>        <td>-1.774e+06</td> <td> 5.81e+04</td> <td>  -30.558</td> <td> 0.000</td> <td>-1.89e+06</td> <td>-1.66e+06</td>\n",
       "</tr>\n",
       "<tr>\n",
       "  <th>grade_9_Better</th>      <td>-1.635e+06</td> <td> 5.79e+04</td> <td>  -28.222</td> <td> 0.000</td> <td>-1.75e+06</td> <td>-1.52e+06</td>\n",
       "</tr>\n",
       "</table>\n",
       "<table class=\"simpletable\">\n",
       "<tr>\n",
       "  <th>Omnibus:</th>       <td>1602.049</td> <th>  Durbin-Watson:     </th> <td>   1.989</td>\n",
       "</tr>\n",
       "<tr>\n",
       "  <th>Prob(Omnibus):</th>  <td> 0.000</td>  <th>  Jarque-Bera (JB):  </th> <td>2437.116</td>\n",
       "</tr>\n",
       "<tr>\n",
       "  <th>Skew:</th>           <td> 0.691</td>  <th>  Prob(JB):          </th> <td>    0.00</td>\n",
       "</tr>\n",
       "<tr>\n",
       "  <th>Kurtosis:</th>       <td> 4.167</td>  <th>  Cond. No.          </th> <td>1.00e+16</td>\n",
       "</tr>\n",
       "</table><br/><br/>Notes:<br/>[1] Standard Errors assume that the covariance matrix of the errors is correctly specified.<br/>[2] The smallest eigenvalue is 3.07e-24. This might indicate that there are<br/>strong multicollinearity problems or that the design matrix is singular."
      ],
      "text/plain": [
       "<class 'statsmodels.iolib.summary.Summary'>\n",
       "\"\"\"\n",
       "                            OLS Regression Results                            \n",
       "==============================================================================\n",
       "Dep. Variable:                  price   R-squared:                       0.607\n",
       "Model:                            OLS   Adj. R-squared:                  0.606\n",
       "Method:                 Least Squares   F-statistic:                     551.3\n",
       "Date:                Mon, 16 May 2022   Prob (F-statistic):               0.00\n",
       "Time:                        22:03:27   Log-Likelihood:            -2.3472e+05\n",
       "No. Observations:               17872   AIC:                         4.695e+05\n",
       "Df Residuals:                   17821   BIC:                         4.699e+05\n",
       "Df Model:                          50                                         \n",
       "Covariance Type:            nonrobust                                         \n",
       "=======================================================================================\n",
       "                          coef    std err          t      P>|t|      [0.025      0.975]\n",
       "---------------------------------------------------------------------------------------\n",
       "Intercept           -1.748e+07   5.48e+05    -31.904      0.000   -1.86e+07   -1.64e+07\n",
       "lat                  5.587e+05   6702.293     83.367      0.000    5.46e+05    5.72e+05\n",
       "long                -2.106e+04   7075.031     -2.976      0.003   -3.49e+04   -7187.266\n",
       "floors_1_0          -2.916e+06   9.14e+04    -31.912      0.000    -3.1e+06   -2.74e+06\n",
       "floors_1_5          -2.852e+06   9.17e+04    -31.091      0.000   -3.03e+06   -2.67e+06\n",
       "floors_2_0          -2.915e+06   9.11e+04    -31.989      0.000   -3.09e+06   -2.74e+06\n",
       "floors_2_5          -2.862e+06   9.22e+04    -31.037      0.000   -3.04e+06   -2.68e+06\n",
       "floors_3_0          -2.969e+06   9.24e+04    -32.119      0.000   -3.15e+06   -2.79e+06\n",
       "floors_3_5          -2.967e+06   1.03e+05    -28.806      0.000   -3.17e+06   -2.76e+06\n",
       "condition_Average   -3.518e+06    1.1e+05    -32.089      0.000   -3.73e+06    -3.3e+06\n",
       "condition_Fair      -3.531e+06    1.1e+05    -32.148      0.000   -3.75e+06   -3.32e+06\n",
       "condition_Good      -3.473e+06    1.1e+05    -31.686      0.000   -3.69e+06   -3.26e+06\n",
       "condition_Poor      -3.523e+06   1.12e+05    -31.511      0.000   -3.74e+06    -3.3e+06\n",
       "condition_Very_Good -3.437e+06    1.1e+05    -31.301      0.000   -3.65e+06   -3.22e+06\n",
       "bathrooms_0_5       -8.761e+05   6.47e+04    -13.550      0.000      -1e+06   -7.49e+05\n",
       "bathrooms_0_75      -7.897e+05   3.09e+04    -25.594      0.000    -8.5e+05   -7.29e+05\n",
       "bathrooms_1_0       -8.009e+05   2.69e+04    -29.825      0.000   -8.53e+05   -7.48e+05\n",
       "bathrooms_1_25      -8.478e+05    5.5e+04    -15.420      0.000   -9.56e+05    -7.4e+05\n",
       "bathrooms_1_5       -7.875e+05   2.68e+04    -29.375      0.000    -8.4e+05   -7.35e+05\n",
       "bathrooms_1_75      -7.632e+05   2.66e+04    -28.679      0.000   -8.15e+05   -7.11e+05\n",
       "bathrooms_2_0       -7.605e+05   2.66e+04    -28.543      0.000   -8.13e+05   -7.08e+05\n",
       "bathrooms_2_25      -7.595e+05   2.65e+04    -28.639      0.000   -8.12e+05   -7.08e+05\n",
       "bathrooms_2_5        -7.52e+05   2.62e+04    -28.655      0.000   -8.03e+05   -7.01e+05\n",
       "bathrooms_2_75      -7.224e+05   2.66e+04    -27.193      0.000   -7.75e+05    -6.7e+05\n",
       "bathrooms_3_0       -7.241e+05   2.69e+04    -26.876      0.000   -7.77e+05   -6.71e+05\n",
       "bathrooms_3_25      -6.989e+05   2.72e+04    -25.738      0.000   -7.52e+05   -6.46e+05\n",
       "bathrooms_3_5       -6.828e+05    2.7e+04    -25.336      0.000   -7.36e+05    -6.3e+05\n",
       "bathrooms_3_75      -6.425e+05   3.05e+04    -21.086      0.000   -7.02e+05   -5.83e+05\n",
       "bathrooms_4_0       -6.723e+05   3.11e+04    -21.617      0.000   -7.33e+05   -6.11e+05\n",
       "bathrooms_4_25      -5.983e+05   3.52e+04    -16.999      0.000   -6.67e+05   -5.29e+05\n",
       "bathrooms_4_5       -6.708e+05   3.24e+04    -20.724      0.000   -7.34e+05   -6.07e+05\n",
       "bathrooms_4_75      -6.288e+05   6.43e+04     -9.780      0.000   -7.55e+05   -5.03e+05\n",
       "bathrooms_5_0       -7.546e+05   5.97e+04    -12.649      0.000   -8.72e+05   -6.38e+05\n",
       "bathrooms_5_25      -6.585e+05   8.76e+04     -7.515      0.000    -8.3e+05   -4.87e+05\n",
       "bathrooms_5_5       -6.329e+05   1.21e+05     -5.243      0.000    -8.7e+05   -3.96e+05\n",
       "bathrooms_5_75      -8.462e+05   1.22e+05     -6.911      0.000   -1.09e+06   -6.06e+05\n",
       "bathrooms_6_0       -6.772e+05    1.7e+05     -3.993      0.000   -1.01e+06   -3.45e+05\n",
       "bathrooms_6_75      -7.337e+05   1.23e+05     -5.956      0.000   -9.75e+05   -4.92e+05\n",
       "bedrooms_1          -2.234e+06   6.94e+04    -32.176      0.000   -2.37e+06    -2.1e+06\n",
       "bedrooms_2          -2.215e+06    6.9e+04    -32.115      0.000   -2.35e+06   -2.08e+06\n",
       "bedrooms_3          -2.221e+06   6.86e+04    -32.401      0.000   -2.36e+06   -2.09e+06\n",
       "bedrooms_4          -2.195e+06   6.86e+04    -32.013      0.000   -2.33e+06   -2.06e+06\n",
       "bedrooms_5          -2.184e+06   6.87e+04    -31.802      0.000   -2.32e+06   -2.05e+06\n",
       "bedrooms_6          -2.158e+06   6.93e+04    -31.126      0.000   -2.29e+06   -2.02e+06\n",
       "bedrooms_7          -2.175e+06   7.21e+04    -30.182      0.000   -2.32e+06   -2.03e+06\n",
       "bedrooms_8          -2.099e+06   8.06e+04    -26.058      0.000   -2.26e+06   -1.94e+06\n",
       "grade_10_Very_Good  -1.538e+06   5.78e+04    -26.602      0.000   -1.65e+06   -1.42e+06\n",
       "grade_11_Excellent  -1.475e+06    5.9e+04    -25.014      0.000   -1.59e+06   -1.36e+06\n",
       "grade_12_Luxury     -1.462e+06   1.26e+05    -11.585      0.000   -1.71e+06   -1.21e+06\n",
       "grade_3_Poor        -1.826e+06   1.24e+05    -14.672      0.000   -2.07e+06   -1.58e+06\n",
       "grade_4_Low         -1.979e+06   6.14e+04    -32.204      0.000    -2.1e+06   -1.86e+06\n",
       "grade_5_Fair        -1.969e+06   5.77e+04    -34.101      0.000   -2.08e+06   -1.86e+06\n",
       "grade_6_Low_Average -1.947e+06   5.79e+04    -33.626      0.000   -2.06e+06   -1.83e+06\n",
       "grade_7_Average     -1.877e+06    5.8e+04    -32.354      0.000   -1.99e+06   -1.76e+06\n",
       "grade_8_Good        -1.774e+06   5.81e+04    -30.558      0.000   -1.89e+06   -1.66e+06\n",
       "grade_9_Better      -1.635e+06   5.79e+04    -28.222      0.000   -1.75e+06   -1.52e+06\n",
       "==============================================================================\n",
       "Omnibus:                     1602.049   Durbin-Watson:                   1.989\n",
       "Prob(Omnibus):                  0.000   Jarque-Bera (JB):             2437.116\n",
       "Skew:                           0.691   Prob(JB):                         0.00\n",
       "Kurtosis:                       4.167   Cond. No.                     1.00e+16\n",
       "==============================================================================\n",
       "\n",
       "Notes:\n",
       "[1] Standard Errors assume that the covariance matrix of the errors is correctly specified.\n",
       "[2] The smallest eigenvalue is 3.07e-24. This might indicate that there are\n",
       "strong multicollinearity problems or that the design matrix is singular.\n",
       "\"\"\""
      ]
     },
     "execution_count": 775,
     "metadata": {},
     "output_type": "execute_result"
    }
   ],
   "source": [
    "\n",
    "#bedrooms\n",
    "#change x_cols for intial refinement model \n",
    "#Add floors, removed bedrooms from the 6, its 5 with floors. -5 \n",
    "outcome = 'price'\n",
    "predictors = '+'.join(x_cols)\n",
    "formula = outcome + '~' + predictors \n",
    "model = ols(formula=formula, data=df_categorical_cleaned).fit()\n",
    "model.summary()"
   ]
  },
  {
   "cell_type": "markdown",
   "metadata": {},
   "source": [
    "## Checking for Mulitcollinearity for initial model "
   ]
  },
  {
   "cell_type": "code",
   "execution_count": 777,
   "metadata": {
    "ExecuteTime": {
     "end_time": "2022-05-17T05:03:34.208737Z",
     "start_time": "2022-05-17T05:03:34.203675Z"
    }
   },
   "outputs": [],
   "source": [
    "from statsmodels.stats.outliers_influence import variance_inflation_factor "
   ]
  },
  {
   "cell_type": "code",
   "execution_count": 778,
   "metadata": {
    "ExecuteTime": {
     "end_time": "2022-05-17T05:03:37.867136Z",
     "start_time": "2022-05-17T05:03:34.215994Z"
    }
   },
   "outputs": [
    {
     "data": {
      "text/plain": [
       "[('lat', 1.0770947552017036),\n",
       " ('long', 1.2109918250797451),\n",
       " ('floors_1_0', inf),\n",
       " ('floors_1_5', inf),\n",
       " ('floors_2_0', inf),\n",
       " ('floors_2_5', inf),\n",
       " ('floors_3_0', inf),\n",
       " ('floors_3_5', inf),\n",
       " ('condition_Average', inf),\n",
       " ('condition_Fair', inf),\n",
       " ('condition_Good', inf),\n",
       " ('condition_Poor', inf),\n",
       " ('condition_Very_Good', inf),\n",
       " ('bathrooms_0_5', inf),\n",
       " ('bathrooms_0_75', inf),\n",
       " ('bathrooms_1_0', inf),\n",
       " ('bathrooms_1_25', inf),\n",
       " ('bathrooms_1_5', inf),\n",
       " ('bathrooms_1_75', inf),\n",
       " ('bathrooms_2_0', inf),\n",
       " ('bathrooms_2_25', inf),\n",
       " ('bathrooms_2_5', inf),\n",
       " ('bathrooms_2_75', inf),\n",
       " ('bathrooms_3_0', inf),\n",
       " ('bathrooms_3_25', inf),\n",
       " ('bathrooms_3_5', inf),\n",
       " ('bathrooms_3_75', inf),\n",
       " ('bathrooms_4_0', inf),\n",
       " ('bathrooms_4_25', inf),\n",
       " ('bathrooms_4_5', inf),\n",
       " ('bathrooms_4_75', inf),\n",
       " ('bathrooms_5_0', inf),\n",
       " ('bathrooms_5_25', inf),\n",
       " ('bathrooms_5_5', inf),\n",
       " ('bathrooms_5_75', inf),\n",
       " ('bathrooms_6_0', inf),\n",
       " ('bathrooms_6_75', inf),\n",
       " ('bedrooms_1', inf),\n",
       " ('bedrooms_2', inf),\n",
       " ('bedrooms_3', inf),\n",
       " ('bedrooms_4', inf),\n",
       " ('bedrooms_5', inf),\n",
       " ('bedrooms_6', inf),\n",
       " ('bedrooms_7', inf),\n",
       " ('bedrooms_8', inf),\n",
       " ('grade_10_Very_Good', inf),\n",
       " ('grade_11_Excellent', inf),\n",
       " ('grade_12_Luxury', inf),\n",
       " ('grade_3_Poor', inf),\n",
       " ('grade_4_Low', inf),\n",
       " ('grade_5_Fair', inf),\n",
       " ('grade_6_Low_Average', inf),\n",
       " ('grade_7_Average', inf),\n",
       " ('grade_8_Good', inf),\n",
       " ('grade_9_Better', inf)]"
      ]
     },
     "execution_count": 778,
     "metadata": {},
     "output_type": "execute_result"
    }
   ],
   "source": [
    "X = df_categorical_cleaned[x_cols]\n",
    "vif = [variance_inflation_factor(X.values,i) for i in range(X.shape[1])]\n",
    "list(zip(X, vif))"
   ]
  },
  {
   "cell_type": "code",
   "execution_count": 781,
   "metadata": {
    "ExecuteTime": {
     "end_time": "2022-05-17T05:03:41.070345Z",
     "start_time": "2022-05-17T05:03:41.063812Z"
    }
   },
   "outputs": [
    {
     "data": {
      "text/plain": [
       "['lat', 'long']"
      ]
     },
     "execution_count": 781,
     "metadata": {},
     "output_type": "execute_result"
    }
   ],
   "source": [
    "def varianceCheck(variance_inflation):\n",
    "    cols = []\n",
    "    for col, val in variance_inflation:\n",
    "        if val < 10:\n",
    "            cols.append(col)\n",
    "    return cols\n",
    "\n",
    "x_cols_variance = varianceCheck(list(zip(x_cols, vif)))\n",
    "#change for the original one \n",
    "x_cols_variance"
   ]
  },
  {
   "cell_type": "code",
   "execution_count": 782,
   "metadata": {
    "ExecuteTime": {
     "end_time": "2022-05-17T05:03:42.747853Z",
     "start_time": "2022-05-17T05:03:42.576952Z"
    }
   },
   "outputs": [
    {
     "data": {
      "text/html": [
       "<table class=\"simpletable\">\n",
       "<caption>OLS Regression Results</caption>\n",
       "<tr>\n",
       "  <th>Dep. Variable:</th>          <td>price</td>      <th>  R-squared:         </th>  <td>   0.607</td>  \n",
       "</tr>\n",
       "<tr>\n",
       "  <th>Model:</th>                   <td>OLS</td>       <th>  Adj. R-squared:    </th>  <td>   0.606</td>  \n",
       "</tr>\n",
       "<tr>\n",
       "  <th>Method:</th>             <td>Least Squares</td>  <th>  F-statistic:       </th>  <td>   551.3</td>  \n",
       "</tr>\n",
       "<tr>\n",
       "  <th>Date:</th>             <td>Mon, 16 May 2022</td> <th>  Prob (F-statistic):</th>   <td>  0.00</td>   \n",
       "</tr>\n",
       "<tr>\n",
       "  <th>Time:</th>                 <td>22:03:42</td>     <th>  Log-Likelihood:    </th> <td>-2.3472e+05</td>\n",
       "</tr>\n",
       "<tr>\n",
       "  <th>No. Observations:</th>      <td> 17872</td>      <th>  AIC:               </th>  <td>4.695e+05</td> \n",
       "</tr>\n",
       "<tr>\n",
       "  <th>Df Residuals:</th>          <td> 17821</td>      <th>  BIC:               </th>  <td>4.699e+05</td> \n",
       "</tr>\n",
       "<tr>\n",
       "  <th>Df Model:</th>              <td>    50</td>      <th>                     </th>      <td> </td>     \n",
       "</tr>\n",
       "<tr>\n",
       "  <th>Covariance Type:</th>      <td>nonrobust</td>    <th>                     </th>      <td> </td>     \n",
       "</tr>\n",
       "</table>\n",
       "<table class=\"simpletable\">\n",
       "<tr>\n",
       "           <td></td>              <th>coef</th>     <th>std err</th>      <th>t</th>      <th>P>|t|</th>  <th>[0.025</th>    <th>0.975]</th>  \n",
       "</tr>\n",
       "<tr>\n",
       "  <th>Intercept</th>           <td>-1.748e+07</td> <td> 5.48e+05</td> <td>  -31.904</td> <td> 0.000</td> <td>-1.86e+07</td> <td>-1.64e+07</td>\n",
       "</tr>\n",
       "<tr>\n",
       "  <th>lat</th>                 <td> 5.587e+05</td> <td> 6702.293</td> <td>   83.367</td> <td> 0.000</td> <td> 5.46e+05</td> <td> 5.72e+05</td>\n",
       "</tr>\n",
       "<tr>\n",
       "  <th>long</th>                <td>-2.106e+04</td> <td> 7075.031</td> <td>   -2.976</td> <td> 0.003</td> <td>-3.49e+04</td> <td>-7187.266</td>\n",
       "</tr>\n",
       "<tr>\n",
       "  <th>floors_1_0</th>          <td>-2.916e+06</td> <td> 9.14e+04</td> <td>  -31.912</td> <td> 0.000</td> <td> -3.1e+06</td> <td>-2.74e+06</td>\n",
       "</tr>\n",
       "<tr>\n",
       "  <th>floors_1_5</th>          <td>-2.852e+06</td> <td> 9.17e+04</td> <td>  -31.091</td> <td> 0.000</td> <td>-3.03e+06</td> <td>-2.67e+06</td>\n",
       "</tr>\n",
       "<tr>\n",
       "  <th>floors_2_0</th>          <td>-2.915e+06</td> <td> 9.11e+04</td> <td>  -31.989</td> <td> 0.000</td> <td>-3.09e+06</td> <td>-2.74e+06</td>\n",
       "</tr>\n",
       "<tr>\n",
       "  <th>floors_2_5</th>          <td>-2.862e+06</td> <td> 9.22e+04</td> <td>  -31.037</td> <td> 0.000</td> <td>-3.04e+06</td> <td>-2.68e+06</td>\n",
       "</tr>\n",
       "<tr>\n",
       "  <th>floors_3_0</th>          <td>-2.969e+06</td> <td> 9.24e+04</td> <td>  -32.119</td> <td> 0.000</td> <td>-3.15e+06</td> <td>-2.79e+06</td>\n",
       "</tr>\n",
       "<tr>\n",
       "  <th>floors_3_5</th>          <td>-2.967e+06</td> <td> 1.03e+05</td> <td>  -28.806</td> <td> 0.000</td> <td>-3.17e+06</td> <td>-2.76e+06</td>\n",
       "</tr>\n",
       "<tr>\n",
       "  <th>condition_Average</th>   <td>-3.518e+06</td> <td>  1.1e+05</td> <td>  -32.089</td> <td> 0.000</td> <td>-3.73e+06</td> <td> -3.3e+06</td>\n",
       "</tr>\n",
       "<tr>\n",
       "  <th>condition_Fair</th>      <td>-3.531e+06</td> <td>  1.1e+05</td> <td>  -32.148</td> <td> 0.000</td> <td>-3.75e+06</td> <td>-3.32e+06</td>\n",
       "</tr>\n",
       "<tr>\n",
       "  <th>condition_Good</th>      <td>-3.473e+06</td> <td>  1.1e+05</td> <td>  -31.686</td> <td> 0.000</td> <td>-3.69e+06</td> <td>-3.26e+06</td>\n",
       "</tr>\n",
       "<tr>\n",
       "  <th>condition_Poor</th>      <td>-3.523e+06</td> <td> 1.12e+05</td> <td>  -31.511</td> <td> 0.000</td> <td>-3.74e+06</td> <td> -3.3e+06</td>\n",
       "</tr>\n",
       "<tr>\n",
       "  <th>condition_Very_Good</th> <td>-3.437e+06</td> <td>  1.1e+05</td> <td>  -31.301</td> <td> 0.000</td> <td>-3.65e+06</td> <td>-3.22e+06</td>\n",
       "</tr>\n",
       "<tr>\n",
       "  <th>bathrooms_0_5</th>       <td>-8.761e+05</td> <td> 6.47e+04</td> <td>  -13.550</td> <td> 0.000</td> <td>   -1e+06</td> <td>-7.49e+05</td>\n",
       "</tr>\n",
       "<tr>\n",
       "  <th>bathrooms_0_75</th>      <td>-7.897e+05</td> <td> 3.09e+04</td> <td>  -25.594</td> <td> 0.000</td> <td> -8.5e+05</td> <td>-7.29e+05</td>\n",
       "</tr>\n",
       "<tr>\n",
       "  <th>bathrooms_1_0</th>       <td>-8.009e+05</td> <td> 2.69e+04</td> <td>  -29.825</td> <td> 0.000</td> <td>-8.53e+05</td> <td>-7.48e+05</td>\n",
       "</tr>\n",
       "<tr>\n",
       "  <th>bathrooms_1_25</th>      <td>-8.478e+05</td> <td>  5.5e+04</td> <td>  -15.420</td> <td> 0.000</td> <td>-9.56e+05</td> <td> -7.4e+05</td>\n",
       "</tr>\n",
       "<tr>\n",
       "  <th>bathrooms_1_5</th>       <td>-7.875e+05</td> <td> 2.68e+04</td> <td>  -29.375</td> <td> 0.000</td> <td> -8.4e+05</td> <td>-7.35e+05</td>\n",
       "</tr>\n",
       "<tr>\n",
       "  <th>bathrooms_1_75</th>      <td>-7.632e+05</td> <td> 2.66e+04</td> <td>  -28.679</td> <td> 0.000</td> <td>-8.15e+05</td> <td>-7.11e+05</td>\n",
       "</tr>\n",
       "<tr>\n",
       "  <th>bathrooms_2_0</th>       <td>-7.605e+05</td> <td> 2.66e+04</td> <td>  -28.543</td> <td> 0.000</td> <td>-8.13e+05</td> <td>-7.08e+05</td>\n",
       "</tr>\n",
       "<tr>\n",
       "  <th>bathrooms_2_25</th>      <td>-7.595e+05</td> <td> 2.65e+04</td> <td>  -28.639</td> <td> 0.000</td> <td>-8.12e+05</td> <td>-7.08e+05</td>\n",
       "</tr>\n",
       "<tr>\n",
       "  <th>bathrooms_2_5</th>       <td> -7.52e+05</td> <td> 2.62e+04</td> <td>  -28.655</td> <td> 0.000</td> <td>-8.03e+05</td> <td>-7.01e+05</td>\n",
       "</tr>\n",
       "<tr>\n",
       "  <th>bathrooms_2_75</th>      <td>-7.224e+05</td> <td> 2.66e+04</td> <td>  -27.193</td> <td> 0.000</td> <td>-7.75e+05</td> <td> -6.7e+05</td>\n",
       "</tr>\n",
       "<tr>\n",
       "  <th>bathrooms_3_0</th>       <td>-7.241e+05</td> <td> 2.69e+04</td> <td>  -26.876</td> <td> 0.000</td> <td>-7.77e+05</td> <td>-6.71e+05</td>\n",
       "</tr>\n",
       "<tr>\n",
       "  <th>bathrooms_3_25</th>      <td>-6.989e+05</td> <td> 2.72e+04</td> <td>  -25.738</td> <td> 0.000</td> <td>-7.52e+05</td> <td>-6.46e+05</td>\n",
       "</tr>\n",
       "<tr>\n",
       "  <th>bathrooms_3_5</th>       <td>-6.828e+05</td> <td>  2.7e+04</td> <td>  -25.336</td> <td> 0.000</td> <td>-7.36e+05</td> <td> -6.3e+05</td>\n",
       "</tr>\n",
       "<tr>\n",
       "  <th>bathrooms_3_75</th>      <td>-6.425e+05</td> <td> 3.05e+04</td> <td>  -21.086</td> <td> 0.000</td> <td>-7.02e+05</td> <td>-5.83e+05</td>\n",
       "</tr>\n",
       "<tr>\n",
       "  <th>bathrooms_4_0</th>       <td>-6.723e+05</td> <td> 3.11e+04</td> <td>  -21.617</td> <td> 0.000</td> <td>-7.33e+05</td> <td>-6.11e+05</td>\n",
       "</tr>\n",
       "<tr>\n",
       "  <th>bathrooms_4_25</th>      <td>-5.983e+05</td> <td> 3.52e+04</td> <td>  -16.999</td> <td> 0.000</td> <td>-6.67e+05</td> <td>-5.29e+05</td>\n",
       "</tr>\n",
       "<tr>\n",
       "  <th>bathrooms_4_5</th>       <td>-6.708e+05</td> <td> 3.24e+04</td> <td>  -20.724</td> <td> 0.000</td> <td>-7.34e+05</td> <td>-6.07e+05</td>\n",
       "</tr>\n",
       "<tr>\n",
       "  <th>bathrooms_4_75</th>      <td>-6.288e+05</td> <td> 6.43e+04</td> <td>   -9.780</td> <td> 0.000</td> <td>-7.55e+05</td> <td>-5.03e+05</td>\n",
       "</tr>\n",
       "<tr>\n",
       "  <th>bathrooms_5_0</th>       <td>-7.546e+05</td> <td> 5.97e+04</td> <td>  -12.649</td> <td> 0.000</td> <td>-8.72e+05</td> <td>-6.38e+05</td>\n",
       "</tr>\n",
       "<tr>\n",
       "  <th>bathrooms_5_25</th>      <td>-6.585e+05</td> <td> 8.76e+04</td> <td>   -7.515</td> <td> 0.000</td> <td> -8.3e+05</td> <td>-4.87e+05</td>\n",
       "</tr>\n",
       "<tr>\n",
       "  <th>bathrooms_5_5</th>       <td>-6.329e+05</td> <td> 1.21e+05</td> <td>   -5.243</td> <td> 0.000</td> <td> -8.7e+05</td> <td>-3.96e+05</td>\n",
       "</tr>\n",
       "<tr>\n",
       "  <th>bathrooms_5_75</th>      <td>-8.462e+05</td> <td> 1.22e+05</td> <td>   -6.911</td> <td> 0.000</td> <td>-1.09e+06</td> <td>-6.06e+05</td>\n",
       "</tr>\n",
       "<tr>\n",
       "  <th>bathrooms_6_0</th>       <td>-6.772e+05</td> <td>  1.7e+05</td> <td>   -3.993</td> <td> 0.000</td> <td>-1.01e+06</td> <td>-3.45e+05</td>\n",
       "</tr>\n",
       "<tr>\n",
       "  <th>bathrooms_6_75</th>      <td>-7.337e+05</td> <td> 1.23e+05</td> <td>   -5.956</td> <td> 0.000</td> <td>-9.75e+05</td> <td>-4.92e+05</td>\n",
       "</tr>\n",
       "<tr>\n",
       "  <th>bedrooms_1</th>          <td>-2.234e+06</td> <td> 6.94e+04</td> <td>  -32.176</td> <td> 0.000</td> <td>-2.37e+06</td> <td> -2.1e+06</td>\n",
       "</tr>\n",
       "<tr>\n",
       "  <th>bedrooms_2</th>          <td>-2.215e+06</td> <td>  6.9e+04</td> <td>  -32.115</td> <td> 0.000</td> <td>-2.35e+06</td> <td>-2.08e+06</td>\n",
       "</tr>\n",
       "<tr>\n",
       "  <th>bedrooms_3</th>          <td>-2.221e+06</td> <td> 6.86e+04</td> <td>  -32.401</td> <td> 0.000</td> <td>-2.36e+06</td> <td>-2.09e+06</td>\n",
       "</tr>\n",
       "<tr>\n",
       "  <th>bedrooms_4</th>          <td>-2.195e+06</td> <td> 6.86e+04</td> <td>  -32.013</td> <td> 0.000</td> <td>-2.33e+06</td> <td>-2.06e+06</td>\n",
       "</tr>\n",
       "<tr>\n",
       "  <th>bedrooms_5</th>          <td>-2.184e+06</td> <td> 6.87e+04</td> <td>  -31.802</td> <td> 0.000</td> <td>-2.32e+06</td> <td>-2.05e+06</td>\n",
       "</tr>\n",
       "<tr>\n",
       "  <th>bedrooms_6</th>          <td>-2.158e+06</td> <td> 6.93e+04</td> <td>  -31.126</td> <td> 0.000</td> <td>-2.29e+06</td> <td>-2.02e+06</td>\n",
       "</tr>\n",
       "<tr>\n",
       "  <th>bedrooms_7</th>          <td>-2.175e+06</td> <td> 7.21e+04</td> <td>  -30.182</td> <td> 0.000</td> <td>-2.32e+06</td> <td>-2.03e+06</td>\n",
       "</tr>\n",
       "<tr>\n",
       "  <th>bedrooms_8</th>          <td>-2.099e+06</td> <td> 8.06e+04</td> <td>  -26.058</td> <td> 0.000</td> <td>-2.26e+06</td> <td>-1.94e+06</td>\n",
       "</tr>\n",
       "<tr>\n",
       "  <th>grade_10_Very_Good</th>  <td>-1.538e+06</td> <td> 5.78e+04</td> <td>  -26.602</td> <td> 0.000</td> <td>-1.65e+06</td> <td>-1.42e+06</td>\n",
       "</tr>\n",
       "<tr>\n",
       "  <th>grade_11_Excellent</th>  <td>-1.475e+06</td> <td>  5.9e+04</td> <td>  -25.014</td> <td> 0.000</td> <td>-1.59e+06</td> <td>-1.36e+06</td>\n",
       "</tr>\n",
       "<tr>\n",
       "  <th>grade_12_Luxury</th>     <td>-1.462e+06</td> <td> 1.26e+05</td> <td>  -11.585</td> <td> 0.000</td> <td>-1.71e+06</td> <td>-1.21e+06</td>\n",
       "</tr>\n",
       "<tr>\n",
       "  <th>grade_3_Poor</th>        <td>-1.826e+06</td> <td> 1.24e+05</td> <td>  -14.672</td> <td> 0.000</td> <td>-2.07e+06</td> <td>-1.58e+06</td>\n",
       "</tr>\n",
       "<tr>\n",
       "  <th>grade_4_Low</th>         <td>-1.979e+06</td> <td> 6.14e+04</td> <td>  -32.204</td> <td> 0.000</td> <td> -2.1e+06</td> <td>-1.86e+06</td>\n",
       "</tr>\n",
       "<tr>\n",
       "  <th>grade_5_Fair</th>        <td>-1.969e+06</td> <td> 5.77e+04</td> <td>  -34.101</td> <td> 0.000</td> <td>-2.08e+06</td> <td>-1.86e+06</td>\n",
       "</tr>\n",
       "<tr>\n",
       "  <th>grade_6_Low_Average</th> <td>-1.947e+06</td> <td> 5.79e+04</td> <td>  -33.626</td> <td> 0.000</td> <td>-2.06e+06</td> <td>-1.83e+06</td>\n",
       "</tr>\n",
       "<tr>\n",
       "  <th>grade_7_Average</th>     <td>-1.877e+06</td> <td>  5.8e+04</td> <td>  -32.354</td> <td> 0.000</td> <td>-1.99e+06</td> <td>-1.76e+06</td>\n",
       "</tr>\n",
       "<tr>\n",
       "  <th>grade_8_Good</th>        <td>-1.774e+06</td> <td> 5.81e+04</td> <td>  -30.558</td> <td> 0.000</td> <td>-1.89e+06</td> <td>-1.66e+06</td>\n",
       "</tr>\n",
       "<tr>\n",
       "  <th>grade_9_Better</th>      <td>-1.635e+06</td> <td> 5.79e+04</td> <td>  -28.222</td> <td> 0.000</td> <td>-1.75e+06</td> <td>-1.52e+06</td>\n",
       "</tr>\n",
       "</table>\n",
       "<table class=\"simpletable\">\n",
       "<tr>\n",
       "  <th>Omnibus:</th>       <td>1602.049</td> <th>  Durbin-Watson:     </th> <td>   1.989</td>\n",
       "</tr>\n",
       "<tr>\n",
       "  <th>Prob(Omnibus):</th>  <td> 0.000</td>  <th>  Jarque-Bera (JB):  </th> <td>2437.116</td>\n",
       "</tr>\n",
       "<tr>\n",
       "  <th>Skew:</th>           <td> 0.691</td>  <th>  Prob(JB):          </th> <td>    0.00</td>\n",
       "</tr>\n",
       "<tr>\n",
       "  <th>Kurtosis:</th>       <td> 4.167</td>  <th>  Cond. No.          </th> <td>1.00e+16</td>\n",
       "</tr>\n",
       "</table><br/><br/>Notes:<br/>[1] Standard Errors assume that the covariance matrix of the errors is correctly specified.<br/>[2] The smallest eigenvalue is 3.07e-24. This might indicate that there are<br/>strong multicollinearity problems or that the design matrix is singular."
      ],
      "text/plain": [
       "<class 'statsmodels.iolib.summary.Summary'>\n",
       "\"\"\"\n",
       "                            OLS Regression Results                            \n",
       "==============================================================================\n",
       "Dep. Variable:                  price   R-squared:                       0.607\n",
       "Model:                            OLS   Adj. R-squared:                  0.606\n",
       "Method:                 Least Squares   F-statistic:                     551.3\n",
       "Date:                Mon, 16 May 2022   Prob (F-statistic):               0.00\n",
       "Time:                        22:03:42   Log-Likelihood:            -2.3472e+05\n",
       "No. Observations:               17872   AIC:                         4.695e+05\n",
       "Df Residuals:                   17821   BIC:                         4.699e+05\n",
       "Df Model:                          50                                         \n",
       "Covariance Type:            nonrobust                                         \n",
       "=======================================================================================\n",
       "                          coef    std err          t      P>|t|      [0.025      0.975]\n",
       "---------------------------------------------------------------------------------------\n",
       "Intercept           -1.748e+07   5.48e+05    -31.904      0.000   -1.86e+07   -1.64e+07\n",
       "lat                  5.587e+05   6702.293     83.367      0.000    5.46e+05    5.72e+05\n",
       "long                -2.106e+04   7075.031     -2.976      0.003   -3.49e+04   -7187.266\n",
       "floors_1_0          -2.916e+06   9.14e+04    -31.912      0.000    -3.1e+06   -2.74e+06\n",
       "floors_1_5          -2.852e+06   9.17e+04    -31.091      0.000   -3.03e+06   -2.67e+06\n",
       "floors_2_0          -2.915e+06   9.11e+04    -31.989      0.000   -3.09e+06   -2.74e+06\n",
       "floors_2_5          -2.862e+06   9.22e+04    -31.037      0.000   -3.04e+06   -2.68e+06\n",
       "floors_3_0          -2.969e+06   9.24e+04    -32.119      0.000   -3.15e+06   -2.79e+06\n",
       "floors_3_5          -2.967e+06   1.03e+05    -28.806      0.000   -3.17e+06   -2.76e+06\n",
       "condition_Average   -3.518e+06    1.1e+05    -32.089      0.000   -3.73e+06    -3.3e+06\n",
       "condition_Fair      -3.531e+06    1.1e+05    -32.148      0.000   -3.75e+06   -3.32e+06\n",
       "condition_Good      -3.473e+06    1.1e+05    -31.686      0.000   -3.69e+06   -3.26e+06\n",
       "condition_Poor      -3.523e+06   1.12e+05    -31.511      0.000   -3.74e+06    -3.3e+06\n",
       "condition_Very_Good -3.437e+06    1.1e+05    -31.301      0.000   -3.65e+06   -3.22e+06\n",
       "bathrooms_0_5       -8.761e+05   6.47e+04    -13.550      0.000      -1e+06   -7.49e+05\n",
       "bathrooms_0_75      -7.897e+05   3.09e+04    -25.594      0.000    -8.5e+05   -7.29e+05\n",
       "bathrooms_1_0       -8.009e+05   2.69e+04    -29.825      0.000   -8.53e+05   -7.48e+05\n",
       "bathrooms_1_25      -8.478e+05    5.5e+04    -15.420      0.000   -9.56e+05    -7.4e+05\n",
       "bathrooms_1_5       -7.875e+05   2.68e+04    -29.375      0.000    -8.4e+05   -7.35e+05\n",
       "bathrooms_1_75      -7.632e+05   2.66e+04    -28.679      0.000   -8.15e+05   -7.11e+05\n",
       "bathrooms_2_0       -7.605e+05   2.66e+04    -28.543      0.000   -8.13e+05   -7.08e+05\n",
       "bathrooms_2_25      -7.595e+05   2.65e+04    -28.639      0.000   -8.12e+05   -7.08e+05\n",
       "bathrooms_2_5        -7.52e+05   2.62e+04    -28.655      0.000   -8.03e+05   -7.01e+05\n",
       "bathrooms_2_75      -7.224e+05   2.66e+04    -27.193      0.000   -7.75e+05    -6.7e+05\n",
       "bathrooms_3_0       -7.241e+05   2.69e+04    -26.876      0.000   -7.77e+05   -6.71e+05\n",
       "bathrooms_3_25      -6.989e+05   2.72e+04    -25.738      0.000   -7.52e+05   -6.46e+05\n",
       "bathrooms_3_5       -6.828e+05    2.7e+04    -25.336      0.000   -7.36e+05    -6.3e+05\n",
       "bathrooms_3_75      -6.425e+05   3.05e+04    -21.086      0.000   -7.02e+05   -5.83e+05\n",
       "bathrooms_4_0       -6.723e+05   3.11e+04    -21.617      0.000   -7.33e+05   -6.11e+05\n",
       "bathrooms_4_25      -5.983e+05   3.52e+04    -16.999      0.000   -6.67e+05   -5.29e+05\n",
       "bathrooms_4_5       -6.708e+05   3.24e+04    -20.724      0.000   -7.34e+05   -6.07e+05\n",
       "bathrooms_4_75      -6.288e+05   6.43e+04     -9.780      0.000   -7.55e+05   -5.03e+05\n",
       "bathrooms_5_0       -7.546e+05   5.97e+04    -12.649      0.000   -8.72e+05   -6.38e+05\n",
       "bathrooms_5_25      -6.585e+05   8.76e+04     -7.515      0.000    -8.3e+05   -4.87e+05\n",
       "bathrooms_5_5       -6.329e+05   1.21e+05     -5.243      0.000    -8.7e+05   -3.96e+05\n",
       "bathrooms_5_75      -8.462e+05   1.22e+05     -6.911      0.000   -1.09e+06   -6.06e+05\n",
       "bathrooms_6_0       -6.772e+05    1.7e+05     -3.993      0.000   -1.01e+06   -3.45e+05\n",
       "bathrooms_6_75      -7.337e+05   1.23e+05     -5.956      0.000   -9.75e+05   -4.92e+05\n",
       "bedrooms_1          -2.234e+06   6.94e+04    -32.176      0.000   -2.37e+06    -2.1e+06\n",
       "bedrooms_2          -2.215e+06    6.9e+04    -32.115      0.000   -2.35e+06   -2.08e+06\n",
       "bedrooms_3          -2.221e+06   6.86e+04    -32.401      0.000   -2.36e+06   -2.09e+06\n",
       "bedrooms_4          -2.195e+06   6.86e+04    -32.013      0.000   -2.33e+06   -2.06e+06\n",
       "bedrooms_5          -2.184e+06   6.87e+04    -31.802      0.000   -2.32e+06   -2.05e+06\n",
       "bedrooms_6          -2.158e+06   6.93e+04    -31.126      0.000   -2.29e+06   -2.02e+06\n",
       "bedrooms_7          -2.175e+06   7.21e+04    -30.182      0.000   -2.32e+06   -2.03e+06\n",
       "bedrooms_8          -2.099e+06   8.06e+04    -26.058      0.000   -2.26e+06   -1.94e+06\n",
       "grade_10_Very_Good  -1.538e+06   5.78e+04    -26.602      0.000   -1.65e+06   -1.42e+06\n",
       "grade_11_Excellent  -1.475e+06    5.9e+04    -25.014      0.000   -1.59e+06   -1.36e+06\n",
       "grade_12_Luxury     -1.462e+06   1.26e+05    -11.585      0.000   -1.71e+06   -1.21e+06\n",
       "grade_3_Poor        -1.826e+06   1.24e+05    -14.672      0.000   -2.07e+06   -1.58e+06\n",
       "grade_4_Low         -1.979e+06   6.14e+04    -32.204      0.000    -2.1e+06   -1.86e+06\n",
       "grade_5_Fair        -1.969e+06   5.77e+04    -34.101      0.000   -2.08e+06   -1.86e+06\n",
       "grade_6_Low_Average -1.947e+06   5.79e+04    -33.626      0.000   -2.06e+06   -1.83e+06\n",
       "grade_7_Average     -1.877e+06    5.8e+04    -32.354      0.000   -1.99e+06   -1.76e+06\n",
       "grade_8_Good        -1.774e+06   5.81e+04    -30.558      0.000   -1.89e+06   -1.66e+06\n",
       "grade_9_Better      -1.635e+06   5.79e+04    -28.222      0.000   -1.75e+06   -1.52e+06\n",
       "==============================================================================\n",
       "Omnibus:                     1602.049   Durbin-Watson:                   1.989\n",
       "Prob(Omnibus):                  0.000   Jarque-Bera (JB):             2437.116\n",
       "Skew:                           0.691   Prob(JB):                         0.00\n",
       "Kurtosis:                       4.167   Cond. No.                     1.00e+16\n",
       "==============================================================================\n",
       "\n",
       "Notes:\n",
       "[1] Standard Errors assume that the covariance matrix of the errors is correctly specified.\n",
       "[2] The smallest eigenvalue is 3.07e-24. This might indicate that there are\n",
       "strong multicollinearity problems or that the design matrix is singular.\n",
       "\"\"\""
      ]
     },
     "execution_count": 782,
     "metadata": {},
     "output_type": "execute_result"
    }
   ],
   "source": [
    "outcome = 'price'\n",
    "\n",
    "#Bedrooms, \n",
    "#change x_cols for refinement model \n",
    "\n",
    "predictors = '+'.join(x_cols)\n",
    "formula = outcome + '~' + predictors \n",
    "model = ols(formula=formula, data=df_categorical_cleaned).fit()\n",
    "model.summary()"
   ]
  },
  {
   "cell_type": "code",
   "execution_count": 783,
   "metadata": {
    "ExecuteTime": {
     "end_time": "2022-05-17T05:03:46.792208Z",
     "start_time": "2022-05-17T05:03:46.778970Z"
    }
   },
   "outputs": [
    {
     "data": {
      "text/plain": [
       "[('lat', 107030.05059729518), ('long', 107030.05059729518)]"
      ]
     },
     "execution_count": 783,
     "metadata": {},
     "output_type": "execute_result"
    }
   ],
   "source": [
    "X = df_categorical_cleaned[x_cols_variance]\n",
    "vif = [variance_inflation_factor(X.values,i) for i in range(X.shape[1])]\n",
    "list(zip(x_cols_variance, vif))\n",
    "#change for the new one "
   ]
  },
  {
   "cell_type": "code",
   "execution_count": 765,
   "metadata": {
    "ExecuteTime": {
     "end_time": "2022-05-17T05:00:44.577181Z",
     "start_time": "2022-05-17T05:00:44.539125Z"
    }
   },
   "outputs": [
    {
     "data": {
      "text/html": [
       "<table class=\"simpletable\">\n",
       "<caption>OLS Regression Results</caption>\n",
       "<tr>\n",
       "  <th>Dep. Variable:</th>          <td>price</td>      <th>  R-squared:         </th>  <td>   0.563</td>  \n",
       "</tr>\n",
       "<tr>\n",
       "  <th>Model:</th>                   <td>OLS</td>       <th>  Adj. R-squared:    </th>  <td>   0.562</td>  \n",
       "</tr>\n",
       "<tr>\n",
       "  <th>Method:</th>             <td>Least Squares</td>  <th>  F-statistic:       </th>  <td>   7658.</td>  \n",
       "</tr>\n",
       "<tr>\n",
       "  <th>Date:</th>             <td>Mon, 16 May 2022</td> <th>  Prob (F-statistic):</th>   <td>  0.00</td>   \n",
       "</tr>\n",
       "<tr>\n",
       "  <th>Time:</th>                 <td>22:00:44</td>     <th>  Log-Likelihood:    </th> <td>-2.3569e+05</td>\n",
       "</tr>\n",
       "<tr>\n",
       "  <th>No. Observations:</th>      <td> 17872</td>      <th>  AIC:               </th>  <td>4.714e+05</td> \n",
       "</tr>\n",
       "<tr>\n",
       "  <th>Df Residuals:</th>          <td> 17868</td>      <th>  BIC:               </th>  <td>4.714e+05</td> \n",
       "</tr>\n",
       "<tr>\n",
       "  <th>Df Model:</th>              <td>     3</td>      <th>                     </th>      <td> </td>     \n",
       "</tr>\n",
       "<tr>\n",
       "  <th>Covariance Type:</th>      <td>nonrobust</td>    <th>                     </th>      <td> </td>     \n",
       "</tr>\n",
       "</table>\n",
       "<table class=\"simpletable\">\n",
       "<tr>\n",
       "       <td></td>          <th>coef</th>     <th>std err</th>      <th>t</th>      <th>P>|t|</th>  <th>[0.025</th>    <th>0.975]</th>  \n",
       "</tr>\n",
       "<tr>\n",
       "  <th>Intercept</th>   <td>-3.507e+07</td> <td> 8.91e+05</td> <td>  -39.360</td> <td> 0.000</td> <td>-3.68e+07</td> <td>-3.33e+07</td>\n",
       "</tr>\n",
       "<tr>\n",
       "  <th>sqft_living</th> <td>  159.4060</td> <td>    1.341</td> <td>  118.870</td> <td> 0.000</td> <td>  156.778</td> <td>  162.035</td>\n",
       "</tr>\n",
       "<tr>\n",
       "  <th>lat</th>         <td> 6.019e+05</td> <td> 6873.677</td> <td>   87.566</td> <td> 0.000</td> <td> 5.88e+05</td> <td> 6.15e+05</td>\n",
       "</tr>\n",
       "<tr>\n",
       "  <th>long</th>        <td>-5.398e+04</td> <td> 7154.975</td> <td>   -7.544</td> <td> 0.000</td> <td> -6.8e+04</td> <td>   -4e+04</td>\n",
       "</tr>\n",
       "</table>\n",
       "<table class=\"simpletable\">\n",
       "<tr>\n",
       "  <th>Omnibus:</th>       <td>1125.764</td> <th>  Durbin-Watson:     </th> <td>   2.002</td>\n",
       "</tr>\n",
       "<tr>\n",
       "  <th>Prob(Omnibus):</th>  <td> 0.000</td>  <th>  Jarque-Bera (JB):  </th> <td>1522.783</td>\n",
       "</tr>\n",
       "<tr>\n",
       "  <th>Skew:</th>           <td> 0.571</td>  <th>  Prob(JB):          </th> <td>    0.00</td>\n",
       "</tr>\n",
       "<tr>\n",
       "  <th>Kurtosis:</th>       <td> 3.860</td>  <th>  Cond. No.          </th> <td>1.93e+06</td>\n",
       "</tr>\n",
       "</table><br/><br/>Notes:<br/>[1] Standard Errors assume that the covariance matrix of the errors is correctly specified.<br/>[2] The condition number is large, 1.93e+06. This might indicate that there are<br/>strong multicollinearity or other numerical problems."
      ],
      "text/plain": [
       "<class 'statsmodels.iolib.summary.Summary'>\n",
       "\"\"\"\n",
       "                            OLS Regression Results                            \n",
       "==============================================================================\n",
       "Dep. Variable:                  price   R-squared:                       0.563\n",
       "Model:                            OLS   Adj. R-squared:                  0.562\n",
       "Method:                 Least Squares   F-statistic:                     7658.\n",
       "Date:                Mon, 16 May 2022   Prob (F-statistic):               0.00\n",
       "Time:                        22:00:44   Log-Likelihood:            -2.3569e+05\n",
       "No. Observations:               17872   AIC:                         4.714e+05\n",
       "Df Residuals:                   17868   BIC:                         4.714e+05\n",
       "Df Model:                           3                                         \n",
       "Covariance Type:            nonrobust                                         \n",
       "===============================================================================\n",
       "                  coef    std err          t      P>|t|      [0.025      0.975]\n",
       "-------------------------------------------------------------------------------\n",
       "Intercept   -3.507e+07   8.91e+05    -39.360      0.000   -3.68e+07   -3.33e+07\n",
       "sqft_living   159.4060      1.341    118.870      0.000     156.778     162.035\n",
       "lat          6.019e+05   6873.677     87.566      0.000    5.88e+05    6.15e+05\n",
       "long        -5.398e+04   7154.975     -7.544      0.000    -6.8e+04      -4e+04\n",
       "==============================================================================\n",
       "Omnibus:                     1125.764   Durbin-Watson:                   2.002\n",
       "Prob(Omnibus):                  0.000   Jarque-Bera (JB):             1522.783\n",
       "Skew:                           0.571   Prob(JB):                         0.00\n",
       "Kurtosis:                       3.860   Cond. No.                     1.93e+06\n",
       "==============================================================================\n",
       "\n",
       "Notes:\n",
       "[1] Standard Errors assume that the covariance matrix of the errors is correctly specified.\n",
       "[2] The condition number is large, 1.93e+06. This might indicate that there are\n",
       "strong multicollinearity or other numerical problems.\n",
       "\"\"\""
      ]
     },
     "execution_count": 765,
     "metadata": {},
     "output_type": "execute_result"
    }
   ],
   "source": [
    "outcome = 'price'\n",
    "# x_cols = ['bathrooms','sqft_above','sqft_living','sqft_lot',\n",
    "#           'yr_built','floors_2_5',\n",
    "#           'floors_3_0','floors_1_0','floors_1_5', 'floors_2_0','floors_3_5']\n",
    "#change x_cols for refinement model 2 \n",
    "predictors = '+'.join(x_cols_variance)\n",
    "formula = outcome + '~' + predictors \n",
    "model = ols(formula=formula, data=df_categorical_cleaned).fit()\n",
    "model.summary()"
   ]
  },
  {
   "cell_type": "markdown",
   "metadata": {},
   "source": [
    "## Check for Normality "
   ]
  },
  {
   "cell_type": "code",
   "execution_count": 766,
   "metadata": {
    "ExecuteTime": {
     "end_time": "2022-05-17T05:00:47.541380Z",
     "start_time": "2022-05-17T05:00:47.536580Z"
    }
   },
   "outputs": [],
   "source": [
    "import statsmodels.api as sm \n",
    "import scipy.stats as stats "
   ]
  },
  {
   "cell_type": "code",
   "execution_count": 767,
   "metadata": {
    "ExecuteTime": {
     "end_time": "2022-05-17T05:00:48.730169Z",
     "start_time": "2022-05-17T05:00:48.589616Z"
    }
   },
   "outputs": [
    {
     "data": {
      "image/png": "[encoded data removed]",
      "text/plain": [
       "<Figure size 432x288 with 1 Axes>"
      ]
     },
     "metadata": {
      "needs_background": "light"
     },
     "output_type": "display_data"
    }
   ],
   "source": [
    "fig = sm.graphics.qqplot(model.resid, dist=stats.norm, line='45', fit=True )"
   ]
  },
  {
   "cell_type": "markdown",
   "metadata": {},
   "source": [
    "## Checking for Homoscedasticity "
   ]
  },
  {
   "cell_type": "code",
   "execution_count": 664,
   "metadata": {
    "ExecuteTime": {
     "end_time": "2022-05-17T04:48:30.784026Z",
     "start_time": "2022-05-17T04:48:30.763987Z"
    }
   },
   "outputs": [
    {
     "ename": "KeyError",
     "evalue": "\"None of [Index(['floors_1_0', 'floors_1_5', 'floors_2_0', 'floors_2_5', 'floors_3_0',\\n       'floors_3_5', 'condition_Average', 'condition_Fair', 'condition_Good',\\n       'condition_Poor', 'condition_Very_Good', 'bedrooms_1', 'bedrooms_2',\\n       'bedrooms_3', 'bedrooms_4', 'bedrooms_5', 'bedrooms_6', 'bedrooms_7',\\n       'bedrooms_8', 'bathrooms_0_5', 'bathrooms_0_75', 'bathrooms_1_0',\\n       'bathrooms_1_25', 'bathrooms_1_5', 'bathrooms_1_75', 'bathrooms_2_0',\\n       'bathrooms_2_25', 'bathrooms_2_5', 'bathrooms_2_75', 'bathrooms_3_0',\\n       'bathrooms_3_25', 'bathrooms_3_5', 'bathrooms_4_0', 'bathrooms_4_25',\\n       'bathrooms_4_75', 'bathrooms_5_0', 'bathrooms_5_25', 'bathrooms_5_5',\\n       'bathrooms_6_0', 'bathrooms_6_25', 'bathrooms_6_75',\\n       'grade_10_Very_Good', 'grade_11_Excellent', 'grade_12_Luxury',\\n       'grade_13_Mansion', 'grade_3_Poor', 'grade_4_Low', 'grade_5_Fair',\\n       'grade_6_Low_Average', 'grade_7_Average', 'grade_8_Good'],\\n      dtype='object')] are in the [columns]\"",
     "output_type": "error",
     "traceback": [
      "\u001b[0;31m---------------------------------------------------------------------------\u001b[0m",
      "\u001b[0;31mKeyError\u001b[0m                                  Traceback (most recent call last)",
      "\u001b[0;32m<ipython-input-664-af4950137404>\u001b[0m in \u001b[0;36m<module>\u001b[0;34m\u001b[0m\n\u001b[0;32m----> 1\u001b[0;31m \u001b[0mplt\u001b[0m\u001b[0;34m.\u001b[0m\u001b[0mscatter\u001b[0m\u001b[0;34m(\u001b[0m\u001b[0mmodel\u001b[0m\u001b[0;34m.\u001b[0m\u001b[0mpredict\u001b[0m\u001b[0;34m(\u001b[0m\u001b[0mdf_cleaned\u001b[0m\u001b[0;34m[\u001b[0m\u001b[0mx_cols\u001b[0m\u001b[0;34m]\u001b[0m\u001b[0;34m)\u001b[0m\u001b[0;34m,\u001b[0m \u001b[0mmodel\u001b[0m\u001b[0;34m.\u001b[0m\u001b[0mresid\u001b[0m\u001b[0;34m)\u001b[0m\u001b[0;34m\u001b[0m\u001b[0;34m\u001b[0m\u001b[0m\n\u001b[0m\u001b[1;32m      2\u001b[0m \u001b[0mplt\u001b[0m\u001b[0;34m.\u001b[0m\u001b[0mplot\u001b[0m\u001b[0;34m(\u001b[0m\u001b[0mmodel\u001b[0m\u001b[0;34m.\u001b[0m\u001b[0mpredict\u001b[0m\u001b[0;34m(\u001b[0m\u001b[0mdf_cleaned\u001b[0m\u001b[0;34m[\u001b[0m\u001b[0mx_cols\u001b[0m\u001b[0;34m]\u001b[0m\u001b[0;34m)\u001b[0m\u001b[0;34m,\u001b[0m\u001b[0;34m[\u001b[0m\u001b[0;36m0\u001b[0m \u001b[0;32mfor\u001b[0m \u001b[0mi\u001b[0m \u001b[0;32min\u001b[0m \u001b[0mrange\u001b[0m\u001b[0;34m(\u001b[0m\u001b[0mlen\u001b[0m\u001b[0;34m(\u001b[0m\u001b[0mdf_cleaned\u001b[0m\u001b[0;34m)\u001b[0m\u001b[0;34m)\u001b[0m\u001b[0;34m]\u001b[0m\u001b[0;34m)\u001b[0m\u001b[0;34m\u001b[0m\u001b[0;34m\u001b[0m\u001b[0m\n",
      "\u001b[0;32m~/opt/anaconda3/envs/flatiron-env/lib/python3.8/site-packages/pandas/core/frame.py\u001b[0m in \u001b[0;36m__getitem__\u001b[0;34m(self, key)\u001b[0m\n\u001b[1;32m   2906\u001b[0m             \u001b[0;32mif\u001b[0m \u001b[0mis_iterator\u001b[0m\u001b[0;34m(\u001b[0m\u001b[0mkey\u001b[0m\u001b[0;34m)\u001b[0m\u001b[0;34m:\u001b[0m\u001b[0;34m\u001b[0m\u001b[0;34m\u001b[0m\u001b[0m\n\u001b[1;32m   2907\u001b[0m                 \u001b[0mkey\u001b[0m \u001b[0;34m=\u001b[0m \u001b[0mlist\u001b[0m\u001b[0;34m(\u001b[0m\u001b[0mkey\u001b[0m\u001b[0;34m)\u001b[0m\u001b[0;34m\u001b[0m\u001b[0;34m\u001b[0m\u001b[0m\n\u001b[0;32m-> 2908\u001b[0;31m             \u001b[0mindexer\u001b[0m \u001b[0;34m=\u001b[0m \u001b[0mself\u001b[0m\u001b[0;34m.\u001b[0m\u001b[0mloc\u001b[0m\u001b[0;34m.\u001b[0m\u001b[0m_get_listlike_indexer\u001b[0m\u001b[0;34m(\u001b[0m\u001b[0mkey\u001b[0m\u001b[0;34m,\u001b[0m \u001b[0maxis\u001b[0m\u001b[0;34m=\u001b[0m\u001b[0;36m1\u001b[0m\u001b[0;34m,\u001b[0m \u001b[0mraise_missing\u001b[0m\u001b[0;34m=\u001b[0m\u001b[0;32mTrue\u001b[0m\u001b[0;34m)\u001b[0m\u001b[0;34m[\u001b[0m\u001b[0;36m1\u001b[0m\u001b[0;34m]\u001b[0m\u001b[0;34m\u001b[0m\u001b[0;34m\u001b[0m\u001b[0m\n\u001b[0m\u001b[1;32m   2909\u001b[0m \u001b[0;34m\u001b[0m\u001b[0m\n\u001b[1;32m   2910\u001b[0m         \u001b[0;31m# take() does not accept boolean indexers\u001b[0m\u001b[0;34m\u001b[0m\u001b[0;34m\u001b[0m\u001b[0;34m\u001b[0m\u001b[0m\n",
      "\u001b[0;32m~/opt/anaconda3/envs/flatiron-env/lib/python3.8/site-packages/pandas/core/indexing.py\u001b[0m in \u001b[0;36m_get_listlike_indexer\u001b[0;34m(self, key, axis, raise_missing)\u001b[0m\n\u001b[1;32m   1252\u001b[0m             \u001b[0mkeyarr\u001b[0m\u001b[0;34m,\u001b[0m \u001b[0mindexer\u001b[0m\u001b[0;34m,\u001b[0m \u001b[0mnew_indexer\u001b[0m \u001b[0;34m=\u001b[0m \u001b[0max\u001b[0m\u001b[0;34m.\u001b[0m\u001b[0m_reindex_non_unique\u001b[0m\u001b[0;34m(\u001b[0m\u001b[0mkeyarr\u001b[0m\u001b[0;34m)\u001b[0m\u001b[0;34m\u001b[0m\u001b[0;34m\u001b[0m\u001b[0m\n\u001b[1;32m   1253\u001b[0m \u001b[0;34m\u001b[0m\u001b[0m\n\u001b[0;32m-> 1254\u001b[0;31m         \u001b[0mself\u001b[0m\u001b[0;34m.\u001b[0m\u001b[0m_validate_read_indexer\u001b[0m\u001b[0;34m(\u001b[0m\u001b[0mkeyarr\u001b[0m\u001b[0;34m,\u001b[0m \u001b[0mindexer\u001b[0m\u001b[0;34m,\u001b[0m \u001b[0maxis\u001b[0m\u001b[0;34m,\u001b[0m \u001b[0mraise_missing\u001b[0m\u001b[0;34m=\u001b[0m\u001b[0mraise_missing\u001b[0m\u001b[0;34m)\u001b[0m\u001b[0;34m\u001b[0m\u001b[0;34m\u001b[0m\u001b[0m\n\u001b[0m\u001b[1;32m   1255\u001b[0m         \u001b[0;32mreturn\u001b[0m \u001b[0mkeyarr\u001b[0m\u001b[0;34m,\u001b[0m \u001b[0mindexer\u001b[0m\u001b[0;34m\u001b[0m\u001b[0;34m\u001b[0m\u001b[0m\n\u001b[1;32m   1256\u001b[0m \u001b[0;34m\u001b[0m\u001b[0m\n",
      "\u001b[0;32m~/opt/anaconda3/envs/flatiron-env/lib/python3.8/site-packages/pandas/core/indexing.py\u001b[0m in \u001b[0;36m_validate_read_indexer\u001b[0;34m(self, key, indexer, axis, raise_missing)\u001b[0m\n\u001b[1;32m   1296\u001b[0m             \u001b[0;32mif\u001b[0m \u001b[0mmissing\u001b[0m \u001b[0;34m==\u001b[0m \u001b[0mlen\u001b[0m\u001b[0;34m(\u001b[0m\u001b[0mindexer\u001b[0m\u001b[0;34m)\u001b[0m\u001b[0;34m:\u001b[0m\u001b[0;34m\u001b[0m\u001b[0;34m\u001b[0m\u001b[0m\n\u001b[1;32m   1297\u001b[0m                 \u001b[0maxis_name\u001b[0m \u001b[0;34m=\u001b[0m \u001b[0mself\u001b[0m\u001b[0;34m.\u001b[0m\u001b[0mobj\u001b[0m\u001b[0;34m.\u001b[0m\u001b[0m_get_axis_name\u001b[0m\u001b[0;34m(\u001b[0m\u001b[0maxis\u001b[0m\u001b[0;34m)\u001b[0m\u001b[0;34m\u001b[0m\u001b[0;34m\u001b[0m\u001b[0m\n\u001b[0;32m-> 1298\u001b[0;31m                 \u001b[0;32mraise\u001b[0m \u001b[0mKeyError\u001b[0m\u001b[0;34m(\u001b[0m\u001b[0;34mf\"None of [{key}] are in the [{axis_name}]\"\u001b[0m\u001b[0;34m)\u001b[0m\u001b[0;34m\u001b[0m\u001b[0;34m\u001b[0m\u001b[0m\n\u001b[0m\u001b[1;32m   1299\u001b[0m \u001b[0;34m\u001b[0m\u001b[0m\n\u001b[1;32m   1300\u001b[0m             \u001b[0;31m# We (temporarily) allow for some missing keys with .loc, except in\u001b[0m\u001b[0;34m\u001b[0m\u001b[0;34m\u001b[0m\u001b[0;34m\u001b[0m\u001b[0m\n",
      "\u001b[0;31mKeyError\u001b[0m: \"None of [Index(['floors_1_0', 'floors_1_5', 'floors_2_0', 'floors_2_5', 'floors_3_0',\\n       'floors_3_5', 'condition_Average', 'condition_Fair', 'condition_Good',\\n       'condition_Poor', 'condition_Very_Good', 'bedrooms_1', 'bedrooms_2',\\n       'bedrooms_3', 'bedrooms_4', 'bedrooms_5', 'bedrooms_6', 'bedrooms_7',\\n       'bedrooms_8', 'bathrooms_0_5', 'bathrooms_0_75', 'bathrooms_1_0',\\n       'bathrooms_1_25', 'bathrooms_1_5', 'bathrooms_1_75', 'bathrooms_2_0',\\n       'bathrooms_2_25', 'bathrooms_2_5', 'bathrooms_2_75', 'bathrooms_3_0',\\n       'bathrooms_3_25', 'bathrooms_3_5', 'bathrooms_4_0', 'bathrooms_4_25',\\n       'bathrooms_4_75', 'bathrooms_5_0', 'bathrooms_5_25', 'bathrooms_5_5',\\n       'bathrooms_6_0', 'bathrooms_6_25', 'bathrooms_6_75',\\n       'grade_10_Very_Good', 'grade_11_Excellent', 'grade_12_Luxury',\\n       'grade_13_Mansion', 'grade_3_Poor', 'grade_4_Low', 'grade_5_Fair',\\n       'grade_6_Low_Average', 'grade_7_Average', 'grade_8_Good'],\\n      dtype='object')] are in the [columns]\""
     ]
    }
   ],
   "source": [
    "plt.scatter(model.predict(df_cleaned[x_cols]), model.resid)\n",
    "plt.plot(model.predict(df_cleaned[x_cols]),[0 for i in range(len(df_cleaned))])"
   ]
  },
  {
   "cell_type": "markdown",
   "metadata": {},
   "source": [
    "## Data Modeling\n"
   ]
  },
  {
   "cell_type": "markdown",
   "metadata": {},
   "source": [
    "## Model Refinement 3 "
   ]
  },
  {
   "cell_type": "code",
   "execution_count": null,
   "metadata": {
    "ExecuteTime": {
     "end_time": "2022-05-11T20:49:03.107884Z",
     "start_time": "2022-05-11T20:48:33.905Z"
    }
   },
   "outputs": [],
   "source": [
    "#Finding a cutoff point \n",
    "for i in range (90,99):\n",
    "    q = i/100\n",
    "    print('{} percentile:{}'.format(q, normalized_df['price'].quantile(q=q)))"
   ]
  },
  {
   "cell_type": "code",
   "execution_count": null,
   "metadata": {
    "ExecuteTime": {
     "end_time": "2022-05-11T20:49:03.109498Z",
     "start_time": "2022-05-11T20:48:33.909Z"
    }
   },
   "outputs": [],
   "source": [
    "subset = normalized_df[normalized_df['price'] <38]\n",
    "print (\"Percent removed:\", len(normalized_df)- len(subset))/len(normalized_df)\n",
    "outcome = 'price'\n",
    "x_cols = x_cols = ['bathrooms','bedrooms']\n",
    "#change x_cols for refinement model 2 \n",
    "predictors = '+'.join(x_cols)\n",
    "formula = outcome + '~' + predictors \n",
    "model = ols(formula=formula, data=normalized_df).fit()\n",
    "model.summary()"
   ]
  },
  {
   "cell_type": "markdown",
   "metadata": {},
   "source": [
    "## Rechecking Normality "
   ]
  },
  {
   "cell_type": "code",
   "execution_count": null,
   "metadata": {
    "ExecuteTime": {
     "end_time": "2022-05-11T20:49:03.110935Z",
     "start_time": "2022-05-11T20:48:33.913Z"
    }
   },
   "outputs": [],
   "source": [
    "fig = sm.graphics.qqplot(model.resid, dist=stats.norm, line='45', fit=True )"
   ]
  },
  {
   "cell_type": "markdown",
   "metadata": {
    "ExecuteTime": {
     "end_time": "2022-05-06T05:47:54.354951Z",
     "start_time": "2022-05-06T05:47:54.349888Z"
    }
   },
   "source": [
    "## Rechecking Homoscedasticity"
   ]
  },
  {
   "cell_type": "code",
   "execution_count": null,
   "metadata": {
    "ExecuteTime": {
     "end_time": "2022-05-11T20:49:03.112593Z",
     "start_time": "2022-05-11T20:48:33.916Z"
    }
   },
   "outputs": [],
   "source": [
    "plt.scatter(model.predict(normalized_df[x_cols]), model.resid)\n",
    "plt.plot(model.predict(normalized_df[x_cols]),[0 for i in range(len(normalized_df))])"
   ]
  },
  {
   "cell_type": "code",
   "execution_count": null,
   "metadata": {
    "ExecuteTime": {
     "end_time": "2022-05-11T20:49:03.114077Z",
     "start_time": "2022-05-11T20:48:33.921Z"
    }
   },
   "outputs": [],
   "source": [
    "y = normalized_df['price']\n",
    "X = normalized_df.drop('price',axis=1)"
   ]
  },
  {
   "cell_type": "markdown",
   "metadata": {},
   "source": [
    " The prediction target for this analysis is the , so we are going to split the data into two sets fro training and testing "
   ]
  },
  {
   "cell_type": "code",
   "execution_count": null,
   "metadata": {
    "ExecuteTime": {
     "end_time": "2022-05-11T20:49:03.116292Z",
     "start_time": "2022-05-11T20:48:33.925Z"
    }
   },
   "outputs": [],
   "source": [
    "from sklearn.model_selection import train_test_split \n",
    "\n",
    "X_train, X_test, y_train, y_test= train_test_split(X,y, random_state =42)"
   ]
  },
  {
   "cell_type": "markdown",
   "metadata": {},
   "source": [
    "For this project, you will use multiple linear regression modeling to analyze house sales in a northwestern county."
   ]
  },
  {
   "cell_type": "markdown",
   "metadata": {},
   "source": [
    "Key Points"
   ]
  },
  {
   "cell_type": "code",
   "execution_count": null,
   "metadata": {},
   "outputs": [],
   "source": []
  },
  {
   "cell_type": "markdown",
   "metadata": {
    "ExecuteTime": {
     "end_time": "2022-04-26T20:26:02.670090Z",
     "start_time": "2022-04-26T20:26:02.664890Z"
    }
   },
   "source": [
    "## Regression Results "
   ]
  },
  {
   "cell_type": "markdown",
   "metadata": {},
   "source": [
    "## Conclusion\n"
   ]
  },
  {
   "cell_type": "markdown",
   "metadata": {},
   "source": [
    "Recommendations "
   ]
  },
  {
   "cell_type": "markdown",
   "metadata": {
    "ExecuteTime": {
     "end_time": "2022-04-26T20:42:10.636348Z",
     "start_time": "2022-04-26T20:42:10.628816Z"
    }
   },
   "source": [
    "## Next Steps "
   ]
  },
  {
   "cell_type": "markdown",
   "metadata": {},
   "source": []
  },
  {
   "cell_type": "code",
   "execution_count": null,
   "metadata": {},
   "outputs": [],
   "source": []
  }
 ],
 "metadata": {
  "kernelspec": {
   "display_name": "flatiron",
   "language": "python",
   "name": "flatiron-env"
  },
  "language_info": {
   "codemirror_mode": {
    "name": "ipython",
    "version": 3
   },
   "file_extension": ".py",
   "mimetype": "text/x-python",
   "name": "python",
   "nbconvert_exporter": "python",
   "pygments_lexer": "ipython3",
   "version": "3.8.5"
  },
  "toc": {
   "base_numbering": 1,
   "nav_menu": {},
   "number_sections": true,
   "sideBar": true,
   "skip_h1_title": false,
   "title_cell": "Table of Contents",
   "title_sidebar": "Contents",
   "toc_cell": false,
   "toc_position": {},
   "toc_section_display": true,
   "toc_window_display": false
  }
 },
 "nbformat": 4,
 "nbformat_minor": 4
}
